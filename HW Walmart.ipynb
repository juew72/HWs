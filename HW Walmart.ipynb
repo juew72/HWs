{
 "cells": [
  {
   "cell_type": "markdown",
   "metadata": {},
   "source": [
    "## Exercise: \n",
    "\n",
    "You are a data analyst for ASDA Groceries (Walmart's UK subsidiary, https://groceries.asda.com/), looking after the checkout customer experience. A new product manager has started at the company and she asks you to give a short report on the recent performance of the checkout and to give your recommendations on areas of opportunity/concern. You have pulled the attached data from the company’s analytics reporting tool. \n",
    "\n",
    "Background on ASDA Groceries' checkout experience: \n",
    "\n",
    "The company has a 4-step checkout, where every user has to go through each step in order to complete the checkout \n",
    "\n",
    "Step 1 – Before You Go – a page where the user is shown a number of product recommendations based on what they have either previous bought or complementary product to those already in their cart \n",
    "\n",
    "Step 2 – Book A Slot – a page where the user selects the time and day they would like their delivery. Availability and cost of slot here can vary. \n",
    "\n",
    "Step 3 – Select Payment – a page where existing users can select a credit card that was previous used or where new/existing users can add a new credit card to use again an order \n",
    "\n",
    "Step 4 – Order Summary – a page where users can see a summary of their order including order contents, booked slot, payment type and a breakdown of the final cost. This is where a customer places an order \n",
    "\n",
    "For ease of analysis – assume no same user orders more than once in the same day "
   ]
  },
  {
   "cell_type": "markdown",
   "metadata": {},
   "source": [
    "## Task: \n",
    "\n",
    "Run some analysis on the data set and present your top 5 findings to the new product manager.  Please see above User checkout experience. Assuming you can get all the data you want: \n",
    " - What would you measure and how will you make decisions from there? \n",
    " - What would be the top 3 metrics to define the success of the product?  \n",
    " - What would be the dashboards/report you would build to track those? "
   ]
  },
  {
   "cell_type": "code",
   "execution_count": 1,
   "metadata": {},
   "outputs": [],
   "source": [
    "import pandas as pd"
   ]
  },
  {
   "cell_type": "code",
   "execution_count": 2,
   "metadata": {},
   "outputs": [
    {
     "data": {
      "text/html": [
       "<div>\n",
       "<style scoped>\n",
       "    .dataframe tbody tr th:only-of-type {\n",
       "        vertical-align: middle;\n",
       "    }\n",
       "\n",
       "    .dataframe tbody tr th {\n",
       "        vertical-align: top;\n",
       "    }\n",
       "\n",
       "    .dataframe thead th {\n",
       "        text-align: right;\n",
       "    }\n",
       "</style>\n",
       "<table border=\"1\" class=\"dataframe\">\n",
       "  <thead>\n",
       "    <tr style=\"text-align: right;\">\n",
       "      <th></th>\n",
       "      <th>Date</th>\n",
       "      <th>Customer Type</th>\n",
       "      <th>Delivery Type</th>\n",
       "      <th>Device Type</th>\n",
       "      <th>Before You Go Unique Daily Users</th>\n",
       "      <th>Before You Go Cart Adds</th>\n",
       "      <th>Before You Go Total Revenue From Cart Adds</th>\n",
       "      <th>Book Slot Unique Daily Users</th>\n",
       "      <th>Select Payment Unique Daily Users</th>\n",
       "      <th>Order Summary Unique Daily Users</th>\n",
       "      <th>Orders</th>\n",
       "      <th>Revenue</th>\n",
       "    </tr>\n",
       "  </thead>\n",
       "  <tbody>\n",
       "    <tr>\n",
       "      <td>0</td>\n",
       "      <td>2017-09-01</td>\n",
       "      <td>Existing</td>\n",
       "      <td>Store Collection</td>\n",
       "      <td>Desktop</td>\n",
       "      <td>4910</td>\n",
       "      <td>1929</td>\n",
       "      <td>3737</td>\n",
       "      <td>4839</td>\n",
       "      <td>4342</td>\n",
       "      <td>4245</td>\n",
       "      <td>4037</td>\n",
       "      <td>379289.0</td>\n",
       "    </tr>\n",
       "    <tr>\n",
       "      <td>1</td>\n",
       "      <td>2017-09-01</td>\n",
       "      <td>New</td>\n",
       "      <td>Home Delivery</td>\n",
       "      <td>Desktop</td>\n",
       "      <td>4450</td>\n",
       "      <td>1753</td>\n",
       "      <td>2470</td>\n",
       "      <td>4166</td>\n",
       "      <td>3608</td>\n",
       "      <td>3504</td>\n",
       "      <td>3450</td>\n",
       "      <td>311501.0</td>\n",
       "    </tr>\n",
       "    <tr>\n",
       "      <td>2</td>\n",
       "      <td>2017-09-01</td>\n",
       "      <td>New</td>\n",
       "      <td>Store Collection</td>\n",
       "      <td>Desktop</td>\n",
       "      <td>487</td>\n",
       "      <td>148</td>\n",
       "      <td>257</td>\n",
       "      <td>478</td>\n",
       "      <td>452</td>\n",
       "      <td>435</td>\n",
       "      <td>399</td>\n",
       "      <td>36074.0</td>\n",
       "    </tr>\n",
       "    <tr>\n",
       "      <td>3</td>\n",
       "      <td>2017-09-01</td>\n",
       "      <td>New</td>\n",
       "      <td>Home Delivery</td>\n",
       "      <td>Mobile</td>\n",
       "      <td>398</td>\n",
       "      <td>103</td>\n",
       "      <td>153</td>\n",
       "      <td>343</td>\n",
       "      <td>272</td>\n",
       "      <td>261</td>\n",
       "      <td>250</td>\n",
       "      <td>17452.0</td>\n",
       "    </tr>\n",
       "    <tr>\n",
       "      <td>4</td>\n",
       "      <td>2017-09-01</td>\n",
       "      <td>Existing</td>\n",
       "      <td>Store Collection</td>\n",
       "      <td>Mobile</td>\n",
       "      <td>5159</td>\n",
       "      <td>1750</td>\n",
       "      <td>3356</td>\n",
       "      <td>4785</td>\n",
       "      <td>4242</td>\n",
       "      <td>4059</td>\n",
       "      <td>3855</td>\n",
       "      <td>360265.0</td>\n",
       "    </tr>\n",
       "  </tbody>\n",
       "</table>\n",
       "</div>"
      ],
      "text/plain": [
       "        Date Customer Type     Delivery Type Device Type  \\\n",
       "0 2017-09-01      Existing  Store Collection    Desktop    \n",
       "1 2017-09-01           New     Home Delivery    Desktop    \n",
       "2 2017-09-01           New  Store Collection    Desktop    \n",
       "3 2017-09-01           New     Home Delivery     Mobile    \n",
       "4 2017-09-01      Existing  Store Collection     Mobile    \n",
       "\n",
       "   Before You Go Unique Daily Users  Before You Go Cart Adds   \\\n",
       "0                              4910                      1929   \n",
       "1                              4450                      1753   \n",
       "2                               487                       148   \n",
       "3                               398                       103   \n",
       "4                              5159                      1750   \n",
       "\n",
       "   Before You Go Total Revenue From Cart Adds  Book Slot Unique Daily Users  \\\n",
       "0                                        3737                          4839   \n",
       "1                                        2470                          4166   \n",
       "2                                         257                           478   \n",
       "3                                         153                           343   \n",
       "4                                        3356                          4785   \n",
       "\n",
       "   Select Payment Unique Daily Users  Order Summary Unique Daily Users  \\\n",
       "0                               4342                              4245   \n",
       "1                               3608                              3504   \n",
       "2                                452                               435   \n",
       "3                                272                               261   \n",
       "4                               4242                              4059   \n",
       "\n",
       "   Orders   Revenue  \n",
       "0    4037  379289.0  \n",
       "1    3450  311501.0  \n",
       "2     399   36074.0  \n",
       "3     250   17452.0  \n",
       "4    3855  360265.0  "
      ]
     },
     "execution_count": 2,
     "metadata": {},
     "output_type": "execute_result"
    }
   ],
   "source": [
    "df = pd.read_excel('International Data Analyst Take Home Excercise 2.xlsx',\n",
    "                  sheet_name = 'Data')\n",
    "df.head()"
   ]
  },
  {
   "cell_type": "code",
   "execution_count": 3,
   "metadata": {},
   "outputs": [
    {
     "data": {
      "text/plain": [
       "Index(['Date', 'Customer Type', 'Delivery Type', 'Device Type',\n",
       "       'Before You Go Unique Daily Users', 'Before You Go Cart Adds ',\n",
       "       'Before You Go Total Revenue From Cart Adds',\n",
       "       'Book Slot Unique Daily Users', 'Select Payment Unique Daily Users',\n",
       "       'Order Summary Unique Daily Users', 'Orders', 'Revenue'],\n",
       "      dtype='object')"
      ]
     },
     "execution_count": 3,
     "metadata": {},
     "output_type": "execute_result"
    }
   ],
   "source": [
    "df.columns"
   ]
  },
  {
   "cell_type": "code",
   "execution_count": 4,
   "metadata": {},
   "outputs": [],
   "source": [
    "# Run some analysis on the data set and present your top 5 findings to the new product manager.  \n",
    "# Please see above User checkout experience. Assuming you can get all the data you want: \n",
    "# What would you measure and how will you make decisions from there? \n",
    "# What would be the top 3 metrics to define the success of the product?  \n",
    "# What would be the dashboards/report you would build to track those? "
   ]
  },
  {
   "cell_type": "markdown",
   "metadata": {},
   "source": [
    "ATTN: !pip install plotly"
   ]
  },
  {
   "cell_type": "markdown",
   "metadata": {},
   "source": [
    "## Customer Type vs Revenue"
   ]
  },
  {
   "cell_type": "code",
   "execution_count": 5,
   "metadata": {},
   "outputs": [
    {
     "data": {
      "text/html": [
       "<div>\n",
       "<style scoped>\n",
       "    .dataframe tbody tr th:only-of-type {\n",
       "        vertical-align: middle;\n",
       "    }\n",
       "\n",
       "    .dataframe tbody tr th {\n",
       "        vertical-align: top;\n",
       "    }\n",
       "\n",
       "    .dataframe thead th {\n",
       "        text-align: right;\n",
       "    }\n",
       "</style>\n",
       "<table border=\"1\" class=\"dataframe\">\n",
       "  <thead>\n",
       "    <tr style=\"text-align: right;\">\n",
       "      <th></th>\n",
       "      <th>Revenue</th>\n",
       "      <th>percentage</th>\n",
       "    </tr>\n",
       "    <tr>\n",
       "      <th>Customer Type</th>\n",
       "      <th></th>\n",
       "      <th></th>\n",
       "    </tr>\n",
       "  </thead>\n",
       "  <tbody>\n",
       "    <tr>\n",
       "      <td>Existing</td>\n",
       "      <td>1.176188e+08</td>\n",
       "      <td>91.772794</td>\n",
       "    </tr>\n",
       "    <tr>\n",
       "      <td>New</td>\n",
       "      <td>1.054424e+07</td>\n",
       "      <td>8.227206</td>\n",
       "    </tr>\n",
       "  </tbody>\n",
       "</table>\n",
       "</div>"
      ],
      "text/plain": [
       "                    Revenue  percentage\n",
       "Customer Type                          \n",
       "Existing       1.176188e+08   91.772794\n",
       "New            1.054424e+07    8.227206"
      ]
     },
     "execution_count": 5,
     "metadata": {},
     "output_type": "execute_result"
    }
   ],
   "source": [
    "df_customer = df.groupby(['Customer Type']).sum()\n",
    "df_customer['percentage'] = (df_customer['Revenue']/df_customer['Revenue'].sum()) * 100\n",
    "df_customer[['Revenue', 'percentage']]"
   ]
  },
  {
   "cell_type": "code",
   "execution_count": 15,
   "metadata": {},
   "outputs": [
    {
     "data": {
      "application/vnd.plotly.v1+json": {
       "config": {
        "plotlyServerURL": "https://plot.ly"
       },
       "data": [
        {
         "hoverlabel": {
          "namelength": 0
         },
         "hovertemplate": "Customer Type=Existing<br>Revenue=%{marker.size}<br>Before You Go Total Revenue From Cart Adds=%{y}",
         "legendgroup": "Existing",
         "marker": {
          "color": "#636efa",
          "size": [
           379289,
           360265,
           1608022,
           1652713,
           350621,
           1711522,
           361158,
           1662204,
           344095,
           1634720,
           1666715,
           376697,
           373562,
           1606280,
           1710571,
           347254,
           341851,
           374268,
           1650728,
           1741320,
           1311503.2,
           362007,
           274612,
           1672010,
           359112,
           1679160,
           362010,
           1554484,
           1691311,
           1536876,
           375244,
           352986,
           359325,
           358630,
           1558109,
           1649252,
           1601690,
           356755,
           379813,
           1686104,
           1573287,
           349612,
           355773,
           1732054,
           1597619,
           347930,
           367985,
           1709779,
           1652184,
           362014,
           354459,
           1719307,
           372953,
           1636097,
           1743548,
           362969,
           1617451,
           349933,
           1751864,
           383745,
           1612672,
           373574,
           1754791,
           345381,
           379234,
           1636065,
           353845,
           1585956,
           367856,
           1601516,
           1672969,
           353856,
           1674399,
           373425,
           341255,
           1539996,
           342058,
           1558898,
           1685574,
           358445,
           1551763.28,
           340187.88,
           1541537.96,
           329021.62,
           357858,
           328238.6,
           1520031.7,
           1590664.24,
           1499865.88,
           1632545,
           360198.6,
           340364.6,
           340988.76,
           1464108.28,
           1559010.68,
           346539.46,
           1470504.98,
           1615483.06,
           342118.64,
           325412.96,
           358955.92,
           326323.82,
           1457955.98,
           1531560.8,
           1535797.38,
           1534545.3,
           322007.34,
           343609.48,
           326410.3,
           359798.16,
           1466968.7,
           1546003.9,
           321216.8,
           361283.36,
           1650209.48,
           1503809.18,
           1545057.32,
           337834.12,
           323263.18,
           1622578.18
          ],
          "sizemode": "area",
          "sizeref": 4386.9775,
          "symbol": "circle"
         },
         "mode": "markers",
         "name": "Existing",
         "showlegend": true,
         "type": "scatter",
         "x": [
          379289,
          360265,
          1608022,
          1652713,
          350621,
          1711522,
          361158,
          1662204,
          344095,
          1634720,
          1666715,
          376697,
          373562,
          1606280,
          1710571,
          347254,
          341851,
          374268,
          1650728,
          1741320,
          1311503.2,
          362007,
          274612,
          1672010,
          359112,
          1679160,
          362010,
          1554484,
          1691311,
          1536876,
          375244,
          352986,
          359325,
          358630,
          1558109,
          1649252,
          1601690,
          356755,
          379813,
          1686104,
          1573287,
          349612,
          355773,
          1732054,
          1597619,
          347930,
          367985,
          1709779,
          1652184,
          362014,
          354459,
          1719307,
          372953,
          1636097,
          1743548,
          362969,
          1617451,
          349933,
          1751864,
          383745,
          1612672,
          373574,
          1754791,
          345381,
          379234,
          1636065,
          353845,
          1585956,
          367856,
          1601516,
          1672969,
          353856,
          1674399,
          373425,
          341255,
          1539996,
          342058,
          1558898,
          1685574,
          358445,
          1551763.28,
          340187.88,
          1541537.96,
          329021.62,
          357858,
          328238.6,
          1520031.7,
          1590664.24,
          1499865.88,
          1632545,
          360198.6,
          340364.6,
          340988.76,
          1464108.28,
          1559010.68,
          346539.46,
          1470504.98,
          1615483.06,
          342118.64,
          325412.96,
          358955.92,
          326323.82,
          1457955.98,
          1531560.8,
          1535797.38,
          1534545.3,
          322007.34,
          343609.48,
          326410.3,
          359798.16,
          1466968.7,
          1546003.9,
          321216.8,
          361283.36,
          1650209.48,
          1503809.18,
          1545057.32,
          337834.12,
          323263.18,
          1622578.18
         ],
         "xaxis": "x",
         "y": [
          3737,
          3356,
          13190,
          15198,
          3194,
          15373,
          3715,
          12678,
          3415,
          13259,
          15014,
          3758,
          3695,
          13271,
          14521,
          3432,
          3335,
          3800,
          13036,
          14609,
          12787,
          3914,
          3215,
          14752,
          3348,
          15444,
          3923,
          13288,
          14796,
          13201,
          3767,
          3420,
          3416,
          3773,
          12662,
          15434,
          13048,
          3404,
          3724,
          14548,
          12918,
          3422,
          3928,
          14624,
          12648,
          3251,
          3712,
          15540,
          13384,
          3698,
          3240,
          15076,
          3739,
          13392,
          14474,
          3211,
          12952,
          3220,
          14743,
          3725,
          12795,
          3794,
          14903,
          3218,
          3891,
          15501,
          3374,
          12563,
          3941,
          12975,
          14624,
          3384,
          15299,
          3935,
          3200,
          12916,
          3267,
          12792,
          14831,
          3813,
          15079,
          4170,
          16271,
          3813,
          4124,
          3693,
          14334,
          16125,
          15099,
          16829,
          4229,
          3819,
          3781,
          14077,
          16955,
          4164,
          14657,
          16970,
          4125,
          3813,
          4109,
          3644,
          15128,
          16808,
          14365,
          16793,
          3735,
          4217,
          3724,
          4304,
          14900,
          17113,
          3700,
          4124,
          16142,
          15137,
          14165,
          4176,
          3709,
          17302
         ],
         "yaxis": "y"
        },
        {
         "alignmentgroup": "True",
         "hoverlabel": {
          "namelength": 0
         },
         "hovertemplate": "Customer Type=Existing<br>Revenue=%{x}",
         "legendgroup": "Existing",
         "marker": {
          "color": "#636efa",
          "symbol": "circle"
         },
         "name": "Existing",
         "notched": true,
         "offsetgroup": "Existing",
         "showlegend": false,
         "type": "box",
         "x": [
          379289,
          360265,
          1608022,
          1652713,
          350621,
          1711522,
          361158,
          1662204,
          344095,
          1634720,
          1666715,
          376697,
          373562,
          1606280,
          1710571,
          347254,
          341851,
          374268,
          1650728,
          1741320,
          1311503.2,
          362007,
          274612,
          1672010,
          359112,
          1679160,
          362010,
          1554484,
          1691311,
          1536876,
          375244,
          352986,
          359325,
          358630,
          1558109,
          1649252,
          1601690,
          356755,
          379813,
          1686104,
          1573287,
          349612,
          355773,
          1732054,
          1597619,
          347930,
          367985,
          1709779,
          1652184,
          362014,
          354459,
          1719307,
          372953,
          1636097,
          1743548,
          362969,
          1617451,
          349933,
          1751864,
          383745,
          1612672,
          373574,
          1754791,
          345381,
          379234,
          1636065,
          353845,
          1585956,
          367856,
          1601516,
          1672969,
          353856,
          1674399,
          373425,
          341255,
          1539996,
          342058,
          1558898,
          1685574,
          358445,
          1551763.28,
          340187.88,
          1541537.96,
          329021.62,
          357858,
          328238.6,
          1520031.7,
          1590664.24,
          1499865.88,
          1632545,
          360198.6,
          340364.6,
          340988.76,
          1464108.28,
          1559010.68,
          346539.46,
          1470504.98,
          1615483.06,
          342118.64,
          325412.96,
          358955.92,
          326323.82,
          1457955.98,
          1531560.8,
          1535797.38,
          1534545.3,
          322007.34,
          343609.48,
          326410.3,
          359798.16,
          1466968.7,
          1546003.9,
          321216.8,
          361283.36,
          1650209.48,
          1503809.18,
          1545057.32,
          337834.12,
          323263.18,
          1622578.18
         ],
         "xaxis": "x3",
         "yaxis": "y3"
        },
        {
         "alignmentgroup": "True",
         "hoverlabel": {
          "namelength": 0
         },
         "hovertemplate": "Customer Type=Existing<br>Before You Go Total Revenue From Cart Adds=%{y}",
         "legendgroup": "Existing",
         "marker": {
          "color": "#636efa",
          "symbol": "circle"
         },
         "name": "Existing",
         "offsetgroup": "Existing",
         "scalegroup": "y",
         "showlegend": false,
         "type": "violin",
         "xaxis": "x2",
         "y": [
          3737,
          3356,
          13190,
          15198,
          3194,
          15373,
          3715,
          12678,
          3415,
          13259,
          15014,
          3758,
          3695,
          13271,
          14521,
          3432,
          3335,
          3800,
          13036,
          14609,
          12787,
          3914,
          3215,
          14752,
          3348,
          15444,
          3923,
          13288,
          14796,
          13201,
          3767,
          3420,
          3416,
          3773,
          12662,
          15434,
          13048,
          3404,
          3724,
          14548,
          12918,
          3422,
          3928,
          14624,
          12648,
          3251,
          3712,
          15540,
          13384,
          3698,
          3240,
          15076,
          3739,
          13392,
          14474,
          3211,
          12952,
          3220,
          14743,
          3725,
          12795,
          3794,
          14903,
          3218,
          3891,
          15501,
          3374,
          12563,
          3941,
          12975,
          14624,
          3384,
          15299,
          3935,
          3200,
          12916,
          3267,
          12792,
          14831,
          3813,
          15079,
          4170,
          16271,
          3813,
          4124,
          3693,
          14334,
          16125,
          15099,
          16829,
          4229,
          3819,
          3781,
          14077,
          16955,
          4164,
          14657,
          16970,
          4125,
          3813,
          4109,
          3644,
          15128,
          16808,
          14365,
          16793,
          3735,
          4217,
          3724,
          4304,
          14900,
          17113,
          3700,
          4124,
          16142,
          15137,
          14165,
          4176,
          3709,
          17302
         ],
         "yaxis": "y2"
        },
        {
         "hoverlabel": {
          "namelength": 0
         },
         "hovertemplate": "Customer Type=New<br>Revenue=%{marker.size}<br>Before You Go Total Revenue From Cart Adds=%{y}",
         "legendgroup": "New",
         "marker": {
          "color": "#EF553B",
          "size": [
           311501,
           36074,
           17452,
           3112,
           17998,
           297092,
           35261,
           2950,
           292852,
           33748,
           2976,
           17903,
           2989,
           35003,
           310812,
           18647,
           35598,
           300402,
           17938,
           3073,
           301839,
           34555,
           2162.4,
           13630.4,
           35233,
           18632,
           3112,
           299517,
           35948,
           301247,
           2891,
           18171,
           302349,
           33648,
           18224,
           2995,
           34947,
           301497,
           18464,
           2989,
           310222,
           17782,
           35426,
           2906,
           34160,
           2915,
           304225,
           18163,
           290951,
           18044,
           2994,
           35836,
           2967,
           33934,
           291319,
           17637,
           34518,
           18107,
           3086,
           308599,
           303433,
           34103,
           17920,
           2960,
           303105,
           35954,
           3027,
           18641,
           34120,
           304530,
           3089,
           18711,
           35206,
           311822,
           2963,
           17402,
           33961,
           311847,
           2965,
           18239,
           284648.92,
           32987.42,
           16628.6,
           2757.02,
           289155.28,
           32663.12,
           2854.78,
           16849.5,
           31992.9,
           2739.16,
           16933.16,
           292486.64,
           32143.3,
           278371.6,
           2843.5,
           17430.42,
           32074.68,
           17185.08,
           278649.84,
           2765.48,
           33190.46,
           2716.6,
           281237.66,
           17065.7,
           32007,
           2816.24,
           284137.56,
           17060.06,
           33678.32,
           288397.64,
           2707.2,
           17161.58,
           33871.96,
           2914.94,
           283044.34,
           17424.78,
           33836.24,
           283876.24,
           16951.02,
           2761.72
          ],
          "sizemode": "area",
          "sizeref": 4386.9775,
          "symbol": "circle"
         },
         "mode": "markers",
         "name": "New",
         "showlegend": true,
         "type": "scatter",
         "x": [
          311501,
          36074,
          17452,
          3112,
          17998,
          297092,
          35261,
          2950,
          292852,
          33748,
          2976,
          17903,
          2989,
          35003,
          310812,
          18647,
          35598,
          300402,
          17938,
          3073,
          301839,
          34555,
          2162.4,
          13630.4,
          35233,
          18632,
          3112,
          299517,
          35948,
          301247,
          2891,
          18171,
          302349,
          33648,
          18224,
          2995,
          34947,
          301497,
          18464,
          2989,
          310222,
          17782,
          35426,
          2906,
          34160,
          2915,
          304225,
          18163,
          290951,
          18044,
          2994,
          35836,
          2967,
          33934,
          291319,
          17637,
          34518,
          18107,
          3086,
          308599,
          303433,
          34103,
          17920,
          2960,
          303105,
          35954,
          3027,
          18641,
          34120,
          304530,
          3089,
          18711,
          35206,
          311822,
          2963,
          17402,
          33961,
          311847,
          2965,
          18239,
          284648.92,
          32987.42,
          16628.6,
          2757.02,
          289155.28,
          32663.12,
          2854.78,
          16849.5,
          31992.9,
          2739.16,
          16933.16,
          292486.64,
          32143.3,
          278371.6,
          2843.5,
          17430.42,
          32074.68,
          17185.08,
          278649.84,
          2765.48,
          33190.46,
          2716.6,
          281237.66,
          17065.7,
          32007,
          2816.24,
          284137.56,
          17060.06,
          33678.32,
          288397.64,
          2707.2,
          17161.58,
          33871.96,
          2914.94,
          283044.34,
          17424.78,
          33836.24,
          283876.24,
          16951.02,
          2761.72
         ],
         "xaxis": "x",
         "y": [
          2470,
          257,
          153,
          20,
          146,
          2566,
          261,
          20,
          2484,
          250,
          20,
          145,
          20,
          259,
          2529,
          144,
          264,
          2415,
          150,
          20,
          2486,
          251,
          20,
          144,
          259,
          147,
          20,
          2497,
          259,
          2546,
          20,
          155,
          2476,
          255,
          148,
          20,
          254,
          2508,
          152,
          20,
          2462,
          145,
          262,
          20,
          260,
          20,
          2588,
          156,
          2541,
          155,
          20,
          269,
          20,
          255,
          2435,
          149,
          260,
          146,
          20,
          2551,
          2459,
          254,
          146,
          20,
          2474,
          258,
          20,
          151,
          268,
          2427,
          20,
          155,
          266,
          2422,
          20,
          153,
          264,
          2567,
          20,
          149,
          2832,
          292,
          163,
          23,
          2835,
          302,
          23,
          167,
          298,
          23,
          162,
          2866,
          284,
          2810,
          23,
          163,
          293,
          174,
          2857,
          23,
          292,
          23,
          2745,
          163,
          298,
          23,
          2856,
          166,
          287,
          2851,
          23,
          169,
          295,
          23,
          2733,
          171,
          287,
          2709,
          161,
          23
         ],
         "yaxis": "y"
        },
        {
         "alignmentgroup": "True",
         "hoverlabel": {
          "namelength": 0
         },
         "hovertemplate": "Customer Type=New<br>Revenue=%{x}",
         "legendgroup": "New",
         "marker": {
          "color": "#EF553B",
          "symbol": "circle"
         },
         "name": "New",
         "notched": true,
         "offsetgroup": "New",
         "showlegend": false,
         "type": "box",
         "x": [
          311501,
          36074,
          17452,
          3112,
          17998,
          297092,
          35261,
          2950,
          292852,
          33748,
          2976,
          17903,
          2989,
          35003,
          310812,
          18647,
          35598,
          300402,
          17938,
          3073,
          301839,
          34555,
          2162.4,
          13630.4,
          35233,
          18632,
          3112,
          299517,
          35948,
          301247,
          2891,
          18171,
          302349,
          33648,
          18224,
          2995,
          34947,
          301497,
          18464,
          2989,
          310222,
          17782,
          35426,
          2906,
          34160,
          2915,
          304225,
          18163,
          290951,
          18044,
          2994,
          35836,
          2967,
          33934,
          291319,
          17637,
          34518,
          18107,
          3086,
          308599,
          303433,
          34103,
          17920,
          2960,
          303105,
          35954,
          3027,
          18641,
          34120,
          304530,
          3089,
          18711,
          35206,
          311822,
          2963,
          17402,
          33961,
          311847,
          2965,
          18239,
          284648.92,
          32987.42,
          16628.6,
          2757.02,
          289155.28,
          32663.12,
          2854.78,
          16849.5,
          31992.9,
          2739.16,
          16933.16,
          292486.64,
          32143.3,
          278371.6,
          2843.5,
          17430.42,
          32074.68,
          17185.08,
          278649.84,
          2765.48,
          33190.46,
          2716.6,
          281237.66,
          17065.7,
          32007,
          2816.24,
          284137.56,
          17060.06,
          33678.32,
          288397.64,
          2707.2,
          17161.58,
          33871.96,
          2914.94,
          283044.34,
          17424.78,
          33836.24,
          283876.24,
          16951.02,
          2761.72
         ],
         "xaxis": "x3",
         "yaxis": "y3"
        },
        {
         "alignmentgroup": "True",
         "hoverlabel": {
          "namelength": 0
         },
         "hovertemplate": "Customer Type=New<br>Before You Go Total Revenue From Cart Adds=%{y}",
         "legendgroup": "New",
         "marker": {
          "color": "#EF553B",
          "symbol": "circle"
         },
         "name": "New",
         "offsetgroup": "New",
         "scalegroup": "y",
         "showlegend": false,
         "type": "violin",
         "xaxis": "x2",
         "y": [
          2470,
          257,
          153,
          20,
          146,
          2566,
          261,
          20,
          2484,
          250,
          20,
          145,
          20,
          259,
          2529,
          144,
          264,
          2415,
          150,
          20,
          2486,
          251,
          20,
          144,
          259,
          147,
          20,
          2497,
          259,
          2546,
          20,
          155,
          2476,
          255,
          148,
          20,
          254,
          2508,
          152,
          20,
          2462,
          145,
          262,
          20,
          260,
          20,
          2588,
          156,
          2541,
          155,
          20,
          269,
          20,
          255,
          2435,
          149,
          260,
          146,
          20,
          2551,
          2459,
          254,
          146,
          20,
          2474,
          258,
          20,
          151,
          268,
          2427,
          20,
          155,
          266,
          2422,
          20,
          153,
          264,
          2567,
          20,
          149,
          2832,
          292,
          163,
          23,
          2835,
          302,
          23,
          167,
          298,
          23,
          162,
          2866,
          284,
          2810,
          23,
          163,
          293,
          174,
          2857,
          23,
          292,
          23,
          2745,
          163,
          298,
          23,
          2856,
          166,
          287,
          2851,
          23,
          169,
          295,
          23,
          2733,
          171,
          287,
          2709,
          161,
          23
         ],
         "yaxis": "y2"
        }
       ],
       "layout": {
        "legend": {
         "itemsizing": "constant",
         "title": {
          "text": "Customer Type"
         },
         "tracegroupgap": 0
        },
        "margin": {
         "t": 60
        },
        "template": {
         "data": {
          "bar": [
           {
            "error_x": {
             "color": "#2a3f5f"
            },
            "error_y": {
             "color": "#2a3f5f"
            },
            "marker": {
             "line": {
              "color": "#E5ECF6",
              "width": 0.5
             }
            },
            "type": "bar"
           }
          ],
          "barpolar": [
           {
            "marker": {
             "line": {
              "color": "#E5ECF6",
              "width": 0.5
             }
            },
            "type": "barpolar"
           }
          ],
          "carpet": [
           {
            "aaxis": {
             "endlinecolor": "#2a3f5f",
             "gridcolor": "white",
             "linecolor": "white",
             "minorgridcolor": "white",
             "startlinecolor": "#2a3f5f"
            },
            "baxis": {
             "endlinecolor": "#2a3f5f",
             "gridcolor": "white",
             "linecolor": "white",
             "minorgridcolor": "white",
             "startlinecolor": "#2a3f5f"
            },
            "type": "carpet"
           }
          ],
          "choropleth": [
           {
            "colorbar": {
             "outlinewidth": 0,
             "ticks": ""
            },
            "type": "choropleth"
           }
          ],
          "contour": [
           {
            "colorbar": {
             "outlinewidth": 0,
             "ticks": ""
            },
            "colorscale": [
             [
              0,
              "#0d0887"
             ],
             [
              0.1111111111111111,
              "#46039f"
             ],
             [
              0.2222222222222222,
              "#7201a8"
             ],
             [
              0.3333333333333333,
              "#9c179e"
             ],
             [
              0.4444444444444444,
              "#bd3786"
             ],
             [
              0.5555555555555556,
              "#d8576b"
             ],
             [
              0.6666666666666666,
              "#ed7953"
             ],
             [
              0.7777777777777778,
              "#fb9f3a"
             ],
             [
              0.8888888888888888,
              "#fdca26"
             ],
             [
              1,
              "#f0f921"
             ]
            ],
            "type": "contour"
           }
          ],
          "contourcarpet": [
           {
            "colorbar": {
             "outlinewidth": 0,
             "ticks": ""
            },
            "type": "contourcarpet"
           }
          ],
          "heatmap": [
           {
            "colorbar": {
             "outlinewidth": 0,
             "ticks": ""
            },
            "colorscale": [
             [
              0,
              "#0d0887"
             ],
             [
              0.1111111111111111,
              "#46039f"
             ],
             [
              0.2222222222222222,
              "#7201a8"
             ],
             [
              0.3333333333333333,
              "#9c179e"
             ],
             [
              0.4444444444444444,
              "#bd3786"
             ],
             [
              0.5555555555555556,
              "#d8576b"
             ],
             [
              0.6666666666666666,
              "#ed7953"
             ],
             [
              0.7777777777777778,
              "#fb9f3a"
             ],
             [
              0.8888888888888888,
              "#fdca26"
             ],
             [
              1,
              "#f0f921"
             ]
            ],
            "type": "heatmap"
           }
          ],
          "heatmapgl": [
           {
            "colorbar": {
             "outlinewidth": 0,
             "ticks": ""
            },
            "colorscale": [
             [
              0,
              "#0d0887"
             ],
             [
              0.1111111111111111,
              "#46039f"
             ],
             [
              0.2222222222222222,
              "#7201a8"
             ],
             [
              0.3333333333333333,
              "#9c179e"
             ],
             [
              0.4444444444444444,
              "#bd3786"
             ],
             [
              0.5555555555555556,
              "#d8576b"
             ],
             [
              0.6666666666666666,
              "#ed7953"
             ],
             [
              0.7777777777777778,
              "#fb9f3a"
             ],
             [
              0.8888888888888888,
              "#fdca26"
             ],
             [
              1,
              "#f0f921"
             ]
            ],
            "type": "heatmapgl"
           }
          ],
          "histogram": [
           {
            "marker": {
             "colorbar": {
              "outlinewidth": 0,
              "ticks": ""
             }
            },
            "type": "histogram"
           }
          ],
          "histogram2d": [
           {
            "colorbar": {
             "outlinewidth": 0,
             "ticks": ""
            },
            "colorscale": [
             [
              0,
              "#0d0887"
             ],
             [
              0.1111111111111111,
              "#46039f"
             ],
             [
              0.2222222222222222,
              "#7201a8"
             ],
             [
              0.3333333333333333,
              "#9c179e"
             ],
             [
              0.4444444444444444,
              "#bd3786"
             ],
             [
              0.5555555555555556,
              "#d8576b"
             ],
             [
              0.6666666666666666,
              "#ed7953"
             ],
             [
              0.7777777777777778,
              "#fb9f3a"
             ],
             [
              0.8888888888888888,
              "#fdca26"
             ],
             [
              1,
              "#f0f921"
             ]
            ],
            "type": "histogram2d"
           }
          ],
          "histogram2dcontour": [
           {
            "colorbar": {
             "outlinewidth": 0,
             "ticks": ""
            },
            "colorscale": [
             [
              0,
              "#0d0887"
             ],
             [
              0.1111111111111111,
              "#46039f"
             ],
             [
              0.2222222222222222,
              "#7201a8"
             ],
             [
              0.3333333333333333,
              "#9c179e"
             ],
             [
              0.4444444444444444,
              "#bd3786"
             ],
             [
              0.5555555555555556,
              "#d8576b"
             ],
             [
              0.6666666666666666,
              "#ed7953"
             ],
             [
              0.7777777777777778,
              "#fb9f3a"
             ],
             [
              0.8888888888888888,
              "#fdca26"
             ],
             [
              1,
              "#f0f921"
             ]
            ],
            "type": "histogram2dcontour"
           }
          ],
          "mesh3d": [
           {
            "colorbar": {
             "outlinewidth": 0,
             "ticks": ""
            },
            "type": "mesh3d"
           }
          ],
          "parcoords": [
           {
            "line": {
             "colorbar": {
              "outlinewidth": 0,
              "ticks": ""
             }
            },
            "type": "parcoords"
           }
          ],
          "pie": [
           {
            "automargin": true,
            "type": "pie"
           }
          ],
          "scatter": [
           {
            "marker": {
             "colorbar": {
              "outlinewidth": 0,
              "ticks": ""
             }
            },
            "type": "scatter"
           }
          ],
          "scatter3d": [
           {
            "line": {
             "colorbar": {
              "outlinewidth": 0,
              "ticks": ""
             }
            },
            "marker": {
             "colorbar": {
              "outlinewidth": 0,
              "ticks": ""
             }
            },
            "type": "scatter3d"
           }
          ],
          "scattercarpet": [
           {
            "marker": {
             "colorbar": {
              "outlinewidth": 0,
              "ticks": ""
             }
            },
            "type": "scattercarpet"
           }
          ],
          "scattergeo": [
           {
            "marker": {
             "colorbar": {
              "outlinewidth": 0,
              "ticks": ""
             }
            },
            "type": "scattergeo"
           }
          ],
          "scattergl": [
           {
            "marker": {
             "colorbar": {
              "outlinewidth": 0,
              "ticks": ""
             }
            },
            "type": "scattergl"
           }
          ],
          "scattermapbox": [
           {
            "marker": {
             "colorbar": {
              "outlinewidth": 0,
              "ticks": ""
             }
            },
            "type": "scattermapbox"
           }
          ],
          "scatterpolar": [
           {
            "marker": {
             "colorbar": {
              "outlinewidth": 0,
              "ticks": ""
             }
            },
            "type": "scatterpolar"
           }
          ],
          "scatterpolargl": [
           {
            "marker": {
             "colorbar": {
              "outlinewidth": 0,
              "ticks": ""
             }
            },
            "type": "scatterpolargl"
           }
          ],
          "scatterternary": [
           {
            "marker": {
             "colorbar": {
              "outlinewidth": 0,
              "ticks": ""
             }
            },
            "type": "scatterternary"
           }
          ],
          "surface": [
           {
            "colorbar": {
             "outlinewidth": 0,
             "ticks": ""
            },
            "colorscale": [
             [
              0,
              "#0d0887"
             ],
             [
              0.1111111111111111,
              "#46039f"
             ],
             [
              0.2222222222222222,
              "#7201a8"
             ],
             [
              0.3333333333333333,
              "#9c179e"
             ],
             [
              0.4444444444444444,
              "#bd3786"
             ],
             [
              0.5555555555555556,
              "#d8576b"
             ],
             [
              0.6666666666666666,
              "#ed7953"
             ],
             [
              0.7777777777777778,
              "#fb9f3a"
             ],
             [
              0.8888888888888888,
              "#fdca26"
             ],
             [
              1,
              "#f0f921"
             ]
            ],
            "type": "surface"
           }
          ],
          "table": [
           {
            "cells": {
             "fill": {
              "color": "#EBF0F8"
             },
             "line": {
              "color": "white"
             }
            },
            "header": {
             "fill": {
              "color": "#C8D4E3"
             },
             "line": {
              "color": "white"
             }
            },
            "type": "table"
           }
          ]
         },
         "layout": {
          "annotationdefaults": {
           "arrowcolor": "#2a3f5f",
           "arrowhead": 0,
           "arrowwidth": 1
          },
          "coloraxis": {
           "colorbar": {
            "outlinewidth": 0,
            "ticks": ""
           }
          },
          "colorscale": {
           "diverging": [
            [
             0,
             "#8e0152"
            ],
            [
             0.1,
             "#c51b7d"
            ],
            [
             0.2,
             "#de77ae"
            ],
            [
             0.3,
             "#f1b6da"
            ],
            [
             0.4,
             "#fde0ef"
            ],
            [
             0.5,
             "#f7f7f7"
            ],
            [
             0.6,
             "#e6f5d0"
            ],
            [
             0.7,
             "#b8e186"
            ],
            [
             0.8,
             "#7fbc41"
            ],
            [
             0.9,
             "#4d9221"
            ],
            [
             1,
             "#276419"
            ]
           ],
           "sequential": [
            [
             0,
             "#0d0887"
            ],
            [
             0.1111111111111111,
             "#46039f"
            ],
            [
             0.2222222222222222,
             "#7201a8"
            ],
            [
             0.3333333333333333,
             "#9c179e"
            ],
            [
             0.4444444444444444,
             "#bd3786"
            ],
            [
             0.5555555555555556,
             "#d8576b"
            ],
            [
             0.6666666666666666,
             "#ed7953"
            ],
            [
             0.7777777777777778,
             "#fb9f3a"
            ],
            [
             0.8888888888888888,
             "#fdca26"
            ],
            [
             1,
             "#f0f921"
            ]
           ],
           "sequentialminus": [
            [
             0,
             "#0d0887"
            ],
            [
             0.1111111111111111,
             "#46039f"
            ],
            [
             0.2222222222222222,
             "#7201a8"
            ],
            [
             0.3333333333333333,
             "#9c179e"
            ],
            [
             0.4444444444444444,
             "#bd3786"
            ],
            [
             0.5555555555555556,
             "#d8576b"
            ],
            [
             0.6666666666666666,
             "#ed7953"
            ],
            [
             0.7777777777777778,
             "#fb9f3a"
            ],
            [
             0.8888888888888888,
             "#fdca26"
            ],
            [
             1,
             "#f0f921"
            ]
           ]
          },
          "colorway": [
           "#636efa",
           "#EF553B",
           "#00cc96",
           "#ab63fa",
           "#FFA15A",
           "#19d3f3",
           "#FF6692",
           "#B6E880",
           "#FF97FF",
           "#FECB52"
          ],
          "font": {
           "color": "#2a3f5f"
          },
          "geo": {
           "bgcolor": "white",
           "lakecolor": "white",
           "landcolor": "#E5ECF6",
           "showlakes": true,
           "showland": true,
           "subunitcolor": "white"
          },
          "hoverlabel": {
           "align": "left"
          },
          "hovermode": "closest",
          "mapbox": {
           "style": "light"
          },
          "paper_bgcolor": "white",
          "plot_bgcolor": "#E5ECF6",
          "polar": {
           "angularaxis": {
            "gridcolor": "white",
            "linecolor": "white",
            "ticks": ""
           },
           "bgcolor": "#E5ECF6",
           "radialaxis": {
            "gridcolor": "white",
            "linecolor": "white",
            "ticks": ""
           }
          },
          "scene": {
           "xaxis": {
            "backgroundcolor": "#E5ECF6",
            "gridcolor": "white",
            "gridwidth": 2,
            "linecolor": "white",
            "showbackground": true,
            "ticks": "",
            "zerolinecolor": "white"
           },
           "yaxis": {
            "backgroundcolor": "#E5ECF6",
            "gridcolor": "white",
            "gridwidth": 2,
            "linecolor": "white",
            "showbackground": true,
            "ticks": "",
            "zerolinecolor": "white"
           },
           "zaxis": {
            "backgroundcolor": "#E5ECF6",
            "gridcolor": "white",
            "gridwidth": 2,
            "linecolor": "white",
            "showbackground": true,
            "ticks": "",
            "zerolinecolor": "white"
           }
          },
          "shapedefaults": {
           "line": {
            "color": "#2a3f5f"
           }
          },
          "ternary": {
           "aaxis": {
            "gridcolor": "white",
            "linecolor": "white",
            "ticks": ""
           },
           "baxis": {
            "gridcolor": "white",
            "linecolor": "white",
            "ticks": ""
           },
           "bgcolor": "#E5ECF6",
           "caxis": {
            "gridcolor": "white",
            "linecolor": "white",
            "ticks": ""
           }
          },
          "title": {
           "x": 0.05
          },
          "xaxis": {
           "automargin": true,
           "gridcolor": "white",
           "linecolor": "white",
           "ticks": "",
           "title": {
            "standoff": 15
           },
           "zerolinecolor": "white",
           "zerolinewidth": 2
          },
          "yaxis": {
           "automargin": true,
           "gridcolor": "white",
           "linecolor": "white",
           "ticks": "",
           "title": {
            "standoff": 15
           },
           "zerolinecolor": "white",
           "zerolinewidth": 2
          }
         }
        },
        "xaxis": {
         "anchor": "y",
         "domain": [
          0,
          0.7363
         ],
         "title": {
          "text": "Revenue"
         }
        },
        "xaxis2": {
         "anchor": "y2",
         "domain": [
          0.7413,
          1
         ],
         "matches": "x2",
         "showgrid": false,
         "showline": false,
         "showticklabels": false,
         "ticks": ""
        },
        "xaxis3": {
         "anchor": "y3",
         "domain": [
          0,
          0.7363
         ],
         "matches": "x",
         "showgrid": true,
         "showticklabels": false
        },
        "xaxis4": {
         "anchor": "y4",
         "domain": [
          0.7413,
          1
         ],
         "matches": "x2",
         "showgrid": false,
         "showline": false,
         "showticklabels": false,
         "ticks": ""
        },
        "yaxis": {
         "anchor": "x",
         "domain": [
          0,
          0.7326
         ],
         "title": {
          "text": "Before You Go Total Revenue From Cart Adds"
         }
        },
        "yaxis2": {
         "anchor": "x2",
         "domain": [
          0,
          0.7326
         ],
         "matches": "y",
         "showgrid": true,
         "showticklabels": false
        },
        "yaxis3": {
         "anchor": "x3",
         "domain": [
          0.7426,
          1
         ],
         "matches": "y3",
         "showgrid": false,
         "showline": false,
         "showticklabels": false,
         "ticks": ""
        },
        "yaxis4": {
         "anchor": "x4",
         "domain": [
          0.7426,
          1
         ],
         "matches": "y3",
         "showgrid": true,
         "showline": false,
         "showticklabels": false,
         "ticks": ""
        }
       }
      },
      "text/html": [
       "<div>\n",
       "        \n",
       "        \n",
       "            <div id=\"c3926e78-6b0a-4110-a2fa-dd58620d53ea\" class=\"plotly-graph-div\" style=\"height:525px; width:100%;\"></div>\n",
       "            <script type=\"text/javascript\">\n",
       "                require([\"plotly\"], function(Plotly) {\n",
       "                    window.PLOTLYENV=window.PLOTLYENV || {};\n",
       "                    \n",
       "                if (document.getElementById(\"c3926e78-6b0a-4110-a2fa-dd58620d53ea\")) {\n",
       "                    Plotly.newPlot(\n",
       "                        'c3926e78-6b0a-4110-a2fa-dd58620d53ea',\n",
       "                        [{\"hoverlabel\": {\"namelength\": 0}, \"hovertemplate\": \"Customer Type=Existing<br>Revenue=%{marker.size}<br>Before You Go Total Revenue From Cart Adds=%{y}\", \"legendgroup\": \"Existing\", \"marker\": {\"color\": \"#636efa\", \"size\": [379289.0, 360265.0, 1608022.0, 1652713.0, 350621.0, 1711522.0, 361158.0, 1662204.0, 344095.0, 1634720.0, 1666715.0, 376697.0, 373562.0, 1606280.0, 1710571.0, 347254.0, 341851.0, 374268.0, 1650728.0, 1741320.0, 1311503.2, 362007.0, 274612.0, 1672010.0, 359112.0, 1679160.0, 362010.0, 1554484.0, 1691311.0, 1536876.0, 375244.0, 352986.0, 359325.0, 358630.0, 1558109.0, 1649252.0, 1601690.0, 356755.0, 379813.0, 1686104.0, 1573287.0, 349612.0, 355773.0, 1732054.0, 1597619.0, 347930.0, 367985.0, 1709779.0, 1652184.0, 362014.0, 354459.0, 1719307.0, 372953.0, 1636097.0, 1743548.0, 362969.0, 1617451.0, 349933.0, 1751864.0, 383745.0, 1612672.0, 373574.0, 1754791.0, 345381.0, 379234.0, 1636065.0, 353845.0, 1585956.0, 367856.0, 1601516.0, 1672969.0, 353856.0, 1674399.0, 373425.0, 341255.0, 1539996.0, 342058.0, 1558898.0, 1685574.0, 358445.0, 1551763.28, 340187.88, 1541537.96, 329021.62, 357858.0, 328238.6, 1520031.7, 1590664.24, 1499865.88, 1632545.0, 360198.6, 340364.6, 340988.76, 1464108.28, 1559010.68, 346539.46, 1470504.98, 1615483.06, 342118.64, 325412.96, 358955.92, 326323.82, 1457955.98, 1531560.8, 1535797.38, 1534545.3, 322007.34, 343609.48, 326410.3, 359798.16, 1466968.7, 1546003.9, 321216.8, 361283.36, 1650209.48, 1503809.18, 1545057.32, 337834.12, 323263.18, 1622578.18], \"sizemode\": \"area\", \"sizeref\": 4386.9775, \"symbol\": \"circle\"}, \"mode\": \"markers\", \"name\": \"Existing\", \"showlegend\": true, \"type\": \"scatter\", \"x\": [379289.0, 360265.0, 1608022.0, 1652713.0, 350621.0, 1711522.0, 361158.0, 1662204.0, 344095.0, 1634720.0, 1666715.0, 376697.0, 373562.0, 1606280.0, 1710571.0, 347254.0, 341851.0, 374268.0, 1650728.0, 1741320.0, 1311503.2, 362007.0, 274612.0, 1672010.0, 359112.0, 1679160.0, 362010.0, 1554484.0, 1691311.0, 1536876.0, 375244.0, 352986.0, 359325.0, 358630.0, 1558109.0, 1649252.0, 1601690.0, 356755.0, 379813.0, 1686104.0, 1573287.0, 349612.0, 355773.0, 1732054.0, 1597619.0, 347930.0, 367985.0, 1709779.0, 1652184.0, 362014.0, 354459.0, 1719307.0, 372953.0, 1636097.0, 1743548.0, 362969.0, 1617451.0, 349933.0, 1751864.0, 383745.0, 1612672.0, 373574.0, 1754791.0, 345381.0, 379234.0, 1636065.0, 353845.0, 1585956.0, 367856.0, 1601516.0, 1672969.0, 353856.0, 1674399.0, 373425.0, 341255.0, 1539996.0, 342058.0, 1558898.0, 1685574.0, 358445.0, 1551763.28, 340187.88, 1541537.96, 329021.62, 357858.0, 328238.6, 1520031.7, 1590664.24, 1499865.88, 1632545.0, 360198.6, 340364.6, 340988.76, 1464108.28, 1559010.68, 346539.46, 1470504.98, 1615483.06, 342118.64, 325412.96, 358955.92, 326323.82, 1457955.98, 1531560.8, 1535797.38, 1534545.3, 322007.34, 343609.48, 326410.3, 359798.16, 1466968.7, 1546003.9, 321216.8, 361283.36, 1650209.48, 1503809.18, 1545057.32, 337834.12, 323263.18, 1622578.18], \"xaxis\": \"x\", \"y\": [3737, 3356, 13190, 15198, 3194, 15373, 3715, 12678, 3415, 13259, 15014, 3758, 3695, 13271, 14521, 3432, 3335, 3800, 13036, 14609, 12787, 3914, 3215, 14752, 3348, 15444, 3923, 13288, 14796, 13201, 3767, 3420, 3416, 3773, 12662, 15434, 13048, 3404, 3724, 14548, 12918, 3422, 3928, 14624, 12648, 3251, 3712, 15540, 13384, 3698, 3240, 15076, 3739, 13392, 14474, 3211, 12952, 3220, 14743, 3725, 12795, 3794, 14903, 3218, 3891, 15501, 3374, 12563, 3941, 12975, 14624, 3384, 15299, 3935, 3200, 12916, 3267, 12792, 14831, 3813, 15079, 4170, 16271, 3813, 4124, 3693, 14334, 16125, 15099, 16829, 4229, 3819, 3781, 14077, 16955, 4164, 14657, 16970, 4125, 3813, 4109, 3644, 15128, 16808, 14365, 16793, 3735, 4217, 3724, 4304, 14900, 17113, 3700, 4124, 16142, 15137, 14165, 4176, 3709, 17302], \"yaxis\": \"y\"}, {\"alignmentgroup\": \"True\", \"hoverlabel\": {\"namelength\": 0}, \"hovertemplate\": \"Customer Type=Existing<br>Revenue=%{x}\", \"legendgroup\": \"Existing\", \"marker\": {\"color\": \"#636efa\", \"symbol\": \"circle\"}, \"name\": \"Existing\", \"notched\": true, \"offsetgroup\": \"Existing\", \"showlegend\": false, \"type\": \"box\", \"x\": [379289.0, 360265.0, 1608022.0, 1652713.0, 350621.0, 1711522.0, 361158.0, 1662204.0, 344095.0, 1634720.0, 1666715.0, 376697.0, 373562.0, 1606280.0, 1710571.0, 347254.0, 341851.0, 374268.0, 1650728.0, 1741320.0, 1311503.2, 362007.0, 274612.0, 1672010.0, 359112.0, 1679160.0, 362010.0, 1554484.0, 1691311.0, 1536876.0, 375244.0, 352986.0, 359325.0, 358630.0, 1558109.0, 1649252.0, 1601690.0, 356755.0, 379813.0, 1686104.0, 1573287.0, 349612.0, 355773.0, 1732054.0, 1597619.0, 347930.0, 367985.0, 1709779.0, 1652184.0, 362014.0, 354459.0, 1719307.0, 372953.0, 1636097.0, 1743548.0, 362969.0, 1617451.0, 349933.0, 1751864.0, 383745.0, 1612672.0, 373574.0, 1754791.0, 345381.0, 379234.0, 1636065.0, 353845.0, 1585956.0, 367856.0, 1601516.0, 1672969.0, 353856.0, 1674399.0, 373425.0, 341255.0, 1539996.0, 342058.0, 1558898.0, 1685574.0, 358445.0, 1551763.28, 340187.88, 1541537.96, 329021.62, 357858.0, 328238.6, 1520031.7, 1590664.24, 1499865.88, 1632545.0, 360198.6, 340364.6, 340988.76, 1464108.28, 1559010.68, 346539.46, 1470504.98, 1615483.06, 342118.64, 325412.96, 358955.92, 326323.82, 1457955.98, 1531560.8, 1535797.38, 1534545.3, 322007.34, 343609.48, 326410.3, 359798.16, 1466968.7, 1546003.9, 321216.8, 361283.36, 1650209.48, 1503809.18, 1545057.32, 337834.12, 323263.18, 1622578.18], \"xaxis\": \"x3\", \"yaxis\": \"y3\"}, {\"alignmentgroup\": \"True\", \"hoverlabel\": {\"namelength\": 0}, \"hovertemplate\": \"Customer Type=Existing<br>Before You Go Total Revenue From Cart Adds=%{y}\", \"legendgroup\": \"Existing\", \"marker\": {\"color\": \"#636efa\", \"symbol\": \"circle\"}, \"name\": \"Existing\", \"offsetgroup\": \"Existing\", \"scalegroup\": \"y\", \"showlegend\": false, \"type\": \"violin\", \"xaxis\": \"x2\", \"y\": [3737, 3356, 13190, 15198, 3194, 15373, 3715, 12678, 3415, 13259, 15014, 3758, 3695, 13271, 14521, 3432, 3335, 3800, 13036, 14609, 12787, 3914, 3215, 14752, 3348, 15444, 3923, 13288, 14796, 13201, 3767, 3420, 3416, 3773, 12662, 15434, 13048, 3404, 3724, 14548, 12918, 3422, 3928, 14624, 12648, 3251, 3712, 15540, 13384, 3698, 3240, 15076, 3739, 13392, 14474, 3211, 12952, 3220, 14743, 3725, 12795, 3794, 14903, 3218, 3891, 15501, 3374, 12563, 3941, 12975, 14624, 3384, 15299, 3935, 3200, 12916, 3267, 12792, 14831, 3813, 15079, 4170, 16271, 3813, 4124, 3693, 14334, 16125, 15099, 16829, 4229, 3819, 3781, 14077, 16955, 4164, 14657, 16970, 4125, 3813, 4109, 3644, 15128, 16808, 14365, 16793, 3735, 4217, 3724, 4304, 14900, 17113, 3700, 4124, 16142, 15137, 14165, 4176, 3709, 17302], \"yaxis\": \"y2\"}, {\"hoverlabel\": {\"namelength\": 0}, \"hovertemplate\": \"Customer Type=New<br>Revenue=%{marker.size}<br>Before You Go Total Revenue From Cart Adds=%{y}\", \"legendgroup\": \"New\", \"marker\": {\"color\": \"#EF553B\", \"size\": [311501.0, 36074.0, 17452.0, 3112.0, 17998.0, 297092.0, 35261.0, 2950.0, 292852.0, 33748.0, 2976.0, 17903.0, 2989.0, 35003.0, 310812.0, 18647.0, 35598.0, 300402.0, 17938.0, 3073.0, 301839.0, 34555.0, 2162.4, 13630.4, 35233.0, 18632.0, 3112.0, 299517.0, 35948.0, 301247.0, 2891.0, 18171.0, 302349.0, 33648.0, 18224.0, 2995.0, 34947.0, 301497.0, 18464.0, 2989.0, 310222.0, 17782.0, 35426.0, 2906.0, 34160.0, 2915.0, 304225.0, 18163.0, 290951.0, 18044.0, 2994.0, 35836.0, 2967.0, 33934.0, 291319.0, 17637.0, 34518.0, 18107.0, 3086.0, 308599.0, 303433.0, 34103.0, 17920.0, 2960.0, 303105.0, 35954.0, 3027.0, 18641.0, 34120.0, 304530.0, 3089.0, 18711.0, 35206.0, 311822.0, 2963.0, 17402.0, 33961.0, 311847.0, 2965.0, 18239.0, 284648.92, 32987.42, 16628.6, 2757.02, 289155.28, 32663.12, 2854.78, 16849.5, 31992.9, 2739.16, 16933.16, 292486.64, 32143.3, 278371.6, 2843.5, 17430.42, 32074.68, 17185.08, 278649.84, 2765.48, 33190.46, 2716.6, 281237.66, 17065.7, 32007.0, 2816.24, 284137.56, 17060.06, 33678.32, 288397.64, 2707.2, 17161.58, 33871.96, 2914.94, 283044.34, 17424.78, 33836.24, 283876.24, 16951.02, 2761.72], \"sizemode\": \"area\", \"sizeref\": 4386.9775, \"symbol\": \"circle\"}, \"mode\": \"markers\", \"name\": \"New\", \"showlegend\": true, \"type\": \"scatter\", \"x\": [311501.0, 36074.0, 17452.0, 3112.0, 17998.0, 297092.0, 35261.0, 2950.0, 292852.0, 33748.0, 2976.0, 17903.0, 2989.0, 35003.0, 310812.0, 18647.0, 35598.0, 300402.0, 17938.0, 3073.0, 301839.0, 34555.0, 2162.4, 13630.4, 35233.0, 18632.0, 3112.0, 299517.0, 35948.0, 301247.0, 2891.0, 18171.0, 302349.0, 33648.0, 18224.0, 2995.0, 34947.0, 301497.0, 18464.0, 2989.0, 310222.0, 17782.0, 35426.0, 2906.0, 34160.0, 2915.0, 304225.0, 18163.0, 290951.0, 18044.0, 2994.0, 35836.0, 2967.0, 33934.0, 291319.0, 17637.0, 34518.0, 18107.0, 3086.0, 308599.0, 303433.0, 34103.0, 17920.0, 2960.0, 303105.0, 35954.0, 3027.0, 18641.0, 34120.0, 304530.0, 3089.0, 18711.0, 35206.0, 311822.0, 2963.0, 17402.0, 33961.0, 311847.0, 2965.0, 18239.0, 284648.92, 32987.42, 16628.6, 2757.02, 289155.28, 32663.12, 2854.78, 16849.5, 31992.9, 2739.16, 16933.16, 292486.64, 32143.3, 278371.6, 2843.5, 17430.42, 32074.68, 17185.08, 278649.84, 2765.48, 33190.46, 2716.6, 281237.66, 17065.7, 32007.0, 2816.24, 284137.56, 17060.06, 33678.32, 288397.64, 2707.2, 17161.58, 33871.96, 2914.94, 283044.34, 17424.78, 33836.24, 283876.24, 16951.02, 2761.72], \"xaxis\": \"x\", \"y\": [2470, 257, 153, 20, 146, 2566, 261, 20, 2484, 250, 20, 145, 20, 259, 2529, 144, 264, 2415, 150, 20, 2486, 251, 20, 144, 259, 147, 20, 2497, 259, 2546, 20, 155, 2476, 255, 148, 20, 254, 2508, 152, 20, 2462, 145, 262, 20, 260, 20, 2588, 156, 2541, 155, 20, 269, 20, 255, 2435, 149, 260, 146, 20, 2551, 2459, 254, 146, 20, 2474, 258, 20, 151, 268, 2427, 20, 155, 266, 2422, 20, 153, 264, 2567, 20, 149, 2832, 292, 163, 23, 2835, 302, 23, 167, 298, 23, 162, 2866, 284, 2810, 23, 163, 293, 174, 2857, 23, 292, 23, 2745, 163, 298, 23, 2856, 166, 287, 2851, 23, 169, 295, 23, 2733, 171, 287, 2709, 161, 23], \"yaxis\": \"y\"}, {\"alignmentgroup\": \"True\", \"hoverlabel\": {\"namelength\": 0}, \"hovertemplate\": \"Customer Type=New<br>Revenue=%{x}\", \"legendgroup\": \"New\", \"marker\": {\"color\": \"#EF553B\", \"symbol\": \"circle\"}, \"name\": \"New\", \"notched\": true, \"offsetgroup\": \"New\", \"showlegend\": false, \"type\": \"box\", \"x\": [311501.0, 36074.0, 17452.0, 3112.0, 17998.0, 297092.0, 35261.0, 2950.0, 292852.0, 33748.0, 2976.0, 17903.0, 2989.0, 35003.0, 310812.0, 18647.0, 35598.0, 300402.0, 17938.0, 3073.0, 301839.0, 34555.0, 2162.4, 13630.4, 35233.0, 18632.0, 3112.0, 299517.0, 35948.0, 301247.0, 2891.0, 18171.0, 302349.0, 33648.0, 18224.0, 2995.0, 34947.0, 301497.0, 18464.0, 2989.0, 310222.0, 17782.0, 35426.0, 2906.0, 34160.0, 2915.0, 304225.0, 18163.0, 290951.0, 18044.0, 2994.0, 35836.0, 2967.0, 33934.0, 291319.0, 17637.0, 34518.0, 18107.0, 3086.0, 308599.0, 303433.0, 34103.0, 17920.0, 2960.0, 303105.0, 35954.0, 3027.0, 18641.0, 34120.0, 304530.0, 3089.0, 18711.0, 35206.0, 311822.0, 2963.0, 17402.0, 33961.0, 311847.0, 2965.0, 18239.0, 284648.92, 32987.42, 16628.6, 2757.02, 289155.28, 32663.12, 2854.78, 16849.5, 31992.9, 2739.16, 16933.16, 292486.64, 32143.3, 278371.6, 2843.5, 17430.42, 32074.68, 17185.08, 278649.84, 2765.48, 33190.46, 2716.6, 281237.66, 17065.7, 32007.0, 2816.24, 284137.56, 17060.06, 33678.32, 288397.64, 2707.2, 17161.58, 33871.96, 2914.94, 283044.34, 17424.78, 33836.24, 283876.24, 16951.02, 2761.72], \"xaxis\": \"x3\", \"yaxis\": \"y3\"}, {\"alignmentgroup\": \"True\", \"hoverlabel\": {\"namelength\": 0}, \"hovertemplate\": \"Customer Type=New<br>Before You Go Total Revenue From Cart Adds=%{y}\", \"legendgroup\": \"New\", \"marker\": {\"color\": \"#EF553B\", \"symbol\": \"circle\"}, \"name\": \"New\", \"offsetgroup\": \"New\", \"scalegroup\": \"y\", \"showlegend\": false, \"type\": \"violin\", \"xaxis\": \"x2\", \"y\": [2470, 257, 153, 20, 146, 2566, 261, 20, 2484, 250, 20, 145, 20, 259, 2529, 144, 264, 2415, 150, 20, 2486, 251, 20, 144, 259, 147, 20, 2497, 259, 2546, 20, 155, 2476, 255, 148, 20, 254, 2508, 152, 20, 2462, 145, 262, 20, 260, 20, 2588, 156, 2541, 155, 20, 269, 20, 255, 2435, 149, 260, 146, 20, 2551, 2459, 254, 146, 20, 2474, 258, 20, 151, 268, 2427, 20, 155, 266, 2422, 20, 153, 264, 2567, 20, 149, 2832, 292, 163, 23, 2835, 302, 23, 167, 298, 23, 162, 2866, 284, 2810, 23, 163, 293, 174, 2857, 23, 292, 23, 2745, 163, 298, 23, 2856, 166, 287, 2851, 23, 169, 295, 23, 2733, 171, 287, 2709, 161, 23], \"yaxis\": \"y2\"}],\n",
       "                        {\"legend\": {\"itemsizing\": \"constant\", \"title\": {\"text\": \"Customer Type\"}, \"tracegroupgap\": 0}, \"margin\": {\"t\": 60}, \"template\": {\"data\": {\"bar\": [{\"error_x\": {\"color\": \"#2a3f5f\"}, \"error_y\": {\"color\": \"#2a3f5f\"}, \"marker\": {\"line\": {\"color\": \"#E5ECF6\", \"width\": 0.5}}, \"type\": \"bar\"}], \"barpolar\": [{\"marker\": {\"line\": {\"color\": \"#E5ECF6\", \"width\": 0.5}}, \"type\": \"barpolar\"}], \"carpet\": [{\"aaxis\": {\"endlinecolor\": \"#2a3f5f\", \"gridcolor\": \"white\", \"linecolor\": \"white\", \"minorgridcolor\": \"white\", \"startlinecolor\": \"#2a3f5f\"}, \"baxis\": {\"endlinecolor\": \"#2a3f5f\", \"gridcolor\": \"white\", \"linecolor\": \"white\", \"minorgridcolor\": \"white\", \"startlinecolor\": \"#2a3f5f\"}, \"type\": \"carpet\"}], \"choropleth\": [{\"colorbar\": {\"outlinewidth\": 0, \"ticks\": \"\"}, \"type\": \"choropleth\"}], \"contour\": [{\"colorbar\": {\"outlinewidth\": 0, \"ticks\": \"\"}, \"colorscale\": [[0.0, \"#0d0887\"], [0.1111111111111111, \"#46039f\"], [0.2222222222222222, \"#7201a8\"], [0.3333333333333333, \"#9c179e\"], [0.4444444444444444, \"#bd3786\"], [0.5555555555555556, \"#d8576b\"], [0.6666666666666666, \"#ed7953\"], [0.7777777777777778, \"#fb9f3a\"], [0.8888888888888888, \"#fdca26\"], [1.0, \"#f0f921\"]], \"type\": \"contour\"}], \"contourcarpet\": [{\"colorbar\": {\"outlinewidth\": 0, \"ticks\": \"\"}, \"type\": \"contourcarpet\"}], \"heatmap\": [{\"colorbar\": {\"outlinewidth\": 0, \"ticks\": \"\"}, \"colorscale\": [[0.0, \"#0d0887\"], [0.1111111111111111, \"#46039f\"], [0.2222222222222222, \"#7201a8\"], [0.3333333333333333, \"#9c179e\"], [0.4444444444444444, \"#bd3786\"], [0.5555555555555556, \"#d8576b\"], [0.6666666666666666, \"#ed7953\"], [0.7777777777777778, \"#fb9f3a\"], [0.8888888888888888, \"#fdca26\"], [1.0, \"#f0f921\"]], \"type\": \"heatmap\"}], \"heatmapgl\": [{\"colorbar\": {\"outlinewidth\": 0, \"ticks\": \"\"}, \"colorscale\": [[0.0, \"#0d0887\"], [0.1111111111111111, \"#46039f\"], [0.2222222222222222, \"#7201a8\"], [0.3333333333333333, \"#9c179e\"], [0.4444444444444444, \"#bd3786\"], [0.5555555555555556, \"#d8576b\"], [0.6666666666666666, \"#ed7953\"], [0.7777777777777778, \"#fb9f3a\"], [0.8888888888888888, \"#fdca26\"], [1.0, \"#f0f921\"]], \"type\": \"heatmapgl\"}], \"histogram\": [{\"marker\": {\"colorbar\": {\"outlinewidth\": 0, \"ticks\": \"\"}}, \"type\": \"histogram\"}], \"histogram2d\": [{\"colorbar\": {\"outlinewidth\": 0, \"ticks\": \"\"}, \"colorscale\": [[0.0, \"#0d0887\"], [0.1111111111111111, \"#46039f\"], [0.2222222222222222, \"#7201a8\"], [0.3333333333333333, \"#9c179e\"], [0.4444444444444444, \"#bd3786\"], [0.5555555555555556, \"#d8576b\"], [0.6666666666666666, \"#ed7953\"], [0.7777777777777778, \"#fb9f3a\"], [0.8888888888888888, \"#fdca26\"], [1.0, \"#f0f921\"]], \"type\": \"histogram2d\"}], \"histogram2dcontour\": [{\"colorbar\": {\"outlinewidth\": 0, \"ticks\": \"\"}, \"colorscale\": [[0.0, \"#0d0887\"], [0.1111111111111111, \"#46039f\"], [0.2222222222222222, \"#7201a8\"], [0.3333333333333333, \"#9c179e\"], [0.4444444444444444, \"#bd3786\"], [0.5555555555555556, \"#d8576b\"], [0.6666666666666666, \"#ed7953\"], [0.7777777777777778, \"#fb9f3a\"], [0.8888888888888888, \"#fdca26\"], [1.0, \"#f0f921\"]], \"type\": \"histogram2dcontour\"}], \"mesh3d\": [{\"colorbar\": {\"outlinewidth\": 0, \"ticks\": \"\"}, \"type\": \"mesh3d\"}], \"parcoords\": [{\"line\": {\"colorbar\": {\"outlinewidth\": 0, \"ticks\": \"\"}}, \"type\": \"parcoords\"}], \"pie\": [{\"automargin\": true, \"type\": \"pie\"}], \"scatter\": [{\"marker\": {\"colorbar\": {\"outlinewidth\": 0, \"ticks\": \"\"}}, \"type\": \"scatter\"}], \"scatter3d\": [{\"line\": {\"colorbar\": {\"outlinewidth\": 0, \"ticks\": \"\"}}, \"marker\": {\"colorbar\": {\"outlinewidth\": 0, \"ticks\": \"\"}}, \"type\": \"scatter3d\"}], \"scattercarpet\": [{\"marker\": {\"colorbar\": {\"outlinewidth\": 0, \"ticks\": \"\"}}, \"type\": \"scattercarpet\"}], \"scattergeo\": [{\"marker\": {\"colorbar\": {\"outlinewidth\": 0, \"ticks\": \"\"}}, \"type\": \"scattergeo\"}], \"scattergl\": [{\"marker\": {\"colorbar\": {\"outlinewidth\": 0, \"ticks\": \"\"}}, \"type\": \"scattergl\"}], \"scattermapbox\": [{\"marker\": {\"colorbar\": {\"outlinewidth\": 0, \"ticks\": \"\"}}, \"type\": \"scattermapbox\"}], \"scatterpolar\": [{\"marker\": {\"colorbar\": {\"outlinewidth\": 0, \"ticks\": \"\"}}, \"type\": \"scatterpolar\"}], \"scatterpolargl\": [{\"marker\": {\"colorbar\": {\"outlinewidth\": 0, \"ticks\": \"\"}}, \"type\": \"scatterpolargl\"}], \"scatterternary\": [{\"marker\": {\"colorbar\": {\"outlinewidth\": 0, \"ticks\": \"\"}}, \"type\": \"scatterternary\"}], \"surface\": [{\"colorbar\": {\"outlinewidth\": 0, \"ticks\": \"\"}, \"colorscale\": [[0.0, \"#0d0887\"], [0.1111111111111111, \"#46039f\"], [0.2222222222222222, \"#7201a8\"], [0.3333333333333333, \"#9c179e\"], [0.4444444444444444, \"#bd3786\"], [0.5555555555555556, \"#d8576b\"], [0.6666666666666666, \"#ed7953\"], [0.7777777777777778, \"#fb9f3a\"], [0.8888888888888888, \"#fdca26\"], [1.0, \"#f0f921\"]], \"type\": \"surface\"}], \"table\": [{\"cells\": {\"fill\": {\"color\": \"#EBF0F8\"}, \"line\": {\"color\": \"white\"}}, \"header\": {\"fill\": {\"color\": \"#C8D4E3\"}, \"line\": {\"color\": \"white\"}}, \"type\": \"table\"}]}, \"layout\": {\"annotationdefaults\": {\"arrowcolor\": \"#2a3f5f\", \"arrowhead\": 0, \"arrowwidth\": 1}, \"coloraxis\": {\"colorbar\": {\"outlinewidth\": 0, \"ticks\": \"\"}}, \"colorscale\": {\"diverging\": [[0, \"#8e0152\"], [0.1, \"#c51b7d\"], [0.2, \"#de77ae\"], [0.3, \"#f1b6da\"], [0.4, \"#fde0ef\"], [0.5, \"#f7f7f7\"], [0.6, \"#e6f5d0\"], [0.7, \"#b8e186\"], [0.8, \"#7fbc41\"], [0.9, \"#4d9221\"], [1, \"#276419\"]], \"sequential\": [[0.0, \"#0d0887\"], [0.1111111111111111, \"#46039f\"], [0.2222222222222222, \"#7201a8\"], [0.3333333333333333, \"#9c179e\"], [0.4444444444444444, \"#bd3786\"], [0.5555555555555556, \"#d8576b\"], [0.6666666666666666, \"#ed7953\"], [0.7777777777777778, \"#fb9f3a\"], [0.8888888888888888, \"#fdca26\"], [1.0, \"#f0f921\"]], \"sequentialminus\": [[0.0, \"#0d0887\"], [0.1111111111111111, \"#46039f\"], [0.2222222222222222, \"#7201a8\"], [0.3333333333333333, \"#9c179e\"], [0.4444444444444444, \"#bd3786\"], [0.5555555555555556, \"#d8576b\"], [0.6666666666666666, \"#ed7953\"], [0.7777777777777778, \"#fb9f3a\"], [0.8888888888888888, \"#fdca26\"], [1.0, \"#f0f921\"]]}, \"colorway\": [\"#636efa\", \"#EF553B\", \"#00cc96\", \"#ab63fa\", \"#FFA15A\", \"#19d3f3\", \"#FF6692\", \"#B6E880\", \"#FF97FF\", \"#FECB52\"], \"font\": {\"color\": \"#2a3f5f\"}, \"geo\": {\"bgcolor\": \"white\", \"lakecolor\": \"white\", \"landcolor\": \"#E5ECF6\", \"showlakes\": true, \"showland\": true, \"subunitcolor\": \"white\"}, \"hoverlabel\": {\"align\": \"left\"}, \"hovermode\": \"closest\", \"mapbox\": {\"style\": \"light\"}, \"paper_bgcolor\": \"white\", \"plot_bgcolor\": \"#E5ECF6\", \"polar\": {\"angularaxis\": {\"gridcolor\": \"white\", \"linecolor\": \"white\", \"ticks\": \"\"}, \"bgcolor\": \"#E5ECF6\", \"radialaxis\": {\"gridcolor\": \"white\", \"linecolor\": \"white\", \"ticks\": \"\"}}, \"scene\": {\"xaxis\": {\"backgroundcolor\": \"#E5ECF6\", \"gridcolor\": \"white\", \"gridwidth\": 2, \"linecolor\": \"white\", \"showbackground\": true, \"ticks\": \"\", \"zerolinecolor\": \"white\"}, \"yaxis\": {\"backgroundcolor\": \"#E5ECF6\", \"gridcolor\": \"white\", \"gridwidth\": 2, \"linecolor\": \"white\", \"showbackground\": true, \"ticks\": \"\", \"zerolinecolor\": \"white\"}, \"zaxis\": {\"backgroundcolor\": \"#E5ECF6\", \"gridcolor\": \"white\", \"gridwidth\": 2, \"linecolor\": \"white\", \"showbackground\": true, \"ticks\": \"\", \"zerolinecolor\": \"white\"}}, \"shapedefaults\": {\"line\": {\"color\": \"#2a3f5f\"}}, \"ternary\": {\"aaxis\": {\"gridcolor\": \"white\", \"linecolor\": \"white\", \"ticks\": \"\"}, \"baxis\": {\"gridcolor\": \"white\", \"linecolor\": \"white\", \"ticks\": \"\"}, \"bgcolor\": \"#E5ECF6\", \"caxis\": {\"gridcolor\": \"white\", \"linecolor\": \"white\", \"ticks\": \"\"}}, \"title\": {\"x\": 0.05}, \"xaxis\": {\"automargin\": true, \"gridcolor\": \"white\", \"linecolor\": \"white\", \"ticks\": \"\", \"title\": {\"standoff\": 15}, \"zerolinecolor\": \"white\", \"zerolinewidth\": 2}, \"yaxis\": {\"automargin\": true, \"gridcolor\": \"white\", \"linecolor\": \"white\", \"ticks\": \"\", \"title\": {\"standoff\": 15}, \"zerolinecolor\": \"white\", \"zerolinewidth\": 2}}}, \"xaxis\": {\"anchor\": \"y\", \"domain\": [0.0, 0.7363], \"title\": {\"text\": \"Revenue\"}}, \"xaxis2\": {\"anchor\": \"y2\", \"domain\": [0.7413, 1.0], \"matches\": \"x2\", \"showgrid\": false, \"showline\": false, \"showticklabels\": false, \"ticks\": \"\"}, \"xaxis3\": {\"anchor\": \"y3\", \"domain\": [0.0, 0.7363], \"matches\": \"x\", \"showgrid\": true, \"showticklabels\": false}, \"xaxis4\": {\"anchor\": \"y4\", \"domain\": [0.7413, 1.0], \"matches\": \"x2\", \"showgrid\": false, \"showline\": false, \"showticklabels\": false, \"ticks\": \"\"}, \"yaxis\": {\"anchor\": \"x\", \"domain\": [0.0, 0.7326], \"title\": {\"text\": \"Before You Go Total Revenue From Cart Adds\"}}, \"yaxis2\": {\"anchor\": \"x2\", \"domain\": [0.0, 0.7326], \"matches\": \"y\", \"showgrid\": true, \"showticklabels\": false}, \"yaxis3\": {\"anchor\": \"x3\", \"domain\": [0.7426, 1.0], \"matches\": \"y3\", \"showgrid\": false, \"showline\": false, \"showticklabels\": false, \"ticks\": \"\"}, \"yaxis4\": {\"anchor\": \"x4\", \"domain\": [0.7426, 1.0], \"matches\": \"y3\", \"showgrid\": true, \"showline\": false, \"showticklabels\": false, \"ticks\": \"\"}},\n",
       "                        {\"responsive\": true}\n",
       "                    ).then(function(){\n",
       "                            \n",
       "var gd = document.getElementById('c3926e78-6b0a-4110-a2fa-dd58620d53ea');\n",
       "var x = new MutationObserver(function (mutations, observer) {{\n",
       "        var display = window.getComputedStyle(gd).display;\n",
       "        if (!display || display === 'none') {{\n",
       "            console.log([gd, 'removed!']);\n",
       "            Plotly.purge(gd);\n",
       "            observer.disconnect();\n",
       "        }}\n",
       "}});\n",
       "\n",
       "// Listen for the removal of the full notebook cells\n",
       "var notebookContainer = gd.closest('#notebook-container');\n",
       "if (notebookContainer) {{\n",
       "    x.observe(notebookContainer, {childList: true});\n",
       "}}\n",
       "\n",
       "// Listen for the clearing of the current output cell\n",
       "var outputEl = gd.closest('.output');\n",
       "if (outputEl) {{\n",
       "    x.observe(outputEl, {childList: true});\n",
       "}}\n",
       "\n",
       "                        })\n",
       "                };\n",
       "                });\n",
       "            </script>\n",
       "        </div>"
      ]
     },
     "metadata": {},
     "output_type": "display_data"
    }
   ],
   "source": [
    "import plotly.express as px\n",
    "fig = px.scatter(df, x='Revenue', y='Before You Go Total Revenue From Cart Adds', color='Customer Type',\n",
    "                 size='Revenue', marginal_y=\"violin\", marginal_x=\"box\")\n",
    "fig.show()"
   ]
  },
  {
   "cell_type": "markdown",
   "metadata": {},
   "source": [
    "- Existing customers are making most of the revenue, which is 91.77% of total revenue made in September. New customers are making 8.2% of revenues.\n",
    "- The highest revenue made by the new customers is 311.8k, however the lowest revenue made by 274.6K. Indicating that the new customers can offer more revenues once they get used to the website."
   ]
  },
  {
   "cell_type": "markdown",
   "metadata": {},
   "source": [
    "## Delivery Type vs Revenue"
   ]
  },
  {
   "cell_type": "code",
   "execution_count": 9,
   "metadata": {},
   "outputs": [
    {
     "data": {
      "text/html": [
       "<div>\n",
       "<style scoped>\n",
       "    .dataframe tbody tr th:only-of-type {\n",
       "        vertical-align: middle;\n",
       "    }\n",
       "\n",
       "    .dataframe tbody tr th {\n",
       "        vertical-align: top;\n",
       "    }\n",
       "\n",
       "    .dataframe thead th {\n",
       "        text-align: right;\n",
       "    }\n",
       "</style>\n",
       "<table border=\"1\" class=\"dataframe\">\n",
       "  <thead>\n",
       "    <tr style=\"text-align: right;\">\n",
       "      <th></th>\n",
       "      <th>Revenue</th>\n",
       "      <th>Percentage</th>\n",
       "    </tr>\n",
       "    <tr>\n",
       "      <th>Delivery Type</th>\n",
       "      <th></th>\n",
       "      <th></th>\n",
       "    </tr>\n",
       "  </thead>\n",
       "  <tbody>\n",
       "    <tr>\n",
       "      <td>Home Delivery</td>\n",
       "      <td>1.059129e+08</td>\n",
       "      <td>82.639174</td>\n",
       "    </tr>\n",
       "    <tr>\n",
       "      <td>Store Collection</td>\n",
       "      <td>2.225016e+07</td>\n",
       "      <td>17.360826</td>\n",
       "    </tr>\n",
       "  </tbody>\n",
       "</table>\n",
       "</div>"
      ],
      "text/plain": [
       "                       Revenue  Percentage\n",
       "Delivery Type                             \n",
       "Home Delivery     1.059129e+08   82.639174\n",
       "Store Collection  2.225016e+07   17.360826"
      ]
     },
     "execution_count": 9,
     "metadata": {},
     "output_type": "execute_result"
    }
   ],
   "source": [
    "df_delivery = df.groupby(['Delivery Type']).sum()\n",
    "df_delivery['Percentage'] = (df_delivery['Revenue']/df_delivery['Revenue'].sum()) * 100\n",
    "df_delivery[['Revenue', 'Percentage']]"
   ]
  },
  {
   "cell_type": "code",
   "execution_count": 12,
   "metadata": {},
   "outputs": [
    {
     "data": {
      "application/vnd.plotly.v1+json": {
       "config": {
        "plotlyServerURL": "https://plot.ly"
       },
       "data": [
        {
         "domain": {
          "x": [
           0,
           0.45
          ],
          "y": [
           0,
           1
          ]
         },
         "hole": 0.4,
         "hoverinfo": "label+percent+name",
         "labels": [
          "Store Collection",
          "Home Delivery",
          "Store Collection",
          "Home Delivery",
          "Store Collection",
          "Home Delivery",
          "Home Delivery",
          "Store Collection",
          "Store Collection",
          "Home Delivery",
          "Store Collection",
          "Home Delivery",
          "Home Delivery",
          "Home Delivery",
          "Store Collection",
          "Store Collection",
          "Store Collection",
          "Home Delivery",
          "Home Delivery",
          "Home Delivery",
          "Store Collection",
          "Store Collection",
          "Store Collection",
          "Home Delivery",
          "Store Collection",
          "Home Delivery",
          "Store Collection",
          "Store Collection",
          "Home Delivery",
          "Home Delivery",
          "Store Collection",
          "Home Delivery",
          "Store Collection",
          "Store Collection",
          "Home Delivery",
          "Store Collection",
          "Home Delivery",
          "Home Delivery",
          "Store Collection",
          "Home Delivery",
          "Home Delivery",
          "Store Collection",
          "Store Collection",
          "Home Delivery",
          "Store Collection",
          "Store Collection",
          "Home Delivery",
          "Home Delivery",
          "Store Collection",
          "Store Collection",
          "Home Delivery",
          "Store Collection",
          "Home Delivery",
          "Home Delivery",
          "Store Collection",
          "Home Delivery",
          "Home Delivery",
          "Home Delivery",
          "Store Collection",
          "Store Collection",
          "Store Collection",
          "Home Delivery",
          "Store Collection",
          "Home Delivery",
          "Store Collection",
          "Home Delivery",
          "Store Collection",
          "Store Collection",
          "Home Delivery",
          "Home Delivery",
          "Store Collection",
          "Home Delivery",
          "Home Delivery",
          "Store Collection",
          "Store Collection",
          "Home Delivery",
          "Home Delivery",
          "Store Collection",
          "Home Delivery",
          "Store Collection",
          "Home Delivery",
          "Store Collection",
          "Home Delivery",
          "Home Delivery",
          "Store Collection",
          "Store Collection",
          "Store Collection",
          "Home Delivery",
          "Home Delivery",
          "Store Collection",
          "Store Collection",
          "Store Collection",
          "Store Collection",
          "Home Delivery",
          "Home Delivery",
          "Home Delivery",
          "Home Delivery",
          "Home Delivery",
          "Store Collection",
          "Store Collection",
          "Home Delivery",
          "Home Delivery",
          "Store Collection",
          "Store Collection",
          "Store Collection",
          "Home Delivery",
          "Store Collection",
          "Store Collection",
          "Home Delivery",
          "Home Delivery",
          "Store Collection",
          "Home Delivery",
          "Home Delivery",
          "Store Collection",
          "Store Collection",
          "Home Delivery",
          "Home Delivery",
          "Store Collection",
          "Home Delivery",
          "Store Collection",
          "Home Delivery",
          "Home Delivery",
          "Store Collection",
          "Store Collection",
          "Home Delivery",
          "Home Delivery",
          "Store Collection",
          "Store Collection",
          "Store Collection",
          "Home Delivery",
          "Home Delivery",
          "Store Collection",
          "Home Delivery",
          "Store Collection",
          "Store Collection",
          "Home Delivery",
          "Store Collection",
          "Home Delivery",
          "Home Delivery",
          "Store Collection",
          "Home Delivery",
          "Store Collection",
          "Store Collection",
          "Home Delivery",
          "Store Collection",
          "Home Delivery",
          "Home Delivery",
          "Store Collection",
          "Store Collection",
          "Home Delivery",
          "Store Collection",
          "Home Delivery",
          "Store Collection",
          "Store Collection",
          "Home Delivery",
          "Home Delivery",
          "Store Collection",
          "Home Delivery",
          "Home Delivery",
          "Store Collection",
          "Home Delivery",
          "Store Collection",
          "Home Delivery",
          "Store Collection",
          "Home Delivery",
          "Store Collection",
          "Home Delivery",
          "Store Collection",
          "Store Collection",
          "Home Delivery",
          "Store Collection",
          "Home Delivery",
          "Home Delivery",
          "Store Collection",
          "Store Collection",
          "Home Delivery",
          "Home Delivery",
          "Store Collection",
          "Home Delivery",
          "Store Collection",
          "Home Delivery",
          "Store Collection",
          "Store Collection",
          "Home Delivery",
          "Store Collection",
          "Home Delivery",
          "Store Collection",
          "Home Delivery",
          "Home Delivery",
          "Store Collection",
          "Store Collection",
          "Home Delivery",
          "Store Collection",
          "Home Delivery",
          "Home Delivery",
          "Store Collection",
          "Store Collection",
          "Home Delivery",
          "Home Delivery",
          "Store Collection",
          "Store Collection",
          "Store Collection",
          "Home Delivery",
          "Store Collection",
          "Store Collection",
          "Home Delivery",
          "Home Delivery",
          "Home Delivery",
          "Home Delivery",
          "Home Delivery",
          "Store Collection",
          "Store Collection",
          "Store Collection",
          "Store Collection",
          "Home Delivery",
          "Home Delivery",
          "Store Collection",
          "Store Collection",
          "Store Collection",
          "Home Delivery",
          "Home Delivery",
          "Home Delivery",
          "Store Collection",
          "Home Delivery",
          "Store Collection",
          "Store Collection",
          "Home Delivery",
          "Store Collection",
          "Store Collection",
          "Home Delivery",
          "Home Delivery",
          "Home Delivery",
          "Home Delivery",
          "Store Collection",
          "Home Delivery",
          "Home Delivery",
          "Store Collection",
          "Store Collection",
          "Home Delivery",
          "Store Collection"
         ],
         "marker": {
          "colors": [
           "gold",
           "darkorange"
          ],
          "line": {
           "color": "#000000",
           "width": 2
          }
         },
         "name": "Existing Customer",
         "textinfo": "value",
         "type": "pie",
         "values": [
          379289,
          360265,
          1608022,
          1652713,
          350621,
          1711522,
          361158,
          1662204,
          344095,
          1634720,
          1666715,
          376697,
          373562,
          1606280,
          1710571,
          347254,
          341851,
          374268,
          1650728,
          1741320,
          1311503.2,
          362007,
          274612,
          1672010,
          359112,
          1679160,
          362010,
          1554484,
          1691311,
          1536876,
          375244,
          352986,
          359325,
          358630,
          1558109,
          1649252,
          1601690,
          356755,
          379813,
          1686104,
          1573287,
          349612,
          355773,
          1732054,
          1597619,
          347930,
          367985,
          1709779,
          1652184,
          362014,
          354459,
          1719307,
          372953,
          1636097,
          1743548,
          362969,
          1617451,
          349933,
          1751864,
          383745,
          1612672,
          373574,
          1754791,
          345381,
          379234,
          1636065,
          353845,
          1585956,
          367856,
          1601516,
          1672969,
          353856,
          1674399,
          373425,
          341255,
          1539996,
          342058,
          1558898,
          1685574,
          358445,
          1551763.28,
          340187.88,
          1541537.96,
          329021.62,
          357858,
          328238.6,
          1520031.7,
          1590664.24,
          1499865.88,
          1632545,
          360198.6,
          340364.6,
          340988.76,
          1464108.28,
          1559010.68,
          346539.46,
          1470504.98,
          1615483.06,
          342118.64,
          325412.96,
          358955.92,
          326323.82,
          1457955.98,
          1531560.8,
          1535797.38,
          1534545.3,
          322007.34,
          343609.48,
          326410.3,
          359798.16,
          1466968.7,
          1546003.9,
          321216.8,
          361283.36,
          1650209.48,
          1503809.18,
          1545057.32,
          337834.12,
          323263.18,
          1622578.18
         ]
        },
        {
         "domain": {
          "x": [
           0.55,
           1
          ],
          "y": [
           0,
           1
          ]
         },
         "hole": 0.4,
         "hoverinfo": "label+percent+name",
         "labels": [
          "Store Collection",
          "Home Delivery",
          "Store Collection",
          "Home Delivery",
          "Store Collection",
          "Home Delivery",
          "Home Delivery",
          "Store Collection",
          "Store Collection",
          "Home Delivery",
          "Store Collection",
          "Home Delivery",
          "Home Delivery",
          "Home Delivery",
          "Store Collection",
          "Store Collection",
          "Store Collection",
          "Home Delivery",
          "Home Delivery",
          "Home Delivery",
          "Store Collection",
          "Store Collection",
          "Store Collection",
          "Home Delivery",
          "Store Collection",
          "Home Delivery",
          "Store Collection",
          "Store Collection",
          "Home Delivery",
          "Home Delivery",
          "Store Collection",
          "Home Delivery",
          "Store Collection",
          "Store Collection",
          "Home Delivery",
          "Store Collection",
          "Home Delivery",
          "Home Delivery",
          "Store Collection",
          "Home Delivery",
          "Home Delivery",
          "Store Collection",
          "Store Collection",
          "Home Delivery",
          "Store Collection",
          "Store Collection",
          "Home Delivery",
          "Home Delivery",
          "Store Collection",
          "Store Collection",
          "Home Delivery",
          "Store Collection",
          "Home Delivery",
          "Home Delivery",
          "Store Collection",
          "Home Delivery",
          "Home Delivery",
          "Home Delivery",
          "Store Collection",
          "Store Collection",
          "Store Collection",
          "Home Delivery",
          "Store Collection",
          "Home Delivery",
          "Store Collection",
          "Home Delivery",
          "Store Collection",
          "Store Collection",
          "Home Delivery",
          "Home Delivery",
          "Store Collection",
          "Home Delivery",
          "Home Delivery",
          "Store Collection",
          "Store Collection",
          "Home Delivery",
          "Home Delivery",
          "Store Collection",
          "Home Delivery",
          "Store Collection",
          "Home Delivery",
          "Store Collection",
          "Home Delivery",
          "Home Delivery",
          "Store Collection",
          "Store Collection",
          "Store Collection",
          "Home Delivery",
          "Home Delivery",
          "Store Collection",
          "Store Collection",
          "Store Collection",
          "Store Collection",
          "Home Delivery",
          "Home Delivery",
          "Home Delivery",
          "Home Delivery",
          "Home Delivery",
          "Store Collection",
          "Store Collection",
          "Home Delivery",
          "Home Delivery",
          "Store Collection",
          "Store Collection",
          "Store Collection",
          "Home Delivery",
          "Store Collection",
          "Store Collection",
          "Home Delivery",
          "Home Delivery",
          "Store Collection",
          "Home Delivery",
          "Home Delivery",
          "Store Collection",
          "Store Collection",
          "Home Delivery",
          "Home Delivery",
          "Store Collection",
          "Home Delivery",
          "Store Collection",
          "Home Delivery",
          "Home Delivery",
          "Store Collection",
          "Store Collection",
          "Home Delivery",
          "Home Delivery",
          "Store Collection",
          "Store Collection",
          "Store Collection",
          "Home Delivery",
          "Home Delivery",
          "Store Collection",
          "Home Delivery",
          "Store Collection",
          "Store Collection",
          "Home Delivery",
          "Store Collection",
          "Home Delivery",
          "Home Delivery",
          "Store Collection",
          "Home Delivery",
          "Store Collection",
          "Store Collection",
          "Home Delivery",
          "Store Collection",
          "Home Delivery",
          "Home Delivery",
          "Store Collection",
          "Store Collection",
          "Home Delivery",
          "Store Collection",
          "Home Delivery",
          "Store Collection",
          "Store Collection",
          "Home Delivery",
          "Home Delivery",
          "Store Collection",
          "Home Delivery",
          "Home Delivery",
          "Store Collection",
          "Home Delivery",
          "Store Collection",
          "Home Delivery",
          "Store Collection",
          "Home Delivery",
          "Store Collection",
          "Home Delivery",
          "Store Collection",
          "Store Collection",
          "Home Delivery",
          "Store Collection",
          "Home Delivery",
          "Home Delivery",
          "Store Collection",
          "Store Collection",
          "Home Delivery",
          "Home Delivery",
          "Store Collection",
          "Home Delivery",
          "Store Collection",
          "Home Delivery",
          "Store Collection",
          "Store Collection",
          "Home Delivery",
          "Store Collection",
          "Home Delivery",
          "Store Collection",
          "Home Delivery",
          "Home Delivery",
          "Store Collection",
          "Store Collection",
          "Home Delivery",
          "Store Collection",
          "Home Delivery",
          "Home Delivery",
          "Store Collection",
          "Store Collection",
          "Home Delivery",
          "Home Delivery",
          "Store Collection",
          "Store Collection",
          "Store Collection",
          "Home Delivery",
          "Store Collection",
          "Store Collection",
          "Home Delivery",
          "Home Delivery",
          "Home Delivery",
          "Home Delivery",
          "Home Delivery",
          "Store Collection",
          "Store Collection",
          "Store Collection",
          "Store Collection",
          "Home Delivery",
          "Home Delivery",
          "Store Collection",
          "Store Collection",
          "Store Collection",
          "Home Delivery",
          "Home Delivery",
          "Home Delivery",
          "Store Collection",
          "Home Delivery",
          "Store Collection",
          "Store Collection",
          "Home Delivery",
          "Store Collection",
          "Store Collection",
          "Home Delivery",
          "Home Delivery",
          "Home Delivery",
          "Home Delivery",
          "Store Collection",
          "Home Delivery",
          "Home Delivery",
          "Store Collection",
          "Store Collection",
          "Home Delivery",
          "Store Collection"
         ],
         "marker": {
          "colors": [
           "gold",
           "darkorange"
          ],
          "line": {
           "color": "#000000",
           "width": 2
          }
         },
         "name": "New Customer",
         "textinfo": "value",
         "type": "pie",
         "values": [
          311501,
          36074,
          17452,
          3112,
          17998,
          297092,
          35261,
          2950,
          292852,
          33748,
          2976,
          17903,
          2989,
          35003,
          310812,
          18647,
          35598,
          300402,
          17938,
          3073,
          301839,
          34555,
          2162.4,
          13630.4,
          35233,
          18632,
          3112,
          299517,
          35948,
          301247,
          2891,
          18171,
          302349,
          33648,
          18224,
          2995,
          34947,
          301497,
          18464,
          2989,
          310222,
          17782,
          35426,
          2906,
          34160,
          2915,
          304225,
          18163,
          290951,
          18044,
          2994,
          35836,
          2967,
          33934,
          291319,
          17637,
          34518,
          18107,
          3086,
          308599,
          303433,
          34103,
          17920,
          2960,
          303105,
          35954,
          3027,
          18641,
          34120,
          304530,
          3089,
          18711,
          35206,
          311822,
          2963,
          17402,
          33961,
          311847,
          2965,
          18239,
          284648.92,
          32987.42,
          16628.6,
          2757.02,
          289155.28,
          32663.12,
          2854.78,
          16849.5,
          31992.9,
          2739.16,
          16933.16,
          292486.64,
          32143.3,
          278371.6,
          2843.5,
          17430.42,
          32074.68,
          17185.08,
          278649.84,
          2765.48,
          33190.46,
          2716.6,
          281237.66,
          17065.7,
          32007,
          2816.24,
          284137.56,
          17060.06,
          33678.32,
          288397.64,
          2707.2,
          17161.58,
          33871.96,
          2914.94,
          283044.34,
          17424.78,
          33836.24,
          283876.24,
          16951.02,
          2761.72
         ]
        }
       ],
       "layout": {
        "annotations": [
         {
          "font": {
           "size": 20
          },
          "showarrow": false,
          "text": "Existing",
          "x": 0.18,
          "y": 0.5
         },
         {
          "font": {
           "size": 20
          },
          "showarrow": false,
          "text": "New",
          "x": 0.82,
          "y": 0.5
         }
        ],
        "template": {
         "data": {
          "bar": [
           {
            "error_x": {
             "color": "#2a3f5f"
            },
            "error_y": {
             "color": "#2a3f5f"
            },
            "marker": {
             "line": {
              "color": "#E5ECF6",
              "width": 0.5
             }
            },
            "type": "bar"
           }
          ],
          "barpolar": [
           {
            "marker": {
             "line": {
              "color": "#E5ECF6",
              "width": 0.5
             }
            },
            "type": "barpolar"
           }
          ],
          "carpet": [
           {
            "aaxis": {
             "endlinecolor": "#2a3f5f",
             "gridcolor": "white",
             "linecolor": "white",
             "minorgridcolor": "white",
             "startlinecolor": "#2a3f5f"
            },
            "baxis": {
             "endlinecolor": "#2a3f5f",
             "gridcolor": "white",
             "linecolor": "white",
             "minorgridcolor": "white",
             "startlinecolor": "#2a3f5f"
            },
            "type": "carpet"
           }
          ],
          "choropleth": [
           {
            "colorbar": {
             "outlinewidth": 0,
             "ticks": ""
            },
            "type": "choropleth"
           }
          ],
          "contour": [
           {
            "colorbar": {
             "outlinewidth": 0,
             "ticks": ""
            },
            "colorscale": [
             [
              0,
              "#0d0887"
             ],
             [
              0.1111111111111111,
              "#46039f"
             ],
             [
              0.2222222222222222,
              "#7201a8"
             ],
             [
              0.3333333333333333,
              "#9c179e"
             ],
             [
              0.4444444444444444,
              "#bd3786"
             ],
             [
              0.5555555555555556,
              "#d8576b"
             ],
             [
              0.6666666666666666,
              "#ed7953"
             ],
             [
              0.7777777777777778,
              "#fb9f3a"
             ],
             [
              0.8888888888888888,
              "#fdca26"
             ],
             [
              1,
              "#f0f921"
             ]
            ],
            "type": "contour"
           }
          ],
          "contourcarpet": [
           {
            "colorbar": {
             "outlinewidth": 0,
             "ticks": ""
            },
            "type": "contourcarpet"
           }
          ],
          "heatmap": [
           {
            "colorbar": {
             "outlinewidth": 0,
             "ticks": ""
            },
            "colorscale": [
             [
              0,
              "#0d0887"
             ],
             [
              0.1111111111111111,
              "#46039f"
             ],
             [
              0.2222222222222222,
              "#7201a8"
             ],
             [
              0.3333333333333333,
              "#9c179e"
             ],
             [
              0.4444444444444444,
              "#bd3786"
             ],
             [
              0.5555555555555556,
              "#d8576b"
             ],
             [
              0.6666666666666666,
              "#ed7953"
             ],
             [
              0.7777777777777778,
              "#fb9f3a"
             ],
             [
              0.8888888888888888,
              "#fdca26"
             ],
             [
              1,
              "#f0f921"
             ]
            ],
            "type": "heatmap"
           }
          ],
          "heatmapgl": [
           {
            "colorbar": {
             "outlinewidth": 0,
             "ticks": ""
            },
            "colorscale": [
             [
              0,
              "#0d0887"
             ],
             [
              0.1111111111111111,
              "#46039f"
             ],
             [
              0.2222222222222222,
              "#7201a8"
             ],
             [
              0.3333333333333333,
              "#9c179e"
             ],
             [
              0.4444444444444444,
              "#bd3786"
             ],
             [
              0.5555555555555556,
              "#d8576b"
             ],
             [
              0.6666666666666666,
              "#ed7953"
             ],
             [
              0.7777777777777778,
              "#fb9f3a"
             ],
             [
              0.8888888888888888,
              "#fdca26"
             ],
             [
              1,
              "#f0f921"
             ]
            ],
            "type": "heatmapgl"
           }
          ],
          "histogram": [
           {
            "marker": {
             "colorbar": {
              "outlinewidth": 0,
              "ticks": ""
             }
            },
            "type": "histogram"
           }
          ],
          "histogram2d": [
           {
            "colorbar": {
             "outlinewidth": 0,
             "ticks": ""
            },
            "colorscale": [
             [
              0,
              "#0d0887"
             ],
             [
              0.1111111111111111,
              "#46039f"
             ],
             [
              0.2222222222222222,
              "#7201a8"
             ],
             [
              0.3333333333333333,
              "#9c179e"
             ],
             [
              0.4444444444444444,
              "#bd3786"
             ],
             [
              0.5555555555555556,
              "#d8576b"
             ],
             [
              0.6666666666666666,
              "#ed7953"
             ],
             [
              0.7777777777777778,
              "#fb9f3a"
             ],
             [
              0.8888888888888888,
              "#fdca26"
             ],
             [
              1,
              "#f0f921"
             ]
            ],
            "type": "histogram2d"
           }
          ],
          "histogram2dcontour": [
           {
            "colorbar": {
             "outlinewidth": 0,
             "ticks": ""
            },
            "colorscale": [
             [
              0,
              "#0d0887"
             ],
             [
              0.1111111111111111,
              "#46039f"
             ],
             [
              0.2222222222222222,
              "#7201a8"
             ],
             [
              0.3333333333333333,
              "#9c179e"
             ],
             [
              0.4444444444444444,
              "#bd3786"
             ],
             [
              0.5555555555555556,
              "#d8576b"
             ],
             [
              0.6666666666666666,
              "#ed7953"
             ],
             [
              0.7777777777777778,
              "#fb9f3a"
             ],
             [
              0.8888888888888888,
              "#fdca26"
             ],
             [
              1,
              "#f0f921"
             ]
            ],
            "type": "histogram2dcontour"
           }
          ],
          "mesh3d": [
           {
            "colorbar": {
             "outlinewidth": 0,
             "ticks": ""
            },
            "type": "mesh3d"
           }
          ],
          "parcoords": [
           {
            "line": {
             "colorbar": {
              "outlinewidth": 0,
              "ticks": ""
             }
            },
            "type": "parcoords"
           }
          ],
          "pie": [
           {
            "automargin": true,
            "type": "pie"
           }
          ],
          "scatter": [
           {
            "marker": {
             "colorbar": {
              "outlinewidth": 0,
              "ticks": ""
             }
            },
            "type": "scatter"
           }
          ],
          "scatter3d": [
           {
            "line": {
             "colorbar": {
              "outlinewidth": 0,
              "ticks": ""
             }
            },
            "marker": {
             "colorbar": {
              "outlinewidth": 0,
              "ticks": ""
             }
            },
            "type": "scatter3d"
           }
          ],
          "scattercarpet": [
           {
            "marker": {
             "colorbar": {
              "outlinewidth": 0,
              "ticks": ""
             }
            },
            "type": "scattercarpet"
           }
          ],
          "scattergeo": [
           {
            "marker": {
             "colorbar": {
              "outlinewidth": 0,
              "ticks": ""
             }
            },
            "type": "scattergeo"
           }
          ],
          "scattergl": [
           {
            "marker": {
             "colorbar": {
              "outlinewidth": 0,
              "ticks": ""
             }
            },
            "type": "scattergl"
           }
          ],
          "scattermapbox": [
           {
            "marker": {
             "colorbar": {
              "outlinewidth": 0,
              "ticks": ""
             }
            },
            "type": "scattermapbox"
           }
          ],
          "scatterpolar": [
           {
            "marker": {
             "colorbar": {
              "outlinewidth": 0,
              "ticks": ""
             }
            },
            "type": "scatterpolar"
           }
          ],
          "scatterpolargl": [
           {
            "marker": {
             "colorbar": {
              "outlinewidth": 0,
              "ticks": ""
             }
            },
            "type": "scatterpolargl"
           }
          ],
          "scatterternary": [
           {
            "marker": {
             "colorbar": {
              "outlinewidth": 0,
              "ticks": ""
             }
            },
            "type": "scatterternary"
           }
          ],
          "surface": [
           {
            "colorbar": {
             "outlinewidth": 0,
             "ticks": ""
            },
            "colorscale": [
             [
              0,
              "#0d0887"
             ],
             [
              0.1111111111111111,
              "#46039f"
             ],
             [
              0.2222222222222222,
              "#7201a8"
             ],
             [
              0.3333333333333333,
              "#9c179e"
             ],
             [
              0.4444444444444444,
              "#bd3786"
             ],
             [
              0.5555555555555556,
              "#d8576b"
             ],
             [
              0.6666666666666666,
              "#ed7953"
             ],
             [
              0.7777777777777778,
              "#fb9f3a"
             ],
             [
              0.8888888888888888,
              "#fdca26"
             ],
             [
              1,
              "#f0f921"
             ]
            ],
            "type": "surface"
           }
          ],
          "table": [
           {
            "cells": {
             "fill": {
              "color": "#EBF0F8"
             },
             "line": {
              "color": "white"
             }
            },
            "header": {
             "fill": {
              "color": "#C8D4E3"
             },
             "line": {
              "color": "white"
             }
            },
            "type": "table"
           }
          ]
         },
         "layout": {
          "annotationdefaults": {
           "arrowcolor": "#2a3f5f",
           "arrowhead": 0,
           "arrowwidth": 1
          },
          "coloraxis": {
           "colorbar": {
            "outlinewidth": 0,
            "ticks": ""
           }
          },
          "colorscale": {
           "diverging": [
            [
             0,
             "#8e0152"
            ],
            [
             0.1,
             "#c51b7d"
            ],
            [
             0.2,
             "#de77ae"
            ],
            [
             0.3,
             "#f1b6da"
            ],
            [
             0.4,
             "#fde0ef"
            ],
            [
             0.5,
             "#f7f7f7"
            ],
            [
             0.6,
             "#e6f5d0"
            ],
            [
             0.7,
             "#b8e186"
            ],
            [
             0.8,
             "#7fbc41"
            ],
            [
             0.9,
             "#4d9221"
            ],
            [
             1,
             "#276419"
            ]
           ],
           "sequential": [
            [
             0,
             "#0d0887"
            ],
            [
             0.1111111111111111,
             "#46039f"
            ],
            [
             0.2222222222222222,
             "#7201a8"
            ],
            [
             0.3333333333333333,
             "#9c179e"
            ],
            [
             0.4444444444444444,
             "#bd3786"
            ],
            [
             0.5555555555555556,
             "#d8576b"
            ],
            [
             0.6666666666666666,
             "#ed7953"
            ],
            [
             0.7777777777777778,
             "#fb9f3a"
            ],
            [
             0.8888888888888888,
             "#fdca26"
            ],
            [
             1,
             "#f0f921"
            ]
           ],
           "sequentialminus": [
            [
             0,
             "#0d0887"
            ],
            [
             0.1111111111111111,
             "#46039f"
            ],
            [
             0.2222222222222222,
             "#7201a8"
            ],
            [
             0.3333333333333333,
             "#9c179e"
            ],
            [
             0.4444444444444444,
             "#bd3786"
            ],
            [
             0.5555555555555556,
             "#d8576b"
            ],
            [
             0.6666666666666666,
             "#ed7953"
            ],
            [
             0.7777777777777778,
             "#fb9f3a"
            ],
            [
             0.8888888888888888,
             "#fdca26"
            ],
            [
             1,
             "#f0f921"
            ]
           ]
          },
          "colorway": [
           "#636efa",
           "#EF553B",
           "#00cc96",
           "#ab63fa",
           "#FFA15A",
           "#19d3f3",
           "#FF6692",
           "#B6E880",
           "#FF97FF",
           "#FECB52"
          ],
          "font": {
           "color": "#2a3f5f"
          },
          "geo": {
           "bgcolor": "white",
           "lakecolor": "white",
           "landcolor": "#E5ECF6",
           "showlakes": true,
           "showland": true,
           "subunitcolor": "white"
          },
          "hoverlabel": {
           "align": "left"
          },
          "hovermode": "closest",
          "mapbox": {
           "style": "light"
          },
          "paper_bgcolor": "white",
          "plot_bgcolor": "#E5ECF6",
          "polar": {
           "angularaxis": {
            "gridcolor": "white",
            "linecolor": "white",
            "ticks": ""
           },
           "bgcolor": "#E5ECF6",
           "radialaxis": {
            "gridcolor": "white",
            "linecolor": "white",
            "ticks": ""
           }
          },
          "scene": {
           "xaxis": {
            "backgroundcolor": "#E5ECF6",
            "gridcolor": "white",
            "gridwidth": 2,
            "linecolor": "white",
            "showbackground": true,
            "ticks": "",
            "zerolinecolor": "white"
           },
           "yaxis": {
            "backgroundcolor": "#E5ECF6",
            "gridcolor": "white",
            "gridwidth": 2,
            "linecolor": "white",
            "showbackground": true,
            "ticks": "",
            "zerolinecolor": "white"
           },
           "zaxis": {
            "backgroundcolor": "#E5ECF6",
            "gridcolor": "white",
            "gridwidth": 2,
            "linecolor": "white",
            "showbackground": true,
            "ticks": "",
            "zerolinecolor": "white"
           }
          },
          "shapedefaults": {
           "line": {
            "color": "#2a3f5f"
           }
          },
          "ternary": {
           "aaxis": {
            "gridcolor": "white",
            "linecolor": "white",
            "ticks": ""
           },
           "baxis": {
            "gridcolor": "white",
            "linecolor": "white",
            "ticks": ""
           },
           "bgcolor": "#E5ECF6",
           "caxis": {
            "gridcolor": "white",
            "linecolor": "white",
            "ticks": ""
           }
          },
          "title": {
           "x": 0.05
          },
          "xaxis": {
           "automargin": true,
           "gridcolor": "white",
           "linecolor": "white",
           "ticks": "",
           "title": {
            "standoff": 15
           },
           "zerolinecolor": "white",
           "zerolinewidth": 2
          },
          "yaxis": {
           "automargin": true,
           "gridcolor": "white",
           "linecolor": "white",
           "ticks": "",
           "title": {
            "standoff": 15
           },
           "zerolinecolor": "white",
           "zerolinewidth": 2
          }
         }
        },
        "title": {
         "text": "Customer Type & Delivery Type"
        }
       }
      },
      "text/html": [
       "<div>\n",
       "        \n",
       "        \n",
       "            <div id=\"acc6aae7-a2bf-4461-bdf1-2acd1a4b77a0\" class=\"plotly-graph-div\" style=\"height:525px; width:100%;\"></div>\n",
       "            <script type=\"text/javascript\">\n",
       "                require([\"plotly\"], function(Plotly) {\n",
       "                    window.PLOTLYENV=window.PLOTLYENV || {};\n",
       "                    \n",
       "                if (document.getElementById(\"acc6aae7-a2bf-4461-bdf1-2acd1a4b77a0\")) {\n",
       "                    Plotly.newPlot(\n",
       "                        'acc6aae7-a2bf-4461-bdf1-2acd1a4b77a0',\n",
       "                        [{\"domain\": {\"x\": [0.0, 0.45], \"y\": [0.0, 1.0]}, \"hole\": 0.4, \"hoverinfo\": \"label+percent+name\", \"labels\": [\"Store Collection\", \"Home Delivery\", \"Store Collection\", \"Home Delivery\", \"Store Collection\", \"Home Delivery\", \"Home Delivery\", \"Store Collection\", \"Store Collection\", \"Home Delivery\", \"Store Collection\", \"Home Delivery\", \"Home Delivery\", \"Home Delivery\", \"Store Collection\", \"Store Collection\", \"Store Collection\", \"Home Delivery\", \"Home Delivery\", \"Home Delivery\", \"Store Collection\", \"Store Collection\", \"Store Collection\", \"Home Delivery\", \"Store Collection\", \"Home Delivery\", \"Store Collection\", \"Store Collection\", \"Home Delivery\", \"Home Delivery\", \"Store Collection\", \"Home Delivery\", \"Store Collection\", \"Store Collection\", \"Home Delivery\", \"Store Collection\", \"Home Delivery\", \"Home Delivery\", \"Store Collection\", \"Home Delivery\", \"Home Delivery\", \"Store Collection\", \"Store Collection\", \"Home Delivery\", \"Store Collection\", \"Store Collection\", \"Home Delivery\", \"Home Delivery\", \"Store Collection\", \"Store Collection\", \"Home Delivery\", \"Store Collection\", \"Home Delivery\", \"Home Delivery\", \"Store Collection\", \"Home Delivery\", \"Home Delivery\", \"Home Delivery\", \"Store Collection\", \"Store Collection\", \"Store Collection\", \"Home Delivery\", \"Store Collection\", \"Home Delivery\", \"Store Collection\", \"Home Delivery\", \"Store Collection\", \"Store Collection\", \"Home Delivery\", \"Home Delivery\", \"Store Collection\", \"Home Delivery\", \"Home Delivery\", \"Store Collection\", \"Store Collection\", \"Home Delivery\", \"Home Delivery\", \"Store Collection\", \"Home Delivery\", \"Store Collection\", \"Home Delivery\", \"Store Collection\", \"Home Delivery\", \"Home Delivery\", \"Store Collection\", \"Store Collection\", \"Store Collection\", \"Home Delivery\", \"Home Delivery\", \"Store Collection\", \"Store Collection\", \"Store Collection\", \"Store Collection\", \"Home Delivery\", \"Home Delivery\", \"Home Delivery\", \"Home Delivery\", \"Home Delivery\", \"Store Collection\", \"Store Collection\", \"Home Delivery\", \"Home Delivery\", \"Store Collection\", \"Store Collection\", \"Store Collection\", \"Home Delivery\", \"Store Collection\", \"Store Collection\", \"Home Delivery\", \"Home Delivery\", \"Store Collection\", \"Home Delivery\", \"Home Delivery\", \"Store Collection\", \"Store Collection\", \"Home Delivery\", \"Home Delivery\", \"Store Collection\", \"Home Delivery\", \"Store Collection\", \"Home Delivery\", \"Home Delivery\", \"Store Collection\", \"Store Collection\", \"Home Delivery\", \"Home Delivery\", \"Store Collection\", \"Store Collection\", \"Store Collection\", \"Home Delivery\", \"Home Delivery\", \"Store Collection\", \"Home Delivery\", \"Store Collection\", \"Store Collection\", \"Home Delivery\", \"Store Collection\", \"Home Delivery\", \"Home Delivery\", \"Store Collection\", \"Home Delivery\", \"Store Collection\", \"Store Collection\", \"Home Delivery\", \"Store Collection\", \"Home Delivery\", \"Home Delivery\", \"Store Collection\", \"Store Collection\", \"Home Delivery\", \"Store Collection\", \"Home Delivery\", \"Store Collection\", \"Store Collection\", \"Home Delivery\", \"Home Delivery\", \"Store Collection\", \"Home Delivery\", \"Home Delivery\", \"Store Collection\", \"Home Delivery\", \"Store Collection\", \"Home Delivery\", \"Store Collection\", \"Home Delivery\", \"Store Collection\", \"Home Delivery\", \"Store Collection\", \"Store Collection\", \"Home Delivery\", \"Store Collection\", \"Home Delivery\", \"Home Delivery\", \"Store Collection\", \"Store Collection\", \"Home Delivery\", \"Home Delivery\", \"Store Collection\", \"Home Delivery\", \"Store Collection\", \"Home Delivery\", \"Store Collection\", \"Store Collection\", \"Home Delivery\", \"Store Collection\", \"Home Delivery\", \"Store Collection\", \"Home Delivery\", \"Home Delivery\", \"Store Collection\", \"Store Collection\", \"Home Delivery\", \"Store Collection\", \"Home Delivery\", \"Home Delivery\", \"Store Collection\", \"Store Collection\", \"Home Delivery\", \"Home Delivery\", \"Store Collection\", \"Store Collection\", \"Store Collection\", \"Home Delivery\", \"Store Collection\", \"Store Collection\", \"Home Delivery\", \"Home Delivery\", \"Home Delivery\", \"Home Delivery\", \"Home Delivery\", \"Store Collection\", \"Store Collection\", \"Store Collection\", \"Store Collection\", \"Home Delivery\", \"Home Delivery\", \"Store Collection\", \"Store Collection\", \"Store Collection\", \"Home Delivery\", \"Home Delivery\", \"Home Delivery\", \"Store Collection\", \"Home Delivery\", \"Store Collection\", \"Store Collection\", \"Home Delivery\", \"Store Collection\", \"Store Collection\", \"Home Delivery\", \"Home Delivery\", \"Home Delivery\", \"Home Delivery\", \"Store Collection\", \"Home Delivery\", \"Home Delivery\", \"Store Collection\", \"Store Collection\", \"Home Delivery\", \"Store Collection\"], \"marker\": {\"colors\": [\"gold\", \"darkorange\"], \"line\": {\"color\": \"#000000\", \"width\": 2}}, \"name\": \"Existing Customer\", \"textinfo\": \"value\", \"type\": \"pie\", \"values\": [379289.0, 360265.0, 1608022.0, 1652713.0, 350621.0, 1711522.0, 361158.0, 1662204.0, 344095.0, 1634720.0, 1666715.0, 376697.0, 373562.0, 1606280.0, 1710571.0, 347254.0, 341851.0, 374268.0, 1650728.0, 1741320.0, 1311503.2, 362007.0, 274612.0, 1672010.0, 359112.0, 1679160.0, 362010.0, 1554484.0, 1691311.0, 1536876.0, 375244.0, 352986.0, 359325.0, 358630.0, 1558109.0, 1649252.0, 1601690.0, 356755.0, 379813.0, 1686104.0, 1573287.0, 349612.0, 355773.0, 1732054.0, 1597619.0, 347930.0, 367985.0, 1709779.0, 1652184.0, 362014.0, 354459.0, 1719307.0, 372953.0, 1636097.0, 1743548.0, 362969.0, 1617451.0, 349933.0, 1751864.0, 383745.0, 1612672.0, 373574.0, 1754791.0, 345381.0, 379234.0, 1636065.0, 353845.0, 1585956.0, 367856.0, 1601516.0, 1672969.0, 353856.0, 1674399.0, 373425.0, 341255.0, 1539996.0, 342058.0, 1558898.0, 1685574.0, 358445.0, 1551763.28, 340187.88, 1541537.96, 329021.62, 357858.0, 328238.6, 1520031.7, 1590664.24, 1499865.88, 1632545.0, 360198.6, 340364.6, 340988.76, 1464108.28, 1559010.68, 346539.46, 1470504.98, 1615483.06, 342118.64, 325412.96, 358955.92, 326323.82, 1457955.98, 1531560.8, 1535797.38, 1534545.3, 322007.34, 343609.48, 326410.3, 359798.16, 1466968.7, 1546003.9, 321216.8, 361283.36, 1650209.48, 1503809.18, 1545057.32, 337834.12, 323263.18, 1622578.18]}, {\"domain\": {\"x\": [0.55, 1.0], \"y\": [0.0, 1.0]}, \"hole\": 0.4, \"hoverinfo\": \"label+percent+name\", \"labels\": [\"Store Collection\", \"Home Delivery\", \"Store Collection\", \"Home Delivery\", \"Store Collection\", \"Home Delivery\", \"Home Delivery\", \"Store Collection\", \"Store Collection\", \"Home Delivery\", \"Store Collection\", \"Home Delivery\", \"Home Delivery\", \"Home Delivery\", \"Store Collection\", \"Store Collection\", \"Store Collection\", \"Home Delivery\", \"Home Delivery\", \"Home Delivery\", \"Store Collection\", \"Store Collection\", \"Store Collection\", \"Home Delivery\", \"Store Collection\", \"Home Delivery\", \"Store Collection\", \"Store Collection\", \"Home Delivery\", \"Home Delivery\", \"Store Collection\", \"Home Delivery\", \"Store Collection\", \"Store Collection\", \"Home Delivery\", \"Store Collection\", \"Home Delivery\", \"Home Delivery\", \"Store Collection\", \"Home Delivery\", \"Home Delivery\", \"Store Collection\", \"Store Collection\", \"Home Delivery\", \"Store Collection\", \"Store Collection\", \"Home Delivery\", \"Home Delivery\", \"Store Collection\", \"Store Collection\", \"Home Delivery\", \"Store Collection\", \"Home Delivery\", \"Home Delivery\", \"Store Collection\", \"Home Delivery\", \"Home Delivery\", \"Home Delivery\", \"Store Collection\", \"Store Collection\", \"Store Collection\", \"Home Delivery\", \"Store Collection\", \"Home Delivery\", \"Store Collection\", \"Home Delivery\", \"Store Collection\", \"Store Collection\", \"Home Delivery\", \"Home Delivery\", \"Store Collection\", \"Home Delivery\", \"Home Delivery\", \"Store Collection\", \"Store Collection\", \"Home Delivery\", \"Home Delivery\", \"Store Collection\", \"Home Delivery\", \"Store Collection\", \"Home Delivery\", \"Store Collection\", \"Home Delivery\", \"Home Delivery\", \"Store Collection\", \"Store Collection\", \"Store Collection\", \"Home Delivery\", \"Home Delivery\", \"Store Collection\", \"Store Collection\", \"Store Collection\", \"Store Collection\", \"Home Delivery\", \"Home Delivery\", \"Home Delivery\", \"Home Delivery\", \"Home Delivery\", \"Store Collection\", \"Store Collection\", \"Home Delivery\", \"Home Delivery\", \"Store Collection\", \"Store Collection\", \"Store Collection\", \"Home Delivery\", \"Store Collection\", \"Store Collection\", \"Home Delivery\", \"Home Delivery\", \"Store Collection\", \"Home Delivery\", \"Home Delivery\", \"Store Collection\", \"Store Collection\", \"Home Delivery\", \"Home Delivery\", \"Store Collection\", \"Home Delivery\", \"Store Collection\", \"Home Delivery\", \"Home Delivery\", \"Store Collection\", \"Store Collection\", \"Home Delivery\", \"Home Delivery\", \"Store Collection\", \"Store Collection\", \"Store Collection\", \"Home Delivery\", \"Home Delivery\", \"Store Collection\", \"Home Delivery\", \"Store Collection\", \"Store Collection\", \"Home Delivery\", \"Store Collection\", \"Home Delivery\", \"Home Delivery\", \"Store Collection\", \"Home Delivery\", \"Store Collection\", \"Store Collection\", \"Home Delivery\", \"Store Collection\", \"Home Delivery\", \"Home Delivery\", \"Store Collection\", \"Store Collection\", \"Home Delivery\", \"Store Collection\", \"Home Delivery\", \"Store Collection\", \"Store Collection\", \"Home Delivery\", \"Home Delivery\", \"Store Collection\", \"Home Delivery\", \"Home Delivery\", \"Store Collection\", \"Home Delivery\", \"Store Collection\", \"Home Delivery\", \"Store Collection\", \"Home Delivery\", \"Store Collection\", \"Home Delivery\", \"Store Collection\", \"Store Collection\", \"Home Delivery\", \"Store Collection\", \"Home Delivery\", \"Home Delivery\", \"Store Collection\", \"Store Collection\", \"Home Delivery\", \"Home Delivery\", \"Store Collection\", \"Home Delivery\", \"Store Collection\", \"Home Delivery\", \"Store Collection\", \"Store Collection\", \"Home Delivery\", \"Store Collection\", \"Home Delivery\", \"Store Collection\", \"Home Delivery\", \"Home Delivery\", \"Store Collection\", \"Store Collection\", \"Home Delivery\", \"Store Collection\", \"Home Delivery\", \"Home Delivery\", \"Store Collection\", \"Store Collection\", \"Home Delivery\", \"Home Delivery\", \"Store Collection\", \"Store Collection\", \"Store Collection\", \"Home Delivery\", \"Store Collection\", \"Store Collection\", \"Home Delivery\", \"Home Delivery\", \"Home Delivery\", \"Home Delivery\", \"Home Delivery\", \"Store Collection\", \"Store Collection\", \"Store Collection\", \"Store Collection\", \"Home Delivery\", \"Home Delivery\", \"Store Collection\", \"Store Collection\", \"Store Collection\", \"Home Delivery\", \"Home Delivery\", \"Home Delivery\", \"Store Collection\", \"Home Delivery\", \"Store Collection\", \"Store Collection\", \"Home Delivery\", \"Store Collection\", \"Store Collection\", \"Home Delivery\", \"Home Delivery\", \"Home Delivery\", \"Home Delivery\", \"Store Collection\", \"Home Delivery\", \"Home Delivery\", \"Store Collection\", \"Store Collection\", \"Home Delivery\", \"Store Collection\"], \"marker\": {\"colors\": [\"gold\", \"darkorange\"], \"line\": {\"color\": \"#000000\", \"width\": 2}}, \"name\": \"New Customer\", \"textinfo\": \"value\", \"type\": \"pie\", \"values\": [311501.0, 36074.0, 17452.0, 3112.0, 17998.0, 297092.0, 35261.0, 2950.0, 292852.0, 33748.0, 2976.0, 17903.0, 2989.0, 35003.0, 310812.0, 18647.0, 35598.0, 300402.0, 17938.0, 3073.0, 301839.0, 34555.0, 2162.4, 13630.4, 35233.0, 18632.0, 3112.0, 299517.0, 35948.0, 301247.0, 2891.0, 18171.0, 302349.0, 33648.0, 18224.0, 2995.0, 34947.0, 301497.0, 18464.0, 2989.0, 310222.0, 17782.0, 35426.0, 2906.0, 34160.0, 2915.0, 304225.0, 18163.0, 290951.0, 18044.0, 2994.0, 35836.0, 2967.0, 33934.0, 291319.0, 17637.0, 34518.0, 18107.0, 3086.0, 308599.0, 303433.0, 34103.0, 17920.0, 2960.0, 303105.0, 35954.0, 3027.0, 18641.0, 34120.0, 304530.0, 3089.0, 18711.0, 35206.0, 311822.0, 2963.0, 17402.0, 33961.0, 311847.0, 2965.0, 18239.0, 284648.92, 32987.42, 16628.6, 2757.02, 289155.28, 32663.12, 2854.78, 16849.5, 31992.9, 2739.16, 16933.16, 292486.64, 32143.3, 278371.6, 2843.5, 17430.42, 32074.68, 17185.08, 278649.84, 2765.48, 33190.46, 2716.6, 281237.66, 17065.7, 32007.0, 2816.24, 284137.56, 17060.06, 33678.32, 288397.64, 2707.2, 17161.58, 33871.96, 2914.94, 283044.34, 17424.78, 33836.24, 283876.24, 16951.02, 2761.72]}],\n",
       "                        {\"annotations\": [{\"font\": {\"size\": 20}, \"showarrow\": false, \"text\": \"Existing\", \"x\": 0.18, \"y\": 0.5}, {\"font\": {\"size\": 20}, \"showarrow\": false, \"text\": \"New\", \"x\": 0.82, \"y\": 0.5}], \"template\": {\"data\": {\"bar\": [{\"error_x\": {\"color\": \"#2a3f5f\"}, \"error_y\": {\"color\": \"#2a3f5f\"}, \"marker\": {\"line\": {\"color\": \"#E5ECF6\", \"width\": 0.5}}, \"type\": \"bar\"}], \"barpolar\": [{\"marker\": {\"line\": {\"color\": \"#E5ECF6\", \"width\": 0.5}}, \"type\": \"barpolar\"}], \"carpet\": [{\"aaxis\": {\"endlinecolor\": \"#2a3f5f\", \"gridcolor\": \"white\", \"linecolor\": \"white\", \"minorgridcolor\": \"white\", \"startlinecolor\": \"#2a3f5f\"}, \"baxis\": {\"endlinecolor\": \"#2a3f5f\", \"gridcolor\": \"white\", \"linecolor\": \"white\", \"minorgridcolor\": \"white\", \"startlinecolor\": \"#2a3f5f\"}, \"type\": \"carpet\"}], \"choropleth\": [{\"colorbar\": {\"outlinewidth\": 0, \"ticks\": \"\"}, \"type\": \"choropleth\"}], \"contour\": [{\"colorbar\": {\"outlinewidth\": 0, \"ticks\": \"\"}, \"colorscale\": [[0.0, \"#0d0887\"], [0.1111111111111111, \"#46039f\"], [0.2222222222222222, \"#7201a8\"], [0.3333333333333333, \"#9c179e\"], [0.4444444444444444, \"#bd3786\"], [0.5555555555555556, \"#d8576b\"], [0.6666666666666666, \"#ed7953\"], [0.7777777777777778, \"#fb9f3a\"], [0.8888888888888888, \"#fdca26\"], [1.0, \"#f0f921\"]], \"type\": \"contour\"}], \"contourcarpet\": [{\"colorbar\": {\"outlinewidth\": 0, \"ticks\": \"\"}, \"type\": \"contourcarpet\"}], \"heatmap\": [{\"colorbar\": {\"outlinewidth\": 0, \"ticks\": \"\"}, \"colorscale\": [[0.0, \"#0d0887\"], [0.1111111111111111, \"#46039f\"], [0.2222222222222222, \"#7201a8\"], [0.3333333333333333, \"#9c179e\"], [0.4444444444444444, \"#bd3786\"], [0.5555555555555556, \"#d8576b\"], [0.6666666666666666, \"#ed7953\"], [0.7777777777777778, \"#fb9f3a\"], [0.8888888888888888, \"#fdca26\"], [1.0, \"#f0f921\"]], \"type\": \"heatmap\"}], \"heatmapgl\": [{\"colorbar\": {\"outlinewidth\": 0, \"ticks\": \"\"}, \"colorscale\": [[0.0, \"#0d0887\"], [0.1111111111111111, \"#46039f\"], [0.2222222222222222, \"#7201a8\"], [0.3333333333333333, \"#9c179e\"], [0.4444444444444444, \"#bd3786\"], [0.5555555555555556, \"#d8576b\"], [0.6666666666666666, \"#ed7953\"], [0.7777777777777778, \"#fb9f3a\"], [0.8888888888888888, \"#fdca26\"], [1.0, \"#f0f921\"]], \"type\": \"heatmapgl\"}], \"histogram\": [{\"marker\": {\"colorbar\": {\"outlinewidth\": 0, \"ticks\": \"\"}}, \"type\": \"histogram\"}], \"histogram2d\": [{\"colorbar\": {\"outlinewidth\": 0, \"ticks\": \"\"}, \"colorscale\": [[0.0, \"#0d0887\"], [0.1111111111111111, \"#46039f\"], [0.2222222222222222, \"#7201a8\"], [0.3333333333333333, \"#9c179e\"], [0.4444444444444444, \"#bd3786\"], [0.5555555555555556, \"#d8576b\"], [0.6666666666666666, \"#ed7953\"], [0.7777777777777778, \"#fb9f3a\"], [0.8888888888888888, \"#fdca26\"], [1.0, \"#f0f921\"]], \"type\": \"histogram2d\"}], \"histogram2dcontour\": [{\"colorbar\": {\"outlinewidth\": 0, \"ticks\": \"\"}, \"colorscale\": [[0.0, \"#0d0887\"], [0.1111111111111111, \"#46039f\"], [0.2222222222222222, \"#7201a8\"], [0.3333333333333333, \"#9c179e\"], [0.4444444444444444, \"#bd3786\"], [0.5555555555555556, \"#d8576b\"], [0.6666666666666666, \"#ed7953\"], [0.7777777777777778, \"#fb9f3a\"], [0.8888888888888888, \"#fdca26\"], [1.0, \"#f0f921\"]], \"type\": \"histogram2dcontour\"}], \"mesh3d\": [{\"colorbar\": {\"outlinewidth\": 0, \"ticks\": \"\"}, \"type\": \"mesh3d\"}], \"parcoords\": [{\"line\": {\"colorbar\": {\"outlinewidth\": 0, \"ticks\": \"\"}}, \"type\": \"parcoords\"}], \"pie\": [{\"automargin\": true, \"type\": \"pie\"}], \"scatter\": [{\"marker\": {\"colorbar\": {\"outlinewidth\": 0, \"ticks\": \"\"}}, \"type\": \"scatter\"}], \"scatter3d\": [{\"line\": {\"colorbar\": {\"outlinewidth\": 0, \"ticks\": \"\"}}, \"marker\": {\"colorbar\": {\"outlinewidth\": 0, \"ticks\": \"\"}}, \"type\": \"scatter3d\"}], \"scattercarpet\": [{\"marker\": {\"colorbar\": {\"outlinewidth\": 0, \"ticks\": \"\"}}, \"type\": \"scattercarpet\"}], \"scattergeo\": [{\"marker\": {\"colorbar\": {\"outlinewidth\": 0, \"ticks\": \"\"}}, \"type\": \"scattergeo\"}], \"scattergl\": [{\"marker\": {\"colorbar\": {\"outlinewidth\": 0, \"ticks\": \"\"}}, \"type\": \"scattergl\"}], \"scattermapbox\": [{\"marker\": {\"colorbar\": {\"outlinewidth\": 0, \"ticks\": \"\"}}, \"type\": \"scattermapbox\"}], \"scatterpolar\": [{\"marker\": {\"colorbar\": {\"outlinewidth\": 0, \"ticks\": \"\"}}, \"type\": \"scatterpolar\"}], \"scatterpolargl\": [{\"marker\": {\"colorbar\": {\"outlinewidth\": 0, \"ticks\": \"\"}}, \"type\": \"scatterpolargl\"}], \"scatterternary\": [{\"marker\": {\"colorbar\": {\"outlinewidth\": 0, \"ticks\": \"\"}}, \"type\": \"scatterternary\"}], \"surface\": [{\"colorbar\": {\"outlinewidth\": 0, \"ticks\": \"\"}, \"colorscale\": [[0.0, \"#0d0887\"], [0.1111111111111111, \"#46039f\"], [0.2222222222222222, \"#7201a8\"], [0.3333333333333333, \"#9c179e\"], [0.4444444444444444, \"#bd3786\"], [0.5555555555555556, \"#d8576b\"], [0.6666666666666666, \"#ed7953\"], [0.7777777777777778, \"#fb9f3a\"], [0.8888888888888888, \"#fdca26\"], [1.0, \"#f0f921\"]], \"type\": \"surface\"}], \"table\": [{\"cells\": {\"fill\": {\"color\": \"#EBF0F8\"}, \"line\": {\"color\": \"white\"}}, \"header\": {\"fill\": {\"color\": \"#C8D4E3\"}, \"line\": {\"color\": \"white\"}}, \"type\": \"table\"}]}, \"layout\": {\"annotationdefaults\": {\"arrowcolor\": \"#2a3f5f\", \"arrowhead\": 0, \"arrowwidth\": 1}, \"coloraxis\": {\"colorbar\": {\"outlinewidth\": 0, \"ticks\": \"\"}}, \"colorscale\": {\"diverging\": [[0, \"#8e0152\"], [0.1, \"#c51b7d\"], [0.2, \"#de77ae\"], [0.3, \"#f1b6da\"], [0.4, \"#fde0ef\"], [0.5, \"#f7f7f7\"], [0.6, \"#e6f5d0\"], [0.7, \"#b8e186\"], [0.8, \"#7fbc41\"], [0.9, \"#4d9221\"], [1, \"#276419\"]], \"sequential\": [[0.0, \"#0d0887\"], [0.1111111111111111, \"#46039f\"], [0.2222222222222222, \"#7201a8\"], [0.3333333333333333, \"#9c179e\"], [0.4444444444444444, \"#bd3786\"], [0.5555555555555556, \"#d8576b\"], [0.6666666666666666, \"#ed7953\"], [0.7777777777777778, \"#fb9f3a\"], [0.8888888888888888, \"#fdca26\"], [1.0, \"#f0f921\"]], \"sequentialminus\": [[0.0, \"#0d0887\"], [0.1111111111111111, \"#46039f\"], [0.2222222222222222, \"#7201a8\"], [0.3333333333333333, \"#9c179e\"], [0.4444444444444444, \"#bd3786\"], [0.5555555555555556, \"#d8576b\"], [0.6666666666666666, \"#ed7953\"], [0.7777777777777778, \"#fb9f3a\"], [0.8888888888888888, \"#fdca26\"], [1.0, \"#f0f921\"]]}, \"colorway\": [\"#636efa\", \"#EF553B\", \"#00cc96\", \"#ab63fa\", \"#FFA15A\", \"#19d3f3\", \"#FF6692\", \"#B6E880\", \"#FF97FF\", \"#FECB52\"], \"font\": {\"color\": \"#2a3f5f\"}, \"geo\": {\"bgcolor\": \"white\", \"lakecolor\": \"white\", \"landcolor\": \"#E5ECF6\", \"showlakes\": true, \"showland\": true, \"subunitcolor\": \"white\"}, \"hoverlabel\": {\"align\": \"left\"}, \"hovermode\": \"closest\", \"mapbox\": {\"style\": \"light\"}, \"paper_bgcolor\": \"white\", \"plot_bgcolor\": \"#E5ECF6\", \"polar\": {\"angularaxis\": {\"gridcolor\": \"white\", \"linecolor\": \"white\", \"ticks\": \"\"}, \"bgcolor\": \"#E5ECF6\", \"radialaxis\": {\"gridcolor\": \"white\", \"linecolor\": \"white\", \"ticks\": \"\"}}, \"scene\": {\"xaxis\": {\"backgroundcolor\": \"#E5ECF6\", \"gridcolor\": \"white\", \"gridwidth\": 2, \"linecolor\": \"white\", \"showbackground\": true, \"ticks\": \"\", \"zerolinecolor\": \"white\"}, \"yaxis\": {\"backgroundcolor\": \"#E5ECF6\", \"gridcolor\": \"white\", \"gridwidth\": 2, \"linecolor\": \"white\", \"showbackground\": true, \"ticks\": \"\", \"zerolinecolor\": \"white\"}, \"zaxis\": {\"backgroundcolor\": \"#E5ECF6\", \"gridcolor\": \"white\", \"gridwidth\": 2, \"linecolor\": \"white\", \"showbackground\": true, \"ticks\": \"\", \"zerolinecolor\": \"white\"}}, \"shapedefaults\": {\"line\": {\"color\": \"#2a3f5f\"}}, \"ternary\": {\"aaxis\": {\"gridcolor\": \"white\", \"linecolor\": \"white\", \"ticks\": \"\"}, \"baxis\": {\"gridcolor\": \"white\", \"linecolor\": \"white\", \"ticks\": \"\"}, \"bgcolor\": \"#E5ECF6\", \"caxis\": {\"gridcolor\": \"white\", \"linecolor\": \"white\", \"ticks\": \"\"}}, \"title\": {\"x\": 0.05}, \"xaxis\": {\"automargin\": true, \"gridcolor\": \"white\", \"linecolor\": \"white\", \"ticks\": \"\", \"title\": {\"standoff\": 15}, \"zerolinecolor\": \"white\", \"zerolinewidth\": 2}, \"yaxis\": {\"automargin\": true, \"gridcolor\": \"white\", \"linecolor\": \"white\", \"ticks\": \"\", \"title\": {\"standoff\": 15}, \"zerolinecolor\": \"white\", \"zerolinewidth\": 2}}}, \"title\": {\"text\": \"Customer Type & Delivery Type\"}},\n",
       "                        {\"responsive\": true}\n",
       "                    ).then(function(){\n",
       "                            \n",
       "var gd = document.getElementById('acc6aae7-a2bf-4461-bdf1-2acd1a4b77a0');\n",
       "var x = new MutationObserver(function (mutations, observer) {{\n",
       "        var display = window.getComputedStyle(gd).display;\n",
       "        if (!display || display === 'none') {{\n",
       "            console.log([gd, 'removed!']);\n",
       "            Plotly.purge(gd);\n",
       "            observer.disconnect();\n",
       "        }}\n",
       "}});\n",
       "\n",
       "// Listen for the removal of the full notebook cells\n",
       "var notebookContainer = gd.closest('#notebook-container');\n",
       "if (notebookContainer) {{\n",
       "    x.observe(notebookContainer, {childList: true});\n",
       "}}\n",
       "\n",
       "// Listen for the clearing of the current output cell\n",
       "var outputEl = gd.closest('.output');\n",
       "if (outputEl) {{\n",
       "    x.observe(outputEl, {childList: true});\n",
       "}}\n",
       "\n",
       "                        })\n",
       "                };\n",
       "                });\n",
       "            </script>\n",
       "        </div>"
      ]
     },
     "metadata": {},
     "output_type": "display_data"
    }
   ],
   "source": [
    "import plotly.graph_objects as go\n",
    "from plotly.subplots import make_subplots\n",
    "\n",
    "labels = df['Delivery Type']\n",
    "value_exist = df['Revenue'].loc[df['Customer Type'] == 'Existing']\n",
    "value_new = df['Revenue'].loc[df['Customer Type'] == 'New']\n",
    "colors = ['gold', 'darkorange']\n",
    "\n",
    "fig = make_subplots(rows=1, cols=2, specs=[[{'type':'domain'}, {'type':'domain'}]])\n",
    "fig.add_trace(go.Pie(labels=labels, values=value_exist, name=\"Existing Customer\"),\n",
    "              1, 1)\n",
    "fig.add_trace(go.Pie(labels=labels, values=value_new, name=\"New Customer\"),\n",
    "              1, 2)\n",
    "\n",
    "fig.update_traces(hole=.4, hoverinfo=\"label+percent+name\", textinfo = 'value',\n",
    "                 marker=dict(colors=colors, line=dict(color='#000000', width=2)))\n",
    "\n",
    "fig.update_layout(\n",
    "    title_text=\"Customer Type & Delivery Type\",\n",
    "    annotations=[dict(text='Existing', x=0.18, y=0.5, font_size=20, showarrow=False),\n",
    "                 dict(text='New', x=0.82, y=0.5, font_size=20, showarrow=False)])\n",
    "fig.show()"
   ]
  },
  {
   "cell_type": "markdown",
   "metadata": {},
   "source": [
    "- Based on dataframe created above, customers would like to pick up in-store rather than selecting home delivery. And sore collection related revenue is more than twice the revenue made with home delivery.\n",
    "\n",
    "- Based on Graphics comparing the revenue earned by existing and new customers and the delivery methods, the following information can be obtained:\n",
    "- for existing customers, there are not huge delivery methods preferences, which means 44.7% of existing customers prefer store collecting shopping items and 55.3% of existing customers prefer home delivery.\n",
    "- for new customers, they prefer store collecting than home delivery. only 37.7% of new customers prefer home delivery, but 62.3% of new customers prefer store collection."
   ]
  },
  {
   "cell_type": "markdown",
   "metadata": {},
   "source": [
    "## Device Type vs Revenue"
   ]
  },
  {
   "cell_type": "code",
   "execution_count": 29,
   "metadata": {},
   "outputs": [
    {
     "data": {
      "text/html": [
       "<div>\n",
       "<style scoped>\n",
       "    .dataframe tbody tr th:only-of-type {\n",
       "        vertical-align: middle;\n",
       "    }\n",
       "\n",
       "    .dataframe tbody tr th {\n",
       "        vertical-align: top;\n",
       "    }\n",
       "\n",
       "    .dataframe thead th {\n",
       "        text-align: right;\n",
       "    }\n",
       "</style>\n",
       "<table border=\"1\" class=\"dataframe\">\n",
       "  <thead>\n",
       "    <tr style=\"text-align: right;\">\n",
       "      <th></th>\n",
       "      <th></th>\n",
       "      <th>Revenue</th>\n",
       "      <th>Percentage</th>\n",
       "    </tr>\n",
       "    <tr>\n",
       "      <th>Device Type</th>\n",
       "      <th>Delivery Type</th>\n",
       "      <th></th>\n",
       "      <th></th>\n",
       "    </tr>\n",
       "  </thead>\n",
       "  <tbody>\n",
       "    <tr>\n",
       "      <td rowspan=\"2\" valign=\"top\">Desktop</td>\n",
       "      <td>Home Delivery</td>\n",
       "      <td>58668333.32</td>\n",
       "      <td>45.776325</td>\n",
       "    </tr>\n",
       "    <tr>\n",
       "      <td>Store Collection</td>\n",
       "      <td>11931744.02</td>\n",
       "      <td>9.309816</td>\n",
       "    </tr>\n",
       "    <tr>\n",
       "      <td rowspan=\"2\" valign=\"top\">Mobile</td>\n",
       "      <td>Home Delivery</td>\n",
       "      <td>47244550.18</td>\n",
       "      <td>36.862849</td>\n",
       "    </tr>\n",
       "    <tr>\n",
       "      <td>Store Collection</td>\n",
       "      <td>10318420.02</td>\n",
       "      <td>8.051010</td>\n",
       "    </tr>\n",
       "  </tbody>\n",
       "</table>\n",
       "</div>"
      ],
      "text/plain": [
       "                                  Revenue  Percentage\n",
       "Device Type Delivery Type                            \n",
       "Desktop     Home Delivery     58668333.32   45.776325\n",
       "            Store Collection  11931744.02    9.309816\n",
       "Mobile      Home Delivery     47244550.18   36.862849\n",
       "            Store Collection  10318420.02    8.051010"
      ]
     },
     "execution_count": 29,
     "metadata": {},
     "output_type": "execute_result"
    }
   ],
   "source": [
    "df_device = df.groupby(['Device Type','Delivery Type']).sum()\n",
    "df_device['Percentage'] = (df_device['Revenue']/df_device['Revenue'].sum()) * 100\n",
    "df_device[['Revenue', 'Percentage']]"
   ]
  },
  {
   "cell_type": "code",
   "execution_count": 14,
   "metadata": {},
   "outputs": [
    {
     "data": {
      "application/vnd.plotly.v1+json": {
       "config": {
        "plotlyServerURL": "https://plot.ly"
       },
       "data": [
        {
         "dimensions": [
          {
           "axis": {
            "matches": true
           },
           "label": "Orders",
           "values": [
            4037,
            3450,
            399,
            17673,
            18023,
            4154,
            3457,
            395,
            3410,
            18425,
            407,
            4240,
            4111,
            399,
            17366,
            3589,
            406,
            3617,
            4256,
            17049,
            4286,
            3572,
            406,
            17128,
            398,
            18401,
            4054,
            3467,
            18343,
            4267,
            419,
            3490,
            3375,
            4286,
            399,
            17648,
            417,
            3560,
            4153,
            17848,
            3392,
            399,
            4118,
            17695,
            419,
            4122,
            17567,
            3313,
            3486,
            4136,
            18000,
            394,
            4105,
            409,
            3561,
            17321,
            414,
            17228,
            3545,
            4099,
            2967,
            409,
            4175,
            17678,
            4045,
            17843,
            3458,
            404,
            4052,
            17820,
            399,
            3419,
            411,
            3453,
            17217,
            4066,
            411,
            3483,
            17430,
            4074,
            3651,
            15588,
            3132,
            360,
            3670,
            3222,
            16219,
            362,
            355,
            15501,
            3665,
            3034,
            356,
            16199,
            2976,
            3663,
            366,
            15317,
            3699,
            3039,
            3923,
            364,
            3201,
            15659,
            15823,
            364,
            3735,
            3114,
            3636,
            355,
            3048,
            15791,
            364,
            3078,
            3753,
            15660,
            362,
            3027,
            3759,
            15379
           ]
          },
          {
           "axis": {
            "matches": true
           },
           "label": "Revenue",
           "values": [
            379289,
            311501,
            36074,
            1652713,
            1711522,
            361158,
            297092,
            35261,
            292852,
            1666715,
            33748,
            376697,
            373562,
            35003,
            1710571,
            310812,
            35598,
            300402,
            374268,
            1741320,
            362007,
            301839,
            34555,
            1672010,
            35233,
            1679160,
            362010,
            299517,
            1691311,
            375244,
            35948,
            301247,
            302349,
            358630,
            33648,
            1649252,
            34947,
            301497,
            379813,
            1686104,
            310222,
            35426,
            355773,
            1732054,
            34160,
            367985,
            1709779,
            304225,
            290951,
            362014,
            1719307,
            35836,
            372953,
            33934,
            291319,
            1743548,
            34518,
            1751864,
            308599,
            383745,
            303433,
            34103,
            373574,
            1754791,
            379234,
            1636065,
            303105,
            35954,
            367856,
            1672969,
            34120,
            304530,
            35206,
            311822,
            1674399,
            373425,
            33961,
            311847,
            1685574,
            358445,
            340187.88,
            1541537.96,
            284648.92,
            32987.42,
            357858,
            289155.28,
            1590664.24,
            32663.12,
            31992.9,
            1632545,
            360198.6,
            292486.64,
            32143.3,
            1559010.68,
            278371.6,
            346539.46,
            32074.68,
            1615483.06,
            342118.64,
            278649.84,
            358955.92,
            33190.46,
            281237.66,
            1531560.8,
            1534545.3,
            32007,
            343609.48,
            284137.56,
            359798.16,
            33678.32,
            288397.64,
            1546003.9,
            33871.96,
            283044.34,
            361283.36,
            1650209.48,
            33836.24,
            283876.24,
            337834.12,
            1622578.18
           ]
          }
         ],
         "hoverlabel": {
          "namelength": 0
         },
         "hovertemplate": "Device Type=Desktop <br>%{xaxis.title.text}=%{x}<br>%{yaxis.title.text}=%{y}",
         "legendgroup": "Desktop ",
         "marker": {
          "color": "#636efa",
          "symbol": "circle"
         },
         "name": "Desktop ",
         "showlegend": true,
         "type": "splom"
        },
        {
         "dimensions": [
          {
           "axis": {
            "matches": true
           },
           "label": "Orders",
           "values": [
            250,
            3855,
            17027,
            43,
            3800,
            246,
            16977,
            42,
            3999,
            17321,
            41,
            251,
            17101,
            43,
            3994,
            245,
            4049,
            17100,
            250,
            43,
            14345,
            3201,
            31,
            205,
            3999,
            255,
            16835,
            43,
            17000,
            3873,
            43,
            241,
            3856,
            252,
            17297,
            42,
            17067,
            3862,
            257,
            43,
            17136,
            3976,
            240,
            41,
            17274,
            4146,
            41,
            243,
            16800,
            4024,
            245,
            43,
            17047,
            43,
            3845,
            241,
            17017,
            3995,
            257,
            41,
            16817,
            251,
            3909,
            42,
            3965,
            17518,
            42,
            250,
            17052,
            43,
            3937,
            246,
            3993,
            17099,
            42,
            259,
            4096,
            17005,
            43,
            241,
            15568,
            3673,
            225,
            36,
            3471,
            15525,
            36,
            215,
            15350,
            38,
            226,
            3735,
            3530,
            15301,
            37,
            232,
            15645,
            3636,
            224,
            38,
            3509,
            15538,
            36,
            216,
            15199,
            36,
            3490,
            222,
            3490,
            15464,
            38,
            218,
            37,
            3494,
            14920,
            219,
            15372,
            228,
            3522,
            36
           ]
          },
          {
           "axis": {
            "matches": true
           },
           "label": "Revenue",
           "values": [
            17452,
            360265,
            1608022,
            3112,
            350621,
            17998,
            1662204,
            2950,
            344095,
            1634720,
            2976,
            17903,
            1606280,
            2989,
            347254,
            18647,
            341851,
            1650728,
            17938,
            3073,
            1311503.2,
            274612,
            2162.4,
            13630.4,
            359112,
            18632,
            1554484,
            3112,
            1536876,
            352986,
            2891,
            18171,
            359325,
            18224,
            1558109,
            2995,
            1601690,
            356755,
            18464,
            2989,
            1573287,
            349612,
            17782,
            2906,
            1597619,
            347930,
            2915,
            18163,
            1652184,
            354459,
            18044,
            2994,
            1636097,
            2967,
            362969,
            17637,
            1617451,
            349933,
            18107,
            3086,
            1612672,
            17920,
            345381,
            2960,
            353845,
            1585956,
            3027,
            18641,
            1601516,
            3089,
            353856,
            18711,
            341255,
            1539996,
            2963,
            17402,
            342058,
            1558898,
            2965,
            18239,
            1551763.28,
            329021.62,
            16628.6,
            2757.02,
            328238.6,
            1520031.7,
            2854.78,
            16849.5,
            1499865.88,
            2739.16,
            16933.16,
            340364.6,
            340988.76,
            1464108.28,
            2843.5,
            17430.42,
            1470504.98,
            325412.96,
            17185.08,
            2765.48,
            326323.82,
            1457955.98,
            2716.6,
            17065.7,
            1535797.38,
            2816.24,
            322007.34,
            17060.06,
            326410.3,
            1466968.7,
            2707.2,
            17161.58,
            2914.94,
            321216.8,
            1503809.18,
            17424.78,
            1545057.32,
            16951.02,
            323263.18,
            2761.72
           ]
          }
         ],
         "hoverlabel": {
          "namelength": 0
         },
         "hovertemplate": "Device Type=Mobile <br>%{xaxis.title.text}=%{x}<br>%{yaxis.title.text}=%{y}",
         "legendgroup": "Mobile ",
         "marker": {
          "color": "#EF553B",
          "symbol": "circle"
         },
         "name": "Mobile ",
         "showlegend": true,
         "type": "splom"
        }
       ],
       "layout": {
        "dragmode": "select",
        "legend": {
         "title": {
          "text": "Device Type"
         },
         "tracegroupgap": 0
        },
        "margin": {
         "t": 60
        },
        "template": {
         "data": {
          "bar": [
           {
            "error_x": {
             "color": "#2a3f5f"
            },
            "error_y": {
             "color": "#2a3f5f"
            },
            "marker": {
             "line": {
              "color": "#E5ECF6",
              "width": 0.5
             }
            },
            "type": "bar"
           }
          ],
          "barpolar": [
           {
            "marker": {
             "line": {
              "color": "#E5ECF6",
              "width": 0.5
             }
            },
            "type": "barpolar"
           }
          ],
          "carpet": [
           {
            "aaxis": {
             "endlinecolor": "#2a3f5f",
             "gridcolor": "white",
             "linecolor": "white",
             "minorgridcolor": "white",
             "startlinecolor": "#2a3f5f"
            },
            "baxis": {
             "endlinecolor": "#2a3f5f",
             "gridcolor": "white",
             "linecolor": "white",
             "minorgridcolor": "white",
             "startlinecolor": "#2a3f5f"
            },
            "type": "carpet"
           }
          ],
          "choropleth": [
           {
            "colorbar": {
             "outlinewidth": 0,
             "ticks": ""
            },
            "type": "choropleth"
           }
          ],
          "contour": [
           {
            "colorbar": {
             "outlinewidth": 0,
             "ticks": ""
            },
            "colorscale": [
             [
              0,
              "#0d0887"
             ],
             [
              0.1111111111111111,
              "#46039f"
             ],
             [
              0.2222222222222222,
              "#7201a8"
             ],
             [
              0.3333333333333333,
              "#9c179e"
             ],
             [
              0.4444444444444444,
              "#bd3786"
             ],
             [
              0.5555555555555556,
              "#d8576b"
             ],
             [
              0.6666666666666666,
              "#ed7953"
             ],
             [
              0.7777777777777778,
              "#fb9f3a"
             ],
             [
              0.8888888888888888,
              "#fdca26"
             ],
             [
              1,
              "#f0f921"
             ]
            ],
            "type": "contour"
           }
          ],
          "contourcarpet": [
           {
            "colorbar": {
             "outlinewidth": 0,
             "ticks": ""
            },
            "type": "contourcarpet"
           }
          ],
          "heatmap": [
           {
            "colorbar": {
             "outlinewidth": 0,
             "ticks": ""
            },
            "colorscale": [
             [
              0,
              "#0d0887"
             ],
             [
              0.1111111111111111,
              "#46039f"
             ],
             [
              0.2222222222222222,
              "#7201a8"
             ],
             [
              0.3333333333333333,
              "#9c179e"
             ],
             [
              0.4444444444444444,
              "#bd3786"
             ],
             [
              0.5555555555555556,
              "#d8576b"
             ],
             [
              0.6666666666666666,
              "#ed7953"
             ],
             [
              0.7777777777777778,
              "#fb9f3a"
             ],
             [
              0.8888888888888888,
              "#fdca26"
             ],
             [
              1,
              "#f0f921"
             ]
            ],
            "type": "heatmap"
           }
          ],
          "heatmapgl": [
           {
            "colorbar": {
             "outlinewidth": 0,
             "ticks": ""
            },
            "colorscale": [
             [
              0,
              "#0d0887"
             ],
             [
              0.1111111111111111,
              "#46039f"
             ],
             [
              0.2222222222222222,
              "#7201a8"
             ],
             [
              0.3333333333333333,
              "#9c179e"
             ],
             [
              0.4444444444444444,
              "#bd3786"
             ],
             [
              0.5555555555555556,
              "#d8576b"
             ],
             [
              0.6666666666666666,
              "#ed7953"
             ],
             [
              0.7777777777777778,
              "#fb9f3a"
             ],
             [
              0.8888888888888888,
              "#fdca26"
             ],
             [
              1,
              "#f0f921"
             ]
            ],
            "type": "heatmapgl"
           }
          ],
          "histogram": [
           {
            "marker": {
             "colorbar": {
              "outlinewidth": 0,
              "ticks": ""
             }
            },
            "type": "histogram"
           }
          ],
          "histogram2d": [
           {
            "colorbar": {
             "outlinewidth": 0,
             "ticks": ""
            },
            "colorscale": [
             [
              0,
              "#0d0887"
             ],
             [
              0.1111111111111111,
              "#46039f"
             ],
             [
              0.2222222222222222,
              "#7201a8"
             ],
             [
              0.3333333333333333,
              "#9c179e"
             ],
             [
              0.4444444444444444,
              "#bd3786"
             ],
             [
              0.5555555555555556,
              "#d8576b"
             ],
             [
              0.6666666666666666,
              "#ed7953"
             ],
             [
              0.7777777777777778,
              "#fb9f3a"
             ],
             [
              0.8888888888888888,
              "#fdca26"
             ],
             [
              1,
              "#f0f921"
             ]
            ],
            "type": "histogram2d"
           }
          ],
          "histogram2dcontour": [
           {
            "colorbar": {
             "outlinewidth": 0,
             "ticks": ""
            },
            "colorscale": [
             [
              0,
              "#0d0887"
             ],
             [
              0.1111111111111111,
              "#46039f"
             ],
             [
              0.2222222222222222,
              "#7201a8"
             ],
             [
              0.3333333333333333,
              "#9c179e"
             ],
             [
              0.4444444444444444,
              "#bd3786"
             ],
             [
              0.5555555555555556,
              "#d8576b"
             ],
             [
              0.6666666666666666,
              "#ed7953"
             ],
             [
              0.7777777777777778,
              "#fb9f3a"
             ],
             [
              0.8888888888888888,
              "#fdca26"
             ],
             [
              1,
              "#f0f921"
             ]
            ],
            "type": "histogram2dcontour"
           }
          ],
          "mesh3d": [
           {
            "colorbar": {
             "outlinewidth": 0,
             "ticks": ""
            },
            "type": "mesh3d"
           }
          ],
          "parcoords": [
           {
            "line": {
             "colorbar": {
              "outlinewidth": 0,
              "ticks": ""
             }
            },
            "type": "parcoords"
           }
          ],
          "pie": [
           {
            "automargin": true,
            "type": "pie"
           }
          ],
          "scatter": [
           {
            "marker": {
             "colorbar": {
              "outlinewidth": 0,
              "ticks": ""
             }
            },
            "type": "scatter"
           }
          ],
          "scatter3d": [
           {
            "line": {
             "colorbar": {
              "outlinewidth": 0,
              "ticks": ""
             }
            },
            "marker": {
             "colorbar": {
              "outlinewidth": 0,
              "ticks": ""
             }
            },
            "type": "scatter3d"
           }
          ],
          "scattercarpet": [
           {
            "marker": {
             "colorbar": {
              "outlinewidth": 0,
              "ticks": ""
             }
            },
            "type": "scattercarpet"
           }
          ],
          "scattergeo": [
           {
            "marker": {
             "colorbar": {
              "outlinewidth": 0,
              "ticks": ""
             }
            },
            "type": "scattergeo"
           }
          ],
          "scattergl": [
           {
            "marker": {
             "colorbar": {
              "outlinewidth": 0,
              "ticks": ""
             }
            },
            "type": "scattergl"
           }
          ],
          "scattermapbox": [
           {
            "marker": {
             "colorbar": {
              "outlinewidth": 0,
              "ticks": ""
             }
            },
            "type": "scattermapbox"
           }
          ],
          "scatterpolar": [
           {
            "marker": {
             "colorbar": {
              "outlinewidth": 0,
              "ticks": ""
             }
            },
            "type": "scatterpolar"
           }
          ],
          "scatterpolargl": [
           {
            "marker": {
             "colorbar": {
              "outlinewidth": 0,
              "ticks": ""
             }
            },
            "type": "scatterpolargl"
           }
          ],
          "scatterternary": [
           {
            "marker": {
             "colorbar": {
              "outlinewidth": 0,
              "ticks": ""
             }
            },
            "type": "scatterternary"
           }
          ],
          "surface": [
           {
            "colorbar": {
             "outlinewidth": 0,
             "ticks": ""
            },
            "colorscale": [
             [
              0,
              "#0d0887"
             ],
             [
              0.1111111111111111,
              "#46039f"
             ],
             [
              0.2222222222222222,
              "#7201a8"
             ],
             [
              0.3333333333333333,
              "#9c179e"
             ],
             [
              0.4444444444444444,
              "#bd3786"
             ],
             [
              0.5555555555555556,
              "#d8576b"
             ],
             [
              0.6666666666666666,
              "#ed7953"
             ],
             [
              0.7777777777777778,
              "#fb9f3a"
             ],
             [
              0.8888888888888888,
              "#fdca26"
             ],
             [
              1,
              "#f0f921"
             ]
            ],
            "type": "surface"
           }
          ],
          "table": [
           {
            "cells": {
             "fill": {
              "color": "#EBF0F8"
             },
             "line": {
              "color": "white"
             }
            },
            "header": {
             "fill": {
              "color": "#C8D4E3"
             },
             "line": {
              "color": "white"
             }
            },
            "type": "table"
           }
          ]
         },
         "layout": {
          "annotationdefaults": {
           "arrowcolor": "#2a3f5f",
           "arrowhead": 0,
           "arrowwidth": 1
          },
          "coloraxis": {
           "colorbar": {
            "outlinewidth": 0,
            "ticks": ""
           }
          },
          "colorscale": {
           "diverging": [
            [
             0,
             "#8e0152"
            ],
            [
             0.1,
             "#c51b7d"
            ],
            [
             0.2,
             "#de77ae"
            ],
            [
             0.3,
             "#f1b6da"
            ],
            [
             0.4,
             "#fde0ef"
            ],
            [
             0.5,
             "#f7f7f7"
            ],
            [
             0.6,
             "#e6f5d0"
            ],
            [
             0.7,
             "#b8e186"
            ],
            [
             0.8,
             "#7fbc41"
            ],
            [
             0.9,
             "#4d9221"
            ],
            [
             1,
             "#276419"
            ]
           ],
           "sequential": [
            [
             0,
             "#0d0887"
            ],
            [
             0.1111111111111111,
             "#46039f"
            ],
            [
             0.2222222222222222,
             "#7201a8"
            ],
            [
             0.3333333333333333,
             "#9c179e"
            ],
            [
             0.4444444444444444,
             "#bd3786"
            ],
            [
             0.5555555555555556,
             "#d8576b"
            ],
            [
             0.6666666666666666,
             "#ed7953"
            ],
            [
             0.7777777777777778,
             "#fb9f3a"
            ],
            [
             0.8888888888888888,
             "#fdca26"
            ],
            [
             1,
             "#f0f921"
            ]
           ],
           "sequentialminus": [
            [
             0,
             "#0d0887"
            ],
            [
             0.1111111111111111,
             "#46039f"
            ],
            [
             0.2222222222222222,
             "#7201a8"
            ],
            [
             0.3333333333333333,
             "#9c179e"
            ],
            [
             0.4444444444444444,
             "#bd3786"
            ],
            [
             0.5555555555555556,
             "#d8576b"
            ],
            [
             0.6666666666666666,
             "#ed7953"
            ],
            [
             0.7777777777777778,
             "#fb9f3a"
            ],
            [
             0.8888888888888888,
             "#fdca26"
            ],
            [
             1,
             "#f0f921"
            ]
           ]
          },
          "colorway": [
           "#636efa",
           "#EF553B",
           "#00cc96",
           "#ab63fa",
           "#FFA15A",
           "#19d3f3",
           "#FF6692",
           "#B6E880",
           "#FF97FF",
           "#FECB52"
          ],
          "font": {
           "color": "#2a3f5f"
          },
          "geo": {
           "bgcolor": "white",
           "lakecolor": "white",
           "landcolor": "#E5ECF6",
           "showlakes": true,
           "showland": true,
           "subunitcolor": "white"
          },
          "hoverlabel": {
           "align": "left"
          },
          "hovermode": "closest",
          "mapbox": {
           "style": "light"
          },
          "paper_bgcolor": "white",
          "plot_bgcolor": "#E5ECF6",
          "polar": {
           "angularaxis": {
            "gridcolor": "white",
            "linecolor": "white",
            "ticks": ""
           },
           "bgcolor": "#E5ECF6",
           "radialaxis": {
            "gridcolor": "white",
            "linecolor": "white",
            "ticks": ""
           }
          },
          "scene": {
           "xaxis": {
            "backgroundcolor": "#E5ECF6",
            "gridcolor": "white",
            "gridwidth": 2,
            "linecolor": "white",
            "showbackground": true,
            "ticks": "",
            "zerolinecolor": "white"
           },
           "yaxis": {
            "backgroundcolor": "#E5ECF6",
            "gridcolor": "white",
            "gridwidth": 2,
            "linecolor": "white",
            "showbackground": true,
            "ticks": "",
            "zerolinecolor": "white"
           },
           "zaxis": {
            "backgroundcolor": "#E5ECF6",
            "gridcolor": "white",
            "gridwidth": 2,
            "linecolor": "white",
            "showbackground": true,
            "ticks": "",
            "zerolinecolor": "white"
           }
          },
          "shapedefaults": {
           "line": {
            "color": "#2a3f5f"
           }
          },
          "ternary": {
           "aaxis": {
            "gridcolor": "white",
            "linecolor": "white",
            "ticks": ""
           },
           "baxis": {
            "gridcolor": "white",
            "linecolor": "white",
            "ticks": ""
           },
           "bgcolor": "#E5ECF6",
           "caxis": {
            "gridcolor": "white",
            "linecolor": "white",
            "ticks": ""
           }
          },
          "title": {
           "x": 0.05
          },
          "xaxis": {
           "automargin": true,
           "gridcolor": "white",
           "linecolor": "white",
           "ticks": "",
           "title": {
            "standoff": 15
           },
           "zerolinecolor": "white",
           "zerolinewidth": 2
          },
          "yaxis": {
           "automargin": true,
           "gridcolor": "white",
           "linecolor": "white",
           "ticks": "",
           "title": {
            "standoff": 15
           },
           "zerolinecolor": "white",
           "zerolinewidth": 2
          }
         }
        }
       }
      },
      "text/html": [
       "<div>\n",
       "        \n",
       "        \n",
       "            <div id=\"ec118a45-629b-4beb-bcb5-945100cfb083\" class=\"plotly-graph-div\" style=\"height:525px; width:100%;\"></div>\n",
       "            <script type=\"text/javascript\">\n",
       "                require([\"plotly\"], function(Plotly) {\n",
       "                    window.PLOTLYENV=window.PLOTLYENV || {};\n",
       "                    \n",
       "                if (document.getElementById(\"ec118a45-629b-4beb-bcb5-945100cfb083\")) {\n",
       "                    Plotly.newPlot(\n",
       "                        'ec118a45-629b-4beb-bcb5-945100cfb083',\n",
       "                        [{\"dimensions\": [{\"axis\": {\"matches\": true}, \"label\": \"Orders\", \"values\": [4037, 3450, 399, 17673, 18023, 4154, 3457, 395, 3410, 18425, 407, 4240, 4111, 399, 17366, 3589, 406, 3617, 4256, 17049, 4286, 3572, 406, 17128, 398, 18401, 4054, 3467, 18343, 4267, 419, 3490, 3375, 4286, 399, 17648, 417, 3560, 4153, 17848, 3392, 399, 4118, 17695, 419, 4122, 17567, 3313, 3486, 4136, 18000, 394, 4105, 409, 3561, 17321, 414, 17228, 3545, 4099, 2967, 409, 4175, 17678, 4045, 17843, 3458, 404, 4052, 17820, 399, 3419, 411, 3453, 17217, 4066, 411, 3483, 17430, 4074, 3651, 15588, 3132, 360, 3670, 3222, 16219, 362, 355, 15501, 3665, 3034, 356, 16199, 2976, 3663, 366, 15317, 3699, 3039, 3923, 364, 3201, 15659, 15823, 364, 3735, 3114, 3636, 355, 3048, 15791, 364, 3078, 3753, 15660, 362, 3027, 3759, 15379]}, {\"axis\": {\"matches\": true}, \"label\": \"Revenue\", \"values\": [379289.0, 311501.0, 36074.0, 1652713.0, 1711522.0, 361158.0, 297092.0, 35261.0, 292852.0, 1666715.0, 33748.0, 376697.0, 373562.0, 35003.0, 1710571.0, 310812.0, 35598.0, 300402.0, 374268.0, 1741320.0, 362007.0, 301839.0, 34555.0, 1672010.0, 35233.0, 1679160.0, 362010.0, 299517.0, 1691311.0, 375244.0, 35948.0, 301247.0, 302349.0, 358630.0, 33648.0, 1649252.0, 34947.0, 301497.0, 379813.0, 1686104.0, 310222.0, 35426.0, 355773.0, 1732054.0, 34160.0, 367985.0, 1709779.0, 304225.0, 290951.0, 362014.0, 1719307.0, 35836.0, 372953.0, 33934.0, 291319.0, 1743548.0, 34518.0, 1751864.0, 308599.0, 383745.0, 303433.0, 34103.0, 373574.0, 1754791.0, 379234.0, 1636065.0, 303105.0, 35954.0, 367856.0, 1672969.0, 34120.0, 304530.0, 35206.0, 311822.0, 1674399.0, 373425.0, 33961.0, 311847.0, 1685574.0, 358445.0, 340187.88, 1541537.96, 284648.92, 32987.42, 357858.0, 289155.28, 1590664.24, 32663.12, 31992.9, 1632545.0, 360198.6, 292486.64, 32143.3, 1559010.68, 278371.6, 346539.46, 32074.68, 1615483.06, 342118.64, 278649.84, 358955.92, 33190.46, 281237.66, 1531560.8, 1534545.3, 32007.0, 343609.48, 284137.56, 359798.16, 33678.32, 288397.64, 1546003.9, 33871.96, 283044.34, 361283.36, 1650209.48, 33836.24, 283876.24, 337834.12, 1622578.18]}], \"hoverlabel\": {\"namelength\": 0}, \"hovertemplate\": \"Device Type=Desktop <br>%{xaxis.title.text}=%{x}<br>%{yaxis.title.text}=%{y}\", \"legendgroup\": \"Desktop \", \"marker\": {\"color\": \"#636efa\", \"symbol\": \"circle\"}, \"name\": \"Desktop \", \"showlegend\": true, \"type\": \"splom\"}, {\"dimensions\": [{\"axis\": {\"matches\": true}, \"label\": \"Orders\", \"values\": [250, 3855, 17027, 43, 3800, 246, 16977, 42, 3999, 17321, 41, 251, 17101, 43, 3994, 245, 4049, 17100, 250, 43, 14345, 3201, 31, 205, 3999, 255, 16835, 43, 17000, 3873, 43, 241, 3856, 252, 17297, 42, 17067, 3862, 257, 43, 17136, 3976, 240, 41, 17274, 4146, 41, 243, 16800, 4024, 245, 43, 17047, 43, 3845, 241, 17017, 3995, 257, 41, 16817, 251, 3909, 42, 3965, 17518, 42, 250, 17052, 43, 3937, 246, 3993, 17099, 42, 259, 4096, 17005, 43, 241, 15568, 3673, 225, 36, 3471, 15525, 36, 215, 15350, 38, 226, 3735, 3530, 15301, 37, 232, 15645, 3636, 224, 38, 3509, 15538, 36, 216, 15199, 36, 3490, 222, 3490, 15464, 38, 218, 37, 3494, 14920, 219, 15372, 228, 3522, 36]}, {\"axis\": {\"matches\": true}, \"label\": \"Revenue\", \"values\": [17452.0, 360265.0, 1608022.0, 3112.0, 350621.0, 17998.0, 1662204.0, 2950.0, 344095.0, 1634720.0, 2976.0, 17903.0, 1606280.0, 2989.0, 347254.0, 18647.0, 341851.0, 1650728.0, 17938.0, 3073.0, 1311503.2, 274612.0, 2162.4, 13630.4, 359112.0, 18632.0, 1554484.0, 3112.0, 1536876.0, 352986.0, 2891.0, 18171.0, 359325.0, 18224.0, 1558109.0, 2995.0, 1601690.0, 356755.0, 18464.0, 2989.0, 1573287.0, 349612.0, 17782.0, 2906.0, 1597619.0, 347930.0, 2915.0, 18163.0, 1652184.0, 354459.0, 18044.0, 2994.0, 1636097.0, 2967.0, 362969.0, 17637.0, 1617451.0, 349933.0, 18107.0, 3086.0, 1612672.0, 17920.0, 345381.0, 2960.0, 353845.0, 1585956.0, 3027.0, 18641.0, 1601516.0, 3089.0, 353856.0, 18711.0, 341255.0, 1539996.0, 2963.0, 17402.0, 342058.0, 1558898.0, 2965.0, 18239.0, 1551763.28, 329021.62, 16628.6, 2757.02, 328238.6, 1520031.7, 2854.78, 16849.5, 1499865.88, 2739.16, 16933.16, 340364.6, 340988.76, 1464108.28, 2843.5, 17430.42, 1470504.98, 325412.96, 17185.08, 2765.48, 326323.82, 1457955.98, 2716.6, 17065.7, 1535797.38, 2816.24, 322007.34, 17060.06, 326410.3, 1466968.7, 2707.2, 17161.58, 2914.94, 321216.8, 1503809.18, 17424.78, 1545057.32, 16951.02, 323263.18, 2761.72]}], \"hoverlabel\": {\"namelength\": 0}, \"hovertemplate\": \"Device Type=Mobile <br>%{xaxis.title.text}=%{x}<br>%{yaxis.title.text}=%{y}\", \"legendgroup\": \"Mobile \", \"marker\": {\"color\": \"#EF553B\", \"symbol\": \"circle\"}, \"name\": \"Mobile \", \"showlegend\": true, \"type\": \"splom\"}],\n",
       "                        {\"dragmode\": \"select\", \"legend\": {\"title\": {\"text\": \"Device Type\"}, \"tracegroupgap\": 0}, \"margin\": {\"t\": 60}, \"template\": {\"data\": {\"bar\": [{\"error_x\": {\"color\": \"#2a3f5f\"}, \"error_y\": {\"color\": \"#2a3f5f\"}, \"marker\": {\"line\": {\"color\": \"#E5ECF6\", \"width\": 0.5}}, \"type\": \"bar\"}], \"barpolar\": [{\"marker\": {\"line\": {\"color\": \"#E5ECF6\", \"width\": 0.5}}, \"type\": \"barpolar\"}], \"carpet\": [{\"aaxis\": {\"endlinecolor\": \"#2a3f5f\", \"gridcolor\": \"white\", \"linecolor\": \"white\", \"minorgridcolor\": \"white\", \"startlinecolor\": \"#2a3f5f\"}, \"baxis\": {\"endlinecolor\": \"#2a3f5f\", \"gridcolor\": \"white\", \"linecolor\": \"white\", \"minorgridcolor\": \"white\", \"startlinecolor\": \"#2a3f5f\"}, \"type\": \"carpet\"}], \"choropleth\": [{\"colorbar\": {\"outlinewidth\": 0, \"ticks\": \"\"}, \"type\": \"choropleth\"}], \"contour\": [{\"colorbar\": {\"outlinewidth\": 0, \"ticks\": \"\"}, \"colorscale\": [[0.0, \"#0d0887\"], [0.1111111111111111, \"#46039f\"], [0.2222222222222222, \"#7201a8\"], [0.3333333333333333, \"#9c179e\"], [0.4444444444444444, \"#bd3786\"], [0.5555555555555556, \"#d8576b\"], [0.6666666666666666, \"#ed7953\"], [0.7777777777777778, \"#fb9f3a\"], [0.8888888888888888, \"#fdca26\"], [1.0, \"#f0f921\"]], \"type\": \"contour\"}], \"contourcarpet\": [{\"colorbar\": {\"outlinewidth\": 0, \"ticks\": \"\"}, \"type\": \"contourcarpet\"}], \"heatmap\": [{\"colorbar\": {\"outlinewidth\": 0, \"ticks\": \"\"}, \"colorscale\": [[0.0, \"#0d0887\"], [0.1111111111111111, \"#46039f\"], [0.2222222222222222, \"#7201a8\"], [0.3333333333333333, \"#9c179e\"], [0.4444444444444444, \"#bd3786\"], [0.5555555555555556, \"#d8576b\"], [0.6666666666666666, \"#ed7953\"], [0.7777777777777778, \"#fb9f3a\"], [0.8888888888888888, \"#fdca26\"], [1.0, \"#f0f921\"]], \"type\": \"heatmap\"}], \"heatmapgl\": [{\"colorbar\": {\"outlinewidth\": 0, \"ticks\": \"\"}, \"colorscale\": [[0.0, \"#0d0887\"], [0.1111111111111111, \"#46039f\"], [0.2222222222222222, \"#7201a8\"], [0.3333333333333333, \"#9c179e\"], [0.4444444444444444, \"#bd3786\"], [0.5555555555555556, \"#d8576b\"], [0.6666666666666666, \"#ed7953\"], [0.7777777777777778, \"#fb9f3a\"], [0.8888888888888888, \"#fdca26\"], [1.0, \"#f0f921\"]], \"type\": \"heatmapgl\"}], \"histogram\": [{\"marker\": {\"colorbar\": {\"outlinewidth\": 0, \"ticks\": \"\"}}, \"type\": \"histogram\"}], \"histogram2d\": [{\"colorbar\": {\"outlinewidth\": 0, \"ticks\": \"\"}, \"colorscale\": [[0.0, \"#0d0887\"], [0.1111111111111111, \"#46039f\"], [0.2222222222222222, \"#7201a8\"], [0.3333333333333333, \"#9c179e\"], [0.4444444444444444, \"#bd3786\"], [0.5555555555555556, \"#d8576b\"], [0.6666666666666666, \"#ed7953\"], [0.7777777777777778, \"#fb9f3a\"], [0.8888888888888888, \"#fdca26\"], [1.0, \"#f0f921\"]], \"type\": \"histogram2d\"}], \"histogram2dcontour\": [{\"colorbar\": {\"outlinewidth\": 0, \"ticks\": \"\"}, \"colorscale\": [[0.0, \"#0d0887\"], [0.1111111111111111, \"#46039f\"], [0.2222222222222222, \"#7201a8\"], [0.3333333333333333, \"#9c179e\"], [0.4444444444444444, \"#bd3786\"], [0.5555555555555556, \"#d8576b\"], [0.6666666666666666, \"#ed7953\"], [0.7777777777777778, \"#fb9f3a\"], [0.8888888888888888, \"#fdca26\"], [1.0, \"#f0f921\"]], \"type\": \"histogram2dcontour\"}], \"mesh3d\": [{\"colorbar\": {\"outlinewidth\": 0, \"ticks\": \"\"}, \"type\": \"mesh3d\"}], \"parcoords\": [{\"line\": {\"colorbar\": {\"outlinewidth\": 0, \"ticks\": \"\"}}, \"type\": \"parcoords\"}], \"pie\": [{\"automargin\": true, \"type\": \"pie\"}], \"scatter\": [{\"marker\": {\"colorbar\": {\"outlinewidth\": 0, \"ticks\": \"\"}}, \"type\": \"scatter\"}], \"scatter3d\": [{\"line\": {\"colorbar\": {\"outlinewidth\": 0, \"ticks\": \"\"}}, \"marker\": {\"colorbar\": {\"outlinewidth\": 0, \"ticks\": \"\"}}, \"type\": \"scatter3d\"}], \"scattercarpet\": [{\"marker\": {\"colorbar\": {\"outlinewidth\": 0, \"ticks\": \"\"}}, \"type\": \"scattercarpet\"}], \"scattergeo\": [{\"marker\": {\"colorbar\": {\"outlinewidth\": 0, \"ticks\": \"\"}}, \"type\": \"scattergeo\"}], \"scattergl\": [{\"marker\": {\"colorbar\": {\"outlinewidth\": 0, \"ticks\": \"\"}}, \"type\": \"scattergl\"}], \"scattermapbox\": [{\"marker\": {\"colorbar\": {\"outlinewidth\": 0, \"ticks\": \"\"}}, \"type\": \"scattermapbox\"}], \"scatterpolar\": [{\"marker\": {\"colorbar\": {\"outlinewidth\": 0, \"ticks\": \"\"}}, \"type\": \"scatterpolar\"}], \"scatterpolargl\": [{\"marker\": {\"colorbar\": {\"outlinewidth\": 0, \"ticks\": \"\"}}, \"type\": \"scatterpolargl\"}], \"scatterternary\": [{\"marker\": {\"colorbar\": {\"outlinewidth\": 0, \"ticks\": \"\"}}, \"type\": \"scatterternary\"}], \"surface\": [{\"colorbar\": {\"outlinewidth\": 0, \"ticks\": \"\"}, \"colorscale\": [[0.0, \"#0d0887\"], [0.1111111111111111, \"#46039f\"], [0.2222222222222222, \"#7201a8\"], [0.3333333333333333, \"#9c179e\"], [0.4444444444444444, \"#bd3786\"], [0.5555555555555556, \"#d8576b\"], [0.6666666666666666, \"#ed7953\"], [0.7777777777777778, \"#fb9f3a\"], [0.8888888888888888, \"#fdca26\"], [1.0, \"#f0f921\"]], \"type\": \"surface\"}], \"table\": [{\"cells\": {\"fill\": {\"color\": \"#EBF0F8\"}, \"line\": {\"color\": \"white\"}}, \"header\": {\"fill\": {\"color\": \"#C8D4E3\"}, \"line\": {\"color\": \"white\"}}, \"type\": \"table\"}]}, \"layout\": {\"annotationdefaults\": {\"arrowcolor\": \"#2a3f5f\", \"arrowhead\": 0, \"arrowwidth\": 1}, \"coloraxis\": {\"colorbar\": {\"outlinewidth\": 0, \"ticks\": \"\"}}, \"colorscale\": {\"diverging\": [[0, \"#8e0152\"], [0.1, \"#c51b7d\"], [0.2, \"#de77ae\"], [0.3, \"#f1b6da\"], [0.4, \"#fde0ef\"], [0.5, \"#f7f7f7\"], [0.6, \"#e6f5d0\"], [0.7, \"#b8e186\"], [0.8, \"#7fbc41\"], [0.9, \"#4d9221\"], [1, \"#276419\"]], \"sequential\": [[0.0, \"#0d0887\"], [0.1111111111111111, \"#46039f\"], [0.2222222222222222, \"#7201a8\"], [0.3333333333333333, \"#9c179e\"], [0.4444444444444444, \"#bd3786\"], [0.5555555555555556, \"#d8576b\"], [0.6666666666666666, \"#ed7953\"], [0.7777777777777778, \"#fb9f3a\"], [0.8888888888888888, \"#fdca26\"], [1.0, \"#f0f921\"]], \"sequentialminus\": [[0.0, \"#0d0887\"], [0.1111111111111111, \"#46039f\"], [0.2222222222222222, \"#7201a8\"], [0.3333333333333333, \"#9c179e\"], [0.4444444444444444, \"#bd3786\"], [0.5555555555555556, \"#d8576b\"], [0.6666666666666666, \"#ed7953\"], [0.7777777777777778, \"#fb9f3a\"], [0.8888888888888888, \"#fdca26\"], [1.0, \"#f0f921\"]]}, \"colorway\": [\"#636efa\", \"#EF553B\", \"#00cc96\", \"#ab63fa\", \"#FFA15A\", \"#19d3f3\", \"#FF6692\", \"#B6E880\", \"#FF97FF\", \"#FECB52\"], \"font\": {\"color\": \"#2a3f5f\"}, \"geo\": {\"bgcolor\": \"white\", \"lakecolor\": \"white\", \"landcolor\": \"#E5ECF6\", \"showlakes\": true, \"showland\": true, \"subunitcolor\": \"white\"}, \"hoverlabel\": {\"align\": \"left\"}, \"hovermode\": \"closest\", \"mapbox\": {\"style\": \"light\"}, \"paper_bgcolor\": \"white\", \"plot_bgcolor\": \"#E5ECF6\", \"polar\": {\"angularaxis\": {\"gridcolor\": \"white\", \"linecolor\": \"white\", \"ticks\": \"\"}, \"bgcolor\": \"#E5ECF6\", \"radialaxis\": {\"gridcolor\": \"white\", \"linecolor\": \"white\", \"ticks\": \"\"}}, \"scene\": {\"xaxis\": {\"backgroundcolor\": \"#E5ECF6\", \"gridcolor\": \"white\", \"gridwidth\": 2, \"linecolor\": \"white\", \"showbackground\": true, \"ticks\": \"\", \"zerolinecolor\": \"white\"}, \"yaxis\": {\"backgroundcolor\": \"#E5ECF6\", \"gridcolor\": \"white\", \"gridwidth\": 2, \"linecolor\": \"white\", \"showbackground\": true, \"ticks\": \"\", \"zerolinecolor\": \"white\"}, \"zaxis\": {\"backgroundcolor\": \"#E5ECF6\", \"gridcolor\": \"white\", \"gridwidth\": 2, \"linecolor\": \"white\", \"showbackground\": true, \"ticks\": \"\", \"zerolinecolor\": \"white\"}}, \"shapedefaults\": {\"line\": {\"color\": \"#2a3f5f\"}}, \"ternary\": {\"aaxis\": {\"gridcolor\": \"white\", \"linecolor\": \"white\", \"ticks\": \"\"}, \"baxis\": {\"gridcolor\": \"white\", \"linecolor\": \"white\", \"ticks\": \"\"}, \"bgcolor\": \"#E5ECF6\", \"caxis\": {\"gridcolor\": \"white\", \"linecolor\": \"white\", \"ticks\": \"\"}}, \"title\": {\"x\": 0.05}, \"xaxis\": {\"automargin\": true, \"gridcolor\": \"white\", \"linecolor\": \"white\", \"ticks\": \"\", \"title\": {\"standoff\": 15}, \"zerolinecolor\": \"white\", \"zerolinewidth\": 2}, \"yaxis\": {\"automargin\": true, \"gridcolor\": \"white\", \"linecolor\": \"white\", \"ticks\": \"\", \"title\": {\"standoff\": 15}, \"zerolinecolor\": \"white\", \"zerolinewidth\": 2}}}},\n",
       "                        {\"responsive\": true}\n",
       "                    ).then(function(){\n",
       "                            \n",
       "var gd = document.getElementById('ec118a45-629b-4beb-bcb5-945100cfb083');\n",
       "var x = new MutationObserver(function (mutations, observer) {{\n",
       "        var display = window.getComputedStyle(gd).display;\n",
       "        if (!display || display === 'none') {{\n",
       "            console.log([gd, 'removed!']);\n",
       "            Plotly.purge(gd);\n",
       "            observer.disconnect();\n",
       "        }}\n",
       "}});\n",
       "\n",
       "// Listen for the removal of the full notebook cells\n",
       "var notebookContainer = gd.closest('#notebook-container');\n",
       "if (notebookContainer) {{\n",
       "    x.observe(notebookContainer, {childList: true});\n",
       "}}\n",
       "\n",
       "// Listen for the clearing of the current output cell\n",
       "var outputEl = gd.closest('.output');\n",
       "if (outputEl) {{\n",
       "    x.observe(outputEl, {childList: true});\n",
       "}}\n",
       "\n",
       "                        })\n",
       "                };\n",
       "                });\n",
       "            </script>\n",
       "        </div>"
      ]
     },
     "metadata": {},
     "output_type": "display_data"
    }
   ],
   "source": [
    "fig_device = px.scatter_matrix(df, dimensions=['Orders', 'Revenue'], color='Device Type')\n",
    "fig_device.show()"
   ]
  },
  {
   "cell_type": "markdown",
   "metadata": {},
   "source": [
    "- 55% of revenues are made with Desktop and 45% of revenes are made with mobile.\n",
    "- store collection type of delivery method is taking almost 1/6 of the total revenue when people order through desktop, and 1/5 of the revenue made when people order through mobiles."
   ]
  },
  {
   "cell_type": "markdown",
   "metadata": {},
   "source": [
    "## Date vs Revenue"
   ]
  },
  {
   "cell_type": "code",
   "execution_count": 31,
   "metadata": {},
   "outputs": [
    {
     "data": {
      "text/html": [
       "<div>\n",
       "<style scoped>\n",
       "    .dataframe tbody tr th:only-of-type {\n",
       "        vertical-align: middle;\n",
       "    }\n",
       "\n",
       "    .dataframe tbody tr th {\n",
       "        vertical-align: top;\n",
       "    }\n",
       "\n",
       "    .dataframe thead th {\n",
       "        text-align: right;\n",
       "    }\n",
       "</style>\n",
       "<table border=\"1\" class=\"dataframe\">\n",
       "  <thead>\n",
       "    <tr style=\"text-align: right;\">\n",
       "      <th></th>\n",
       "      <th>Date</th>\n",
       "      <th>Percentage</th>\n",
       "    </tr>\n",
       "  </thead>\n",
       "  <tbody>\n",
       "    <tr>\n",
       "      <td>0</td>\n",
       "      <td>2017-09-01</td>\n",
       "      <td>3.408493</td>\n",
       "    </tr>\n",
       "    <tr>\n",
       "      <td>1</td>\n",
       "      <td>2017-09-02</td>\n",
       "      <td>3.463405</td>\n",
       "    </tr>\n",
       "    <tr>\n",
       "      <td>2</td>\n",
       "      <td>2017-09-03</td>\n",
       "      <td>3.409490</td>\n",
       "    </tr>\n",
       "    <tr>\n",
       "      <td>3</td>\n",
       "      <td>2017-09-04</td>\n",
       "      <td>3.437120</td>\n",
       "    </tr>\n",
       "    <tr>\n",
       "      <td>4</td>\n",
       "      <td>2017-09-05</td>\n",
       "      <td>3.483982</td>\n",
       "    </tr>\n",
       "    <tr>\n",
       "      <td>5</td>\n",
       "      <td>2017-09-06</td>\n",
       "      <td>3.099426</td>\n",
       "    </tr>\n",
       "    <tr>\n",
       "      <td>6</td>\n",
       "      <td>2017-09-07</td>\n",
       "      <td>3.363887</td>\n",
       "    </tr>\n",
       "    <tr>\n",
       "      <td>7</td>\n",
       "      <td>2017-09-08</td>\n",
       "      <td>3.366551</td>\n",
       "    </tr>\n",
       "    <tr>\n",
       "      <td>8</td>\n",
       "      <td>2017-09-09</td>\n",
       "      <td>3.341472</td>\n",
       "    </tr>\n",
       "    <tr>\n",
       "      <td>9</td>\n",
       "      <td>2017-09-10</td>\n",
       "      <td>3.419284</td>\n",
       "    </tr>\n",
       "    <tr>\n",
       "      <td>10</td>\n",
       "      <td>2017-09-11</td>\n",
       "      <td>3.415229</td>\n",
       "    </tr>\n",
       "    <tr>\n",
       "      <td>11</td>\n",
       "      <td>2017-09-12</td>\n",
       "      <td>3.419688</td>\n",
       "    </tr>\n",
       "    <tr>\n",
       "      <td>12</td>\n",
       "      <td>2017-09-13</td>\n",
       "      <td>3.461051</td>\n",
       "    </tr>\n",
       "    <tr>\n",
       "      <td>13</td>\n",
       "      <td>2017-09-14</td>\n",
       "      <td>3.481053</td>\n",
       "    </tr>\n",
       "    <tr>\n",
       "      <td>14</td>\n",
       "      <td>2017-09-15</td>\n",
       "      <td>3.485640</td>\n",
       "    </tr>\n",
       "    <tr>\n",
       "      <td>15</td>\n",
       "      <td>2017-09-16</td>\n",
       "      <td>3.468109</td>\n",
       "    </tr>\n",
       "    <tr>\n",
       "      <td>16</td>\n",
       "      <td>2017-09-17</td>\n",
       "      <td>3.367450</td>\n",
       "    </tr>\n",
       "    <tr>\n",
       "      <td>17</td>\n",
       "      <td>2017-09-18</td>\n",
       "      <td>3.399300</td>\n",
       "    </tr>\n",
       "    <tr>\n",
       "      <td>18</td>\n",
       "      <td>2017-09-19</td>\n",
       "      <td>3.352345</td>\n",
       "    </tr>\n",
       "    <tr>\n",
       "      <td>19</td>\n",
       "      <td>2017-09-20</td>\n",
       "      <td>3.364454</td>\n",
       "    </tr>\n",
       "    <tr>\n",
       "      <td>20</td>\n",
       "      <td>2017-09-21</td>\n",
       "      <td>3.198685</td>\n",
       "    </tr>\n",
       "    <tr>\n",
       "      <td>21</td>\n",
       "      <td>2017-09-22</td>\n",
       "      <td>3.228946</td>\n",
       "    </tr>\n",
       "    <tr>\n",
       "      <td>22</td>\n",
       "      <td>2017-09-23</td>\n",
       "      <td>3.259228</td>\n",
       "    </tr>\n",
       "    <tr>\n",
       "      <td>23</td>\n",
       "      <td>2017-09-24</td>\n",
       "      <td>3.153355</td>\n",
       "    </tr>\n",
       "    <tr>\n",
       "      <td>24</td>\n",
       "      <td>2017-09-25</td>\n",
       "      <td>3.186718</td>\n",
       "    </tr>\n",
       "    <tr>\n",
       "      <td>25</td>\n",
       "      <td>2017-09-26</td>\n",
       "      <td>3.128052</td>\n",
       "    </tr>\n",
       "    <tr>\n",
       "      <td>26</td>\n",
       "      <td>2017-09-27</td>\n",
       "      <td>3.177188</td>\n",
       "    </tr>\n",
       "    <tr>\n",
       "      <td>27</td>\n",
       "      <td>2017-09-28</td>\n",
       "      <td>3.153113</td>\n",
       "    </tr>\n",
       "    <tr>\n",
       "      <td>28</td>\n",
       "      <td>2017-09-29</td>\n",
       "      <td>3.256613</td>\n",
       "    </tr>\n",
       "    <tr>\n",
       "      <td>29</td>\n",
       "      <td>2017-09-30</td>\n",
       "      <td>3.250670</td>\n",
       "    </tr>\n",
       "  </tbody>\n",
       "</table>\n",
       "</div>"
      ],
      "text/plain": [
       "         Date  Percentage\n",
       "0  2017-09-01    3.408493\n",
       "1  2017-09-02    3.463405\n",
       "2  2017-09-03    3.409490\n",
       "3  2017-09-04    3.437120\n",
       "4  2017-09-05    3.483982\n",
       "5  2017-09-06    3.099426\n",
       "6  2017-09-07    3.363887\n",
       "7  2017-09-08    3.366551\n",
       "8  2017-09-09    3.341472\n",
       "9  2017-09-10    3.419284\n",
       "10 2017-09-11    3.415229\n",
       "11 2017-09-12    3.419688\n",
       "12 2017-09-13    3.461051\n",
       "13 2017-09-14    3.481053\n",
       "14 2017-09-15    3.485640\n",
       "15 2017-09-16    3.468109\n",
       "16 2017-09-17    3.367450\n",
       "17 2017-09-18    3.399300\n",
       "18 2017-09-19    3.352345\n",
       "19 2017-09-20    3.364454\n",
       "20 2017-09-21    3.198685\n",
       "21 2017-09-22    3.228946\n",
       "22 2017-09-23    3.259228\n",
       "23 2017-09-24    3.153355\n",
       "24 2017-09-25    3.186718\n",
       "25 2017-09-26    3.128052\n",
       "26 2017-09-27    3.177188\n",
       "27 2017-09-28    3.153113\n",
       "28 2017-09-29    3.256613\n",
       "29 2017-09-30    3.250670"
      ]
     },
     "execution_count": 31,
     "metadata": {},
     "output_type": "execute_result"
    }
   ],
   "source": [
    "df_date = df.groupby(['Date'],as_index=False).sum()\n",
    "df_date['Percentage'] = (df_date['Revenue']/df_date['Revenue'].sum()) * 100\n",
    "df_date[['Date', 'Percentage']]"
   ]
  },
  {
   "cell_type": "code",
   "execution_count": 38,
   "metadata": {},
   "outputs": [
    {
     "data": {
      "text/plain": [
       "14    4467303.0\n",
       "4     4465178.0\n",
       "13    4461424.0\n",
       "15    4444834.0\n",
       "1     4438806.0\n",
       "Name: Revenue, dtype: float64"
      ]
     },
     "execution_count": 38,
     "metadata": {},
     "output_type": "execute_result"
    }
   ],
   "source": [
    "df_date['Revenue'].nlargest(5)"
   ]
  },
  {
   "cell_type": "code",
   "execution_count": 35,
   "metadata": {},
   "outputs": [
    {
     "data": {
      "application/vnd.plotly.v1+json": {
       "config": {
        "plotlyServerURL": "https://plot.ly"
       },
       "data": [
        {
         "hoverlabel": {
          "namelength": 0
         },
         "hovertemplate": "Date=%{x}<br>Revenue=%{y}",
         "legendgroup": "2017-09-01 00:00:00",
         "marker": {
          "color": "#636efa",
          "symbol": "circle"
         },
         "mode": "markers",
         "name": "2017-09-01 00:00:00",
         "showlegend": true,
         "type": "scatter",
         "x": [
          "2017-09-01T00:00:00"
         ],
         "xaxis": "x",
         "y": [
          4368428
         ],
         "yaxis": "y"
        },
        {
         "hoverlabel": {
          "namelength": 0
         },
         "hovertemplate": "Date=%{x}<br>Revenue=%{y}",
         "legendgroup": "2017-09-02 00:00:00",
         "marker": {
          "color": "#EF553B",
          "symbol": "circle"
         },
         "mode": "markers",
         "name": "2017-09-02 00:00:00",
         "showlegend": true,
         "type": "scatter",
         "x": [
          "2017-09-02T00:00:00"
         ],
         "xaxis": "x",
         "y": [
          4438806
         ],
         "yaxis": "y"
        },
        {
         "hoverlabel": {
          "namelength": 0
         },
         "hovertemplate": "Date=%{x}<br>Revenue=%{y}",
         "legendgroup": "2017-09-03 00:00:00",
         "marker": {
          "color": "#00cc96",
          "symbol": "circle"
         },
         "mode": "markers",
         "name": "2017-09-03 00:00:00",
         "showlegend": true,
         "type": "scatter",
         "x": [
          "2017-09-03T00:00:00"
         ],
         "xaxis": "x",
         "y": [
          4369706
         ],
         "yaxis": "y"
        },
        {
         "hoverlabel": {
          "namelength": 0
         },
         "hovertemplate": "Date=%{x}<br>Revenue=%{y}",
         "legendgroup": "2017-09-04 00:00:00",
         "marker": {
          "color": "#ab63fa",
          "symbol": "circle"
         },
         "mode": "markers",
         "name": "2017-09-04 00:00:00",
         "showlegend": true,
         "type": "scatter",
         "x": [
          "2017-09-04T00:00:00"
         ],
         "xaxis": "x",
         "y": [
          4405118
         ],
         "yaxis": "y"
        },
        {
         "hoverlabel": {
          "namelength": 0
         },
         "hovertemplate": "Date=%{x}<br>Revenue=%{y}",
         "legendgroup": "2017-09-05 00:00:00",
         "marker": {
          "color": "#FFA15A",
          "symbol": "circle"
         },
         "mode": "markers",
         "name": "2017-09-05 00:00:00",
         "showlegend": true,
         "type": "scatter",
         "x": [
          "2017-09-05T00:00:00"
         ],
         "xaxis": "x",
         "y": [
          4465178
         ],
         "yaxis": "y"
        },
        {
         "hoverlabel": {
          "namelength": 0
         },
         "hovertemplate": "Date=%{x}<br>Revenue=%{y}",
         "legendgroup": "2017-09-06 00:00:00",
         "marker": {
          "color": "#19d3f3",
          "symbol": "circle"
         },
         "mode": "markers",
         "name": "2017-09-06 00:00:00",
         "showlegend": true,
         "type": "scatter",
         "x": [
          "2017-09-06T00:00:00"
         ],
         "xaxis": "x",
         "y": [
          3972319
         ],
         "yaxis": "y"
        },
        {
         "hoverlabel": {
          "namelength": 0
         },
         "hovertemplate": "Date=%{x}<br>Revenue=%{y}",
         "legendgroup": "2017-09-07 00:00:00",
         "marker": {
          "color": "#FF6692",
          "symbol": "circle"
         },
         "mode": "markers",
         "name": "2017-09-07 00:00:00",
         "showlegend": true,
         "type": "scatter",
         "x": [
          "2017-09-07T00:00:00"
         ],
         "xaxis": "x",
         "y": [
          4311260
         ],
         "yaxis": "y"
        },
        {
         "hoverlabel": {
          "namelength": 0
         },
         "hovertemplate": "Date=%{x}<br>Revenue=%{y}",
         "legendgroup": "2017-09-08 00:00:00",
         "marker": {
          "color": "#B6E880",
          "symbol": "circle"
         },
         "mode": "markers",
         "name": "2017-09-08 00:00:00",
         "showlegend": true,
         "type": "scatter",
         "x": [
          "2017-09-08T00:00:00"
         ],
         "xaxis": "x",
         "y": [
          4314674
         ],
         "yaxis": "y"
        },
        {
         "hoverlabel": {
          "namelength": 0
         },
         "hovertemplate": "Date=%{x}<br>Revenue=%{y}",
         "legendgroup": "2017-09-09 00:00:00",
         "marker": {
          "color": "#FF97FF",
          "symbol": "circle"
         },
         "mode": "markers",
         "name": "2017-09-09 00:00:00",
         "showlegend": true,
         "type": "scatter",
         "x": [
          "2017-09-09T00:00:00"
         ],
         "xaxis": "x",
         "y": [
          4282532
         ],
         "yaxis": "y"
        },
        {
         "hoverlabel": {
          "namelength": 0
         },
         "hovertemplate": "Date=%{x}<br>Revenue=%{y}",
         "legendgroup": "2017-09-10 00:00:00",
         "marker": {
          "color": "#FECB52",
          "symbol": "circle"
         },
         "mode": "markers",
         "name": "2017-09-10 00:00:00",
         "showlegend": true,
         "type": "scatter",
         "x": [
          "2017-09-10T00:00:00"
         ],
         "xaxis": "x",
         "y": [
          4382259
         ],
         "yaxis": "y"
        },
        {
         "hoverlabel": {
          "namelength": 0
         },
         "hovertemplate": "Date=%{x}<br>Revenue=%{y}",
         "legendgroup": "2017-09-11 00:00:00",
         "marker": {
          "color": "#636efa",
          "symbol": "circle"
         },
         "mode": "markers",
         "name": "2017-09-11 00:00:00",
         "showlegend": true,
         "type": "scatter",
         "x": [
          "2017-09-11T00:00:00"
         ],
         "xaxis": "x",
         "y": [
          4377062
         ],
         "yaxis": "y"
        },
        {
         "hoverlabel": {
          "namelength": 0
         },
         "hovertemplate": "Date=%{x}<br>Revenue=%{y}",
         "legendgroup": "2017-09-12 00:00:00",
         "marker": {
          "color": "#EF553B",
          "symbol": "circle"
         },
         "mode": "markers",
         "name": "2017-09-12 00:00:00",
         "showlegend": true,
         "type": "scatter",
         "x": [
          "2017-09-12T00:00:00"
         ],
         "xaxis": "x",
         "y": [
          4382776
         ],
         "yaxis": "y"
        },
        {
         "hoverlabel": {
          "namelength": 0
         },
         "hovertemplate": "Date=%{x}<br>Revenue=%{y}",
         "legendgroup": "2017-09-13 00:00:00",
         "marker": {
          "color": "#00cc96",
          "symbol": "circle"
         },
         "mode": "markers",
         "name": "2017-09-13 00:00:00",
         "showlegend": true,
         "type": "scatter",
         "x": [
          "2017-09-13T00:00:00"
         ],
         "xaxis": "x",
         "y": [
          4435789
         ],
         "yaxis": "y"
        },
        {
         "hoverlabel": {
          "namelength": 0
         },
         "hovertemplate": "Date=%{x}<br>Revenue=%{y}",
         "legendgroup": "2017-09-14 00:00:00",
         "marker": {
          "color": "#ab63fa",
          "symbol": "circle"
         },
         "mode": "markers",
         "name": "2017-09-14 00:00:00",
         "showlegend": true,
         "type": "scatter",
         "x": [
          "2017-09-14T00:00:00"
         ],
         "xaxis": "x",
         "y": [
          4461424
         ],
         "yaxis": "y"
        },
        {
         "hoverlabel": {
          "namelength": 0
         },
         "hovertemplate": "Date=%{x}<br>Revenue=%{y}",
         "legendgroup": "2017-09-15 00:00:00",
         "marker": {
          "color": "#FFA15A",
          "symbol": "circle"
         },
         "mode": "markers",
         "name": "2017-09-15 00:00:00",
         "showlegend": true,
         "type": "scatter",
         "x": [
          "2017-09-15T00:00:00"
         ],
         "xaxis": "x",
         "y": [
          4467303
         ],
         "yaxis": "y"
        },
        {
         "hoverlabel": {
          "namelength": 0
         },
         "hovertemplate": "Date=%{x}<br>Revenue=%{y}",
         "legendgroup": "2017-09-16 00:00:00",
         "marker": {
          "color": "#19d3f3",
          "symbol": "circle"
         },
         "mode": "markers",
         "name": "2017-09-16 00:00:00",
         "showlegend": true,
         "type": "scatter",
         "x": [
          "2017-09-16T00:00:00"
         ],
         "xaxis": "x",
         "y": [
          4444834
         ],
         "yaxis": "y"
        },
        {
         "hoverlabel": {
          "namelength": 0
         },
         "hovertemplate": "Date=%{x}<br>Revenue=%{y}",
         "legendgroup": "2017-09-17 00:00:00",
         "marker": {
          "color": "#FF6692",
          "symbol": "circle"
         },
         "mode": "markers",
         "name": "2017-09-17 00:00:00",
         "showlegend": true,
         "type": "scatter",
         "x": [
          "2017-09-17T00:00:00"
         ],
         "xaxis": "x",
         "y": [
          4315827
         ],
         "yaxis": "y"
        },
        {
         "hoverlabel": {
          "namelength": 0
         },
         "hovertemplate": "Date=%{x}<br>Revenue=%{y}",
         "legendgroup": "2017-09-18 00:00:00",
         "marker": {
          "color": "#B6E880",
          "symbol": "circle"
         },
         "mode": "markers",
         "name": "2017-09-18 00:00:00",
         "showlegend": true,
         "type": "scatter",
         "x": [
          "2017-09-18T00:00:00"
         ],
         "xaxis": "x",
         "y": [
          4356647
         ],
         "yaxis": "y"
        },
        {
         "hoverlabel": {
          "namelength": 0
         },
         "hovertemplate": "Date=%{x}<br>Revenue=%{y}",
         "legendgroup": "2017-09-19 00:00:00",
         "marker": {
          "color": "#FF97FF",
          "symbol": "circle"
         },
         "mode": "markers",
         "name": "2017-09-19 00:00:00",
         "showlegend": true,
         "type": "scatter",
         "x": [
          "2017-09-19T00:00:00"
         ],
         "xaxis": "x",
         "y": [
          4296468
         ],
         "yaxis": "y"
        },
        {
         "hoverlabel": {
          "namelength": 0
         },
         "hovertemplate": "Date=%{x}<br>Revenue=%{y}",
         "legendgroup": "2017-09-20 00:00:00",
         "marker": {
          "color": "#FECB52",
          "symbol": "circle"
         },
         "mode": "markers",
         "name": "2017-09-20 00:00:00",
         "showlegend": true,
         "type": "scatter",
         "x": [
          "2017-09-20T00:00:00"
         ],
         "xaxis": "x",
         "y": [
          4311987
         ],
         "yaxis": "y"
        },
        {
         "hoverlabel": {
          "namelength": 0
         },
         "hovertemplate": "Date=%{x}<br>Revenue=%{y}",
         "legendgroup": "2017-09-21 00:00:00",
         "marker": {
          "color": "#636efa",
          "symbol": "circle"
         },
         "mode": "markers",
         "name": "2017-09-21 00:00:00",
         "showlegend": true,
         "type": "scatter",
         "x": [
          "2017-09-21T00:00:00"
         ],
         "xaxis": "x",
         "y": [
          4099532.7
         ],
         "yaxis": "y"
        },
        {
         "hoverlabel": {
          "namelength": 0
         },
         "hovertemplate": "Date=%{x}<br>Revenue=%{y}",
         "legendgroup": "2017-09-22 00:00:00",
         "marker": {
          "color": "#EF553B",
          "symbol": "circle"
         },
         "mode": "markers",
         "name": "2017-09-22 00:00:00",
         "showlegend": true,
         "type": "scatter",
         "x": [
          "2017-09-22T00:00:00"
         ],
         "xaxis": "x",
         "y": [
          4138315.22
         ],
         "yaxis": "y"
        },
        {
         "hoverlabel": {
          "namelength": 0
         },
         "hovertemplate": "Date=%{x}<br>Revenue=%{y}",
         "legendgroup": "2017-09-23 00:00:00",
         "marker": {
          "color": "#00cc96",
          "symbol": "circle"
         },
         "mode": "markers",
         "name": "2017-09-23 00:00:00",
         "showlegend": true,
         "type": "scatter",
         "x": [
          "2017-09-23T00:00:00"
         ],
         "xaxis": "x",
         "y": [
          4177125.9400000004
         ],
         "yaxis": "y"
        },
        {
         "hoverlabel": {
          "namelength": 0
         },
         "hovertemplate": "Date=%{x}<br>Revenue=%{y}",
         "legendgroup": "2017-09-24 00:00:00",
         "marker": {
          "color": "#ab63fa",
          "symbol": "circle"
         },
         "mode": "markers",
         "name": "2017-09-24 00:00:00",
         "showlegend": true,
         "type": "scatter",
         "x": [
          "2017-09-24T00:00:00"
         ],
         "xaxis": "x",
         "y": [
          4041436
         ],
         "yaxis": "y"
        },
        {
         "hoverlabel": {
          "namelength": 0
         },
         "hovertemplate": "Date=%{x}<br>Revenue=%{y}",
         "legendgroup": "2017-09-25 00:00:00",
         "marker": {
          "color": "#FFA15A",
          "symbol": "circle"
         },
         "mode": "markers",
         "name": "2017-09-25 00:00:00",
         "showlegend": true,
         "type": "scatter",
         "x": [
          "2017-09-25T00:00:00"
         ],
         "xaxis": "x",
         "y": [
          4084194.7199999997
         ],
         "yaxis": "y"
        },
        {
         "hoverlabel": {
          "namelength": 0
         },
         "hovertemplate": "Date=%{x}<br>Revenue=%{y}",
         "legendgroup": "2017-09-26 00:00:00",
         "marker": {
          "color": "#19d3f3",
          "symbol": "circle"
         },
         "mode": "markers",
         "name": "2017-09-26 00:00:00",
         "showlegend": true,
         "type": "scatter",
         "x": [
          "2017-09-26T00:00:00"
         ],
         "xaxis": "x",
         "y": [
          4009006.9400000004
         ],
         "yaxis": "y"
        },
        {
         "hoverlabel": {
          "namelength": 0
         },
         "hovertemplate": "Date=%{x}<br>Revenue=%{y}",
         "legendgroup": "2017-09-27 00:00:00",
         "marker": {
          "color": "#FF6692",
          "symbol": "circle"
         },
         "mode": "markers",
         "name": "2017-09-27 00:00:00",
         "showlegend": true,
         "type": "scatter",
         "x": [
          "2017-09-27T00:00:00"
         ],
         "xaxis": "x",
         "y": [
          4071980.36
         ],
         "yaxis": "y"
        },
        {
         "hoverlabel": {
          "namelength": 0
         },
         "hovertemplate": "Date=%{x}<br>Revenue=%{y}",
         "legendgroup": "2017-09-28 00:00:00",
         "marker": {
          "color": "#B6E880",
          "symbol": "circle"
         },
         "mode": "markers",
         "name": "2017-09-28 00:00:00",
         "showlegend": true,
         "type": "scatter",
         "x": [
          "2017-09-28T00:00:00"
         ],
         "xaxis": "x",
         "y": [
          4041125.8000000003
         ],
         "yaxis": "y"
        },
        {
         "hoverlabel": {
          "namelength": 0
         },
         "hovertemplate": "Date=%{x}<br>Revenue=%{y}",
         "legendgroup": "2017-09-29 00:00:00",
         "marker": {
          "color": "#FF97FF",
          "symbol": "circle"
         },
         "mode": "markers",
         "name": "2017-09-29 00:00:00",
         "showlegend": true,
         "type": "scatter",
         "x": [
          "2017-09-29T00:00:00"
         ],
         "xaxis": "x",
         "y": [
          4173774.8399999994
         ],
         "yaxis": "y"
        },
        {
         "hoverlabel": {
          "namelength": 0
         },
         "hovertemplate": "Date=%{x}<br>Revenue=%{y}",
         "legendgroup": "2017-09-30 00:00:00",
         "marker": {
          "color": "#FECB52",
          "symbol": "circle"
         },
         "mode": "markers",
         "name": "2017-09-30 00:00:00",
         "showlegend": true,
         "type": "scatter",
         "x": [
          "2017-09-30T00:00:00"
         ],
         "xaxis": "x",
         "y": [
          4166158.02
         ],
         "yaxis": "y"
        }
       ],
       "layout": {
        "legend": {
         "title": {
          "text": "Date"
         },
         "tracegroupgap": 0
        },
        "margin": {
         "t": 60
        },
        "template": {
         "data": {
          "bar": [
           {
            "error_x": {
             "color": "#2a3f5f"
            },
            "error_y": {
             "color": "#2a3f5f"
            },
            "marker": {
             "line": {
              "color": "#E5ECF6",
              "width": 0.5
             }
            },
            "type": "bar"
           }
          ],
          "barpolar": [
           {
            "marker": {
             "line": {
              "color": "#E5ECF6",
              "width": 0.5
             }
            },
            "type": "barpolar"
           }
          ],
          "carpet": [
           {
            "aaxis": {
             "endlinecolor": "#2a3f5f",
             "gridcolor": "white",
             "linecolor": "white",
             "minorgridcolor": "white",
             "startlinecolor": "#2a3f5f"
            },
            "baxis": {
             "endlinecolor": "#2a3f5f",
             "gridcolor": "white",
             "linecolor": "white",
             "minorgridcolor": "white",
             "startlinecolor": "#2a3f5f"
            },
            "type": "carpet"
           }
          ],
          "choropleth": [
           {
            "colorbar": {
             "outlinewidth": 0,
             "ticks": ""
            },
            "type": "choropleth"
           }
          ],
          "contour": [
           {
            "colorbar": {
             "outlinewidth": 0,
             "ticks": ""
            },
            "colorscale": [
             [
              0,
              "#0d0887"
             ],
             [
              0.1111111111111111,
              "#46039f"
             ],
             [
              0.2222222222222222,
              "#7201a8"
             ],
             [
              0.3333333333333333,
              "#9c179e"
             ],
             [
              0.4444444444444444,
              "#bd3786"
             ],
             [
              0.5555555555555556,
              "#d8576b"
             ],
             [
              0.6666666666666666,
              "#ed7953"
             ],
             [
              0.7777777777777778,
              "#fb9f3a"
             ],
             [
              0.8888888888888888,
              "#fdca26"
             ],
             [
              1,
              "#f0f921"
             ]
            ],
            "type": "contour"
           }
          ],
          "contourcarpet": [
           {
            "colorbar": {
             "outlinewidth": 0,
             "ticks": ""
            },
            "type": "contourcarpet"
           }
          ],
          "heatmap": [
           {
            "colorbar": {
             "outlinewidth": 0,
             "ticks": ""
            },
            "colorscale": [
             [
              0,
              "#0d0887"
             ],
             [
              0.1111111111111111,
              "#46039f"
             ],
             [
              0.2222222222222222,
              "#7201a8"
             ],
             [
              0.3333333333333333,
              "#9c179e"
             ],
             [
              0.4444444444444444,
              "#bd3786"
             ],
             [
              0.5555555555555556,
              "#d8576b"
             ],
             [
              0.6666666666666666,
              "#ed7953"
             ],
             [
              0.7777777777777778,
              "#fb9f3a"
             ],
             [
              0.8888888888888888,
              "#fdca26"
             ],
             [
              1,
              "#f0f921"
             ]
            ],
            "type": "heatmap"
           }
          ],
          "heatmapgl": [
           {
            "colorbar": {
             "outlinewidth": 0,
             "ticks": ""
            },
            "colorscale": [
             [
              0,
              "#0d0887"
             ],
             [
              0.1111111111111111,
              "#46039f"
             ],
             [
              0.2222222222222222,
              "#7201a8"
             ],
             [
              0.3333333333333333,
              "#9c179e"
             ],
             [
              0.4444444444444444,
              "#bd3786"
             ],
             [
              0.5555555555555556,
              "#d8576b"
             ],
             [
              0.6666666666666666,
              "#ed7953"
             ],
             [
              0.7777777777777778,
              "#fb9f3a"
             ],
             [
              0.8888888888888888,
              "#fdca26"
             ],
             [
              1,
              "#f0f921"
             ]
            ],
            "type": "heatmapgl"
           }
          ],
          "histogram": [
           {
            "marker": {
             "colorbar": {
              "outlinewidth": 0,
              "ticks": ""
             }
            },
            "type": "histogram"
           }
          ],
          "histogram2d": [
           {
            "colorbar": {
             "outlinewidth": 0,
             "ticks": ""
            },
            "colorscale": [
             [
              0,
              "#0d0887"
             ],
             [
              0.1111111111111111,
              "#46039f"
             ],
             [
              0.2222222222222222,
              "#7201a8"
             ],
             [
              0.3333333333333333,
              "#9c179e"
             ],
             [
              0.4444444444444444,
              "#bd3786"
             ],
             [
              0.5555555555555556,
              "#d8576b"
             ],
             [
              0.6666666666666666,
              "#ed7953"
             ],
             [
              0.7777777777777778,
              "#fb9f3a"
             ],
             [
              0.8888888888888888,
              "#fdca26"
             ],
             [
              1,
              "#f0f921"
             ]
            ],
            "type": "histogram2d"
           }
          ],
          "histogram2dcontour": [
           {
            "colorbar": {
             "outlinewidth": 0,
             "ticks": ""
            },
            "colorscale": [
             [
              0,
              "#0d0887"
             ],
             [
              0.1111111111111111,
              "#46039f"
             ],
             [
              0.2222222222222222,
              "#7201a8"
             ],
             [
              0.3333333333333333,
              "#9c179e"
             ],
             [
              0.4444444444444444,
              "#bd3786"
             ],
             [
              0.5555555555555556,
              "#d8576b"
             ],
             [
              0.6666666666666666,
              "#ed7953"
             ],
             [
              0.7777777777777778,
              "#fb9f3a"
             ],
             [
              0.8888888888888888,
              "#fdca26"
             ],
             [
              1,
              "#f0f921"
             ]
            ],
            "type": "histogram2dcontour"
           }
          ],
          "mesh3d": [
           {
            "colorbar": {
             "outlinewidth": 0,
             "ticks": ""
            },
            "type": "mesh3d"
           }
          ],
          "parcoords": [
           {
            "line": {
             "colorbar": {
              "outlinewidth": 0,
              "ticks": ""
             }
            },
            "type": "parcoords"
           }
          ],
          "pie": [
           {
            "automargin": true,
            "type": "pie"
           }
          ],
          "scatter": [
           {
            "marker": {
             "colorbar": {
              "outlinewidth": 0,
              "ticks": ""
             }
            },
            "type": "scatter"
           }
          ],
          "scatter3d": [
           {
            "line": {
             "colorbar": {
              "outlinewidth": 0,
              "ticks": ""
             }
            },
            "marker": {
             "colorbar": {
              "outlinewidth": 0,
              "ticks": ""
             }
            },
            "type": "scatter3d"
           }
          ],
          "scattercarpet": [
           {
            "marker": {
             "colorbar": {
              "outlinewidth": 0,
              "ticks": ""
             }
            },
            "type": "scattercarpet"
           }
          ],
          "scattergeo": [
           {
            "marker": {
             "colorbar": {
              "outlinewidth": 0,
              "ticks": ""
             }
            },
            "type": "scattergeo"
           }
          ],
          "scattergl": [
           {
            "marker": {
             "colorbar": {
              "outlinewidth": 0,
              "ticks": ""
             }
            },
            "type": "scattergl"
           }
          ],
          "scattermapbox": [
           {
            "marker": {
             "colorbar": {
              "outlinewidth": 0,
              "ticks": ""
             }
            },
            "type": "scattermapbox"
           }
          ],
          "scatterpolar": [
           {
            "marker": {
             "colorbar": {
              "outlinewidth": 0,
              "ticks": ""
             }
            },
            "type": "scatterpolar"
           }
          ],
          "scatterpolargl": [
           {
            "marker": {
             "colorbar": {
              "outlinewidth": 0,
              "ticks": ""
             }
            },
            "type": "scatterpolargl"
           }
          ],
          "scatterternary": [
           {
            "marker": {
             "colorbar": {
              "outlinewidth": 0,
              "ticks": ""
             }
            },
            "type": "scatterternary"
           }
          ],
          "surface": [
           {
            "colorbar": {
             "outlinewidth": 0,
             "ticks": ""
            },
            "colorscale": [
             [
              0,
              "#0d0887"
             ],
             [
              0.1111111111111111,
              "#46039f"
             ],
             [
              0.2222222222222222,
              "#7201a8"
             ],
             [
              0.3333333333333333,
              "#9c179e"
             ],
             [
              0.4444444444444444,
              "#bd3786"
             ],
             [
              0.5555555555555556,
              "#d8576b"
             ],
             [
              0.6666666666666666,
              "#ed7953"
             ],
             [
              0.7777777777777778,
              "#fb9f3a"
             ],
             [
              0.8888888888888888,
              "#fdca26"
             ],
             [
              1,
              "#f0f921"
             ]
            ],
            "type": "surface"
           }
          ],
          "table": [
           {
            "cells": {
             "fill": {
              "color": "#EBF0F8"
             },
             "line": {
              "color": "white"
             }
            },
            "header": {
             "fill": {
              "color": "#C8D4E3"
             },
             "line": {
              "color": "white"
             }
            },
            "type": "table"
           }
          ]
         },
         "layout": {
          "annotationdefaults": {
           "arrowcolor": "#2a3f5f",
           "arrowhead": 0,
           "arrowwidth": 1
          },
          "coloraxis": {
           "colorbar": {
            "outlinewidth": 0,
            "ticks": ""
           }
          },
          "colorscale": {
           "diverging": [
            [
             0,
             "#8e0152"
            ],
            [
             0.1,
             "#c51b7d"
            ],
            [
             0.2,
             "#de77ae"
            ],
            [
             0.3,
             "#f1b6da"
            ],
            [
             0.4,
             "#fde0ef"
            ],
            [
             0.5,
             "#f7f7f7"
            ],
            [
             0.6,
             "#e6f5d0"
            ],
            [
             0.7,
             "#b8e186"
            ],
            [
             0.8,
             "#7fbc41"
            ],
            [
             0.9,
             "#4d9221"
            ],
            [
             1,
             "#276419"
            ]
           ],
           "sequential": [
            [
             0,
             "#0d0887"
            ],
            [
             0.1111111111111111,
             "#46039f"
            ],
            [
             0.2222222222222222,
             "#7201a8"
            ],
            [
             0.3333333333333333,
             "#9c179e"
            ],
            [
             0.4444444444444444,
             "#bd3786"
            ],
            [
             0.5555555555555556,
             "#d8576b"
            ],
            [
             0.6666666666666666,
             "#ed7953"
            ],
            [
             0.7777777777777778,
             "#fb9f3a"
            ],
            [
             0.8888888888888888,
             "#fdca26"
            ],
            [
             1,
             "#f0f921"
            ]
           ],
           "sequentialminus": [
            [
             0,
             "#0d0887"
            ],
            [
             0.1111111111111111,
             "#46039f"
            ],
            [
             0.2222222222222222,
             "#7201a8"
            ],
            [
             0.3333333333333333,
             "#9c179e"
            ],
            [
             0.4444444444444444,
             "#bd3786"
            ],
            [
             0.5555555555555556,
             "#d8576b"
            ],
            [
             0.6666666666666666,
             "#ed7953"
            ],
            [
             0.7777777777777778,
             "#fb9f3a"
            ],
            [
             0.8888888888888888,
             "#fdca26"
            ],
            [
             1,
             "#f0f921"
            ]
           ]
          },
          "colorway": [
           "#636efa",
           "#EF553B",
           "#00cc96",
           "#ab63fa",
           "#FFA15A",
           "#19d3f3",
           "#FF6692",
           "#B6E880",
           "#FF97FF",
           "#FECB52"
          ],
          "font": {
           "color": "#2a3f5f"
          },
          "geo": {
           "bgcolor": "white",
           "lakecolor": "white",
           "landcolor": "#E5ECF6",
           "showlakes": true,
           "showland": true,
           "subunitcolor": "white"
          },
          "hoverlabel": {
           "align": "left"
          },
          "hovermode": "closest",
          "mapbox": {
           "style": "light"
          },
          "paper_bgcolor": "white",
          "plot_bgcolor": "#E5ECF6",
          "polar": {
           "angularaxis": {
            "gridcolor": "white",
            "linecolor": "white",
            "ticks": ""
           },
           "bgcolor": "#E5ECF6",
           "radialaxis": {
            "gridcolor": "white",
            "linecolor": "white",
            "ticks": ""
           }
          },
          "scene": {
           "xaxis": {
            "backgroundcolor": "#E5ECF6",
            "gridcolor": "white",
            "gridwidth": 2,
            "linecolor": "white",
            "showbackground": true,
            "ticks": "",
            "zerolinecolor": "white"
           },
           "yaxis": {
            "backgroundcolor": "#E5ECF6",
            "gridcolor": "white",
            "gridwidth": 2,
            "linecolor": "white",
            "showbackground": true,
            "ticks": "",
            "zerolinecolor": "white"
           },
           "zaxis": {
            "backgroundcolor": "#E5ECF6",
            "gridcolor": "white",
            "gridwidth": 2,
            "linecolor": "white",
            "showbackground": true,
            "ticks": "",
            "zerolinecolor": "white"
           }
          },
          "shapedefaults": {
           "line": {
            "color": "#2a3f5f"
           }
          },
          "ternary": {
           "aaxis": {
            "gridcolor": "white",
            "linecolor": "white",
            "ticks": ""
           },
           "baxis": {
            "gridcolor": "white",
            "linecolor": "white",
            "ticks": ""
           },
           "bgcolor": "#E5ECF6",
           "caxis": {
            "gridcolor": "white",
            "linecolor": "white",
            "ticks": ""
           }
          },
          "title": {
           "x": 0.05
          },
          "xaxis": {
           "automargin": true,
           "gridcolor": "white",
           "linecolor": "white",
           "ticks": "",
           "title": {
            "standoff": 15
           },
           "zerolinecolor": "white",
           "zerolinewidth": 2
          },
          "yaxis": {
           "automargin": true,
           "gridcolor": "white",
           "linecolor": "white",
           "ticks": "",
           "title": {
            "standoff": 15
           },
           "zerolinecolor": "white",
           "zerolinewidth": 2
          }
         }
        },
        "xaxis": {
         "anchor": "y",
         "categoryarray": [
          1504224000000000000,
          1504310400000000000,
          1504396800000000000,
          1504483200000000000,
          1504569600000000000,
          1504656000000000000,
          1504742400000000000,
          1504828800000000000,
          1504915200000000000,
          1505001600000000000,
          1505088000000000000,
          1505174400000000000,
          1505260800000000000,
          1505347200000000000,
          1505433600000000000,
          1505520000000000000,
          1505606400000000000,
          1505692800000000000,
          1505779200000000000,
          1505865600000000000,
          1505952000000000000,
          1506038400000000000,
          1506124800000000000,
          1506211200000000000,
          1506297600000000000,
          1506384000000000000,
          1506470400000000000,
          1506556800000000000,
          1506643200000000000,
          1506729600000000000
         ],
         "categoryorder": "array",
         "domain": [
          0,
          1
         ],
         "title": {
          "text": "Date"
         }
        },
        "yaxis": {
         "anchor": "x",
         "domain": [
          0,
          1
         ],
         "title": {
          "text": "Revenue"
         }
        }
       }
      },
      "text/html": [
       "<div>\n",
       "        \n",
       "        \n",
       "            <div id=\"875f1ead-50bb-409a-9c1e-0169d00d27e8\" class=\"plotly-graph-div\" style=\"height:525px; width:100%;\"></div>\n",
       "            <script type=\"text/javascript\">\n",
       "                require([\"plotly\"], function(Plotly) {\n",
       "                    window.PLOTLYENV=window.PLOTLYENV || {};\n",
       "                    \n",
       "                if (document.getElementById(\"875f1ead-50bb-409a-9c1e-0169d00d27e8\")) {\n",
       "                    Plotly.newPlot(\n",
       "                        '875f1ead-50bb-409a-9c1e-0169d00d27e8',\n",
       "                        [{\"hoverlabel\": {\"namelength\": 0}, \"hovertemplate\": \"Date=%{x}<br>Revenue=%{y}\", \"legendgroup\": \"2017-09-01 00:00:00\", \"marker\": {\"color\": \"#636efa\", \"symbol\": \"circle\"}, \"mode\": \"markers\", \"name\": \"2017-09-01 00:00:00\", \"showlegend\": true, \"type\": \"scatter\", \"x\": [\"2017-09-01T00:00:00\"], \"xaxis\": \"x\", \"y\": [4368428.0], \"yaxis\": \"y\"}, {\"hoverlabel\": {\"namelength\": 0}, \"hovertemplate\": \"Date=%{x}<br>Revenue=%{y}\", \"legendgroup\": \"2017-09-02 00:00:00\", \"marker\": {\"color\": \"#EF553B\", \"symbol\": \"circle\"}, \"mode\": \"markers\", \"name\": \"2017-09-02 00:00:00\", \"showlegend\": true, \"type\": \"scatter\", \"x\": [\"2017-09-02T00:00:00\"], \"xaxis\": \"x\", \"y\": [4438806.0], \"yaxis\": \"y\"}, {\"hoverlabel\": {\"namelength\": 0}, \"hovertemplate\": \"Date=%{x}<br>Revenue=%{y}\", \"legendgroup\": \"2017-09-03 00:00:00\", \"marker\": {\"color\": \"#00cc96\", \"symbol\": \"circle\"}, \"mode\": \"markers\", \"name\": \"2017-09-03 00:00:00\", \"showlegend\": true, \"type\": \"scatter\", \"x\": [\"2017-09-03T00:00:00\"], \"xaxis\": \"x\", \"y\": [4369706.0], \"yaxis\": \"y\"}, {\"hoverlabel\": {\"namelength\": 0}, \"hovertemplate\": \"Date=%{x}<br>Revenue=%{y}\", \"legendgroup\": \"2017-09-04 00:00:00\", \"marker\": {\"color\": \"#ab63fa\", \"symbol\": \"circle\"}, \"mode\": \"markers\", \"name\": \"2017-09-04 00:00:00\", \"showlegend\": true, \"type\": \"scatter\", \"x\": [\"2017-09-04T00:00:00\"], \"xaxis\": \"x\", \"y\": [4405118.0], \"yaxis\": \"y\"}, {\"hoverlabel\": {\"namelength\": 0}, \"hovertemplate\": \"Date=%{x}<br>Revenue=%{y}\", \"legendgroup\": \"2017-09-05 00:00:00\", \"marker\": {\"color\": \"#FFA15A\", \"symbol\": \"circle\"}, \"mode\": \"markers\", \"name\": \"2017-09-05 00:00:00\", \"showlegend\": true, \"type\": \"scatter\", \"x\": [\"2017-09-05T00:00:00\"], \"xaxis\": \"x\", \"y\": [4465178.0], \"yaxis\": \"y\"}, {\"hoverlabel\": {\"namelength\": 0}, \"hovertemplate\": \"Date=%{x}<br>Revenue=%{y}\", \"legendgroup\": \"2017-09-06 00:00:00\", \"marker\": {\"color\": \"#19d3f3\", \"symbol\": \"circle\"}, \"mode\": \"markers\", \"name\": \"2017-09-06 00:00:00\", \"showlegend\": true, \"type\": \"scatter\", \"x\": [\"2017-09-06T00:00:00\"], \"xaxis\": \"x\", \"y\": [3972319.0], \"yaxis\": \"y\"}, {\"hoverlabel\": {\"namelength\": 0}, \"hovertemplate\": \"Date=%{x}<br>Revenue=%{y}\", \"legendgroup\": \"2017-09-07 00:00:00\", \"marker\": {\"color\": \"#FF6692\", \"symbol\": \"circle\"}, \"mode\": \"markers\", \"name\": \"2017-09-07 00:00:00\", \"showlegend\": true, \"type\": \"scatter\", \"x\": [\"2017-09-07T00:00:00\"], \"xaxis\": \"x\", \"y\": [4311260.0], \"yaxis\": \"y\"}, {\"hoverlabel\": {\"namelength\": 0}, \"hovertemplate\": \"Date=%{x}<br>Revenue=%{y}\", \"legendgroup\": \"2017-09-08 00:00:00\", \"marker\": {\"color\": \"#B6E880\", \"symbol\": \"circle\"}, \"mode\": \"markers\", \"name\": \"2017-09-08 00:00:00\", \"showlegend\": true, \"type\": \"scatter\", \"x\": [\"2017-09-08T00:00:00\"], \"xaxis\": \"x\", \"y\": [4314674.0], \"yaxis\": \"y\"}, {\"hoverlabel\": {\"namelength\": 0}, \"hovertemplate\": \"Date=%{x}<br>Revenue=%{y}\", \"legendgroup\": \"2017-09-09 00:00:00\", \"marker\": {\"color\": \"#FF97FF\", \"symbol\": \"circle\"}, \"mode\": \"markers\", \"name\": \"2017-09-09 00:00:00\", \"showlegend\": true, \"type\": \"scatter\", \"x\": [\"2017-09-09T00:00:00\"], \"xaxis\": \"x\", \"y\": [4282532.0], \"yaxis\": \"y\"}, {\"hoverlabel\": {\"namelength\": 0}, \"hovertemplate\": \"Date=%{x}<br>Revenue=%{y}\", \"legendgroup\": \"2017-09-10 00:00:00\", \"marker\": {\"color\": \"#FECB52\", \"symbol\": \"circle\"}, \"mode\": \"markers\", \"name\": \"2017-09-10 00:00:00\", \"showlegend\": true, \"type\": \"scatter\", \"x\": [\"2017-09-10T00:00:00\"], \"xaxis\": \"x\", \"y\": [4382259.0], \"yaxis\": \"y\"}, {\"hoverlabel\": {\"namelength\": 0}, \"hovertemplate\": \"Date=%{x}<br>Revenue=%{y}\", \"legendgroup\": \"2017-09-11 00:00:00\", \"marker\": {\"color\": \"#636efa\", \"symbol\": \"circle\"}, \"mode\": \"markers\", \"name\": \"2017-09-11 00:00:00\", \"showlegend\": true, \"type\": \"scatter\", \"x\": [\"2017-09-11T00:00:00\"], \"xaxis\": \"x\", \"y\": [4377062.0], \"yaxis\": \"y\"}, {\"hoverlabel\": {\"namelength\": 0}, \"hovertemplate\": \"Date=%{x}<br>Revenue=%{y}\", \"legendgroup\": \"2017-09-12 00:00:00\", \"marker\": {\"color\": \"#EF553B\", \"symbol\": \"circle\"}, \"mode\": \"markers\", \"name\": \"2017-09-12 00:00:00\", \"showlegend\": true, \"type\": \"scatter\", \"x\": [\"2017-09-12T00:00:00\"], \"xaxis\": \"x\", \"y\": [4382776.0], \"yaxis\": \"y\"}, {\"hoverlabel\": {\"namelength\": 0}, \"hovertemplate\": \"Date=%{x}<br>Revenue=%{y}\", \"legendgroup\": \"2017-09-13 00:00:00\", \"marker\": {\"color\": \"#00cc96\", \"symbol\": \"circle\"}, \"mode\": \"markers\", \"name\": \"2017-09-13 00:00:00\", \"showlegend\": true, \"type\": \"scatter\", \"x\": [\"2017-09-13T00:00:00\"], \"xaxis\": \"x\", \"y\": [4435789.0], \"yaxis\": \"y\"}, {\"hoverlabel\": {\"namelength\": 0}, \"hovertemplate\": \"Date=%{x}<br>Revenue=%{y}\", \"legendgroup\": \"2017-09-14 00:00:00\", \"marker\": {\"color\": \"#ab63fa\", \"symbol\": \"circle\"}, \"mode\": \"markers\", \"name\": \"2017-09-14 00:00:00\", \"showlegend\": true, \"type\": \"scatter\", \"x\": [\"2017-09-14T00:00:00\"], \"xaxis\": \"x\", \"y\": [4461424.0], \"yaxis\": \"y\"}, {\"hoverlabel\": {\"namelength\": 0}, \"hovertemplate\": \"Date=%{x}<br>Revenue=%{y}\", \"legendgroup\": \"2017-09-15 00:00:00\", \"marker\": {\"color\": \"#FFA15A\", \"symbol\": \"circle\"}, \"mode\": \"markers\", \"name\": \"2017-09-15 00:00:00\", \"showlegend\": true, \"type\": \"scatter\", \"x\": [\"2017-09-15T00:00:00\"], \"xaxis\": \"x\", \"y\": [4467303.0], \"yaxis\": \"y\"}, {\"hoverlabel\": {\"namelength\": 0}, \"hovertemplate\": \"Date=%{x}<br>Revenue=%{y}\", \"legendgroup\": \"2017-09-16 00:00:00\", \"marker\": {\"color\": \"#19d3f3\", \"symbol\": \"circle\"}, \"mode\": \"markers\", \"name\": \"2017-09-16 00:00:00\", \"showlegend\": true, \"type\": \"scatter\", \"x\": [\"2017-09-16T00:00:00\"], \"xaxis\": \"x\", \"y\": [4444834.0], \"yaxis\": \"y\"}, {\"hoverlabel\": {\"namelength\": 0}, \"hovertemplate\": \"Date=%{x}<br>Revenue=%{y}\", \"legendgroup\": \"2017-09-17 00:00:00\", \"marker\": {\"color\": \"#FF6692\", \"symbol\": \"circle\"}, \"mode\": \"markers\", \"name\": \"2017-09-17 00:00:00\", \"showlegend\": true, \"type\": \"scatter\", \"x\": [\"2017-09-17T00:00:00\"], \"xaxis\": \"x\", \"y\": [4315827.0], \"yaxis\": \"y\"}, {\"hoverlabel\": {\"namelength\": 0}, \"hovertemplate\": \"Date=%{x}<br>Revenue=%{y}\", \"legendgroup\": \"2017-09-18 00:00:00\", \"marker\": {\"color\": \"#B6E880\", \"symbol\": \"circle\"}, \"mode\": \"markers\", \"name\": \"2017-09-18 00:00:00\", \"showlegend\": true, \"type\": \"scatter\", \"x\": [\"2017-09-18T00:00:00\"], \"xaxis\": \"x\", \"y\": [4356647.0], \"yaxis\": \"y\"}, {\"hoverlabel\": {\"namelength\": 0}, \"hovertemplate\": \"Date=%{x}<br>Revenue=%{y}\", \"legendgroup\": \"2017-09-19 00:00:00\", \"marker\": {\"color\": \"#FF97FF\", \"symbol\": \"circle\"}, \"mode\": \"markers\", \"name\": \"2017-09-19 00:00:00\", \"showlegend\": true, \"type\": \"scatter\", \"x\": [\"2017-09-19T00:00:00\"], \"xaxis\": \"x\", \"y\": [4296468.0], \"yaxis\": \"y\"}, {\"hoverlabel\": {\"namelength\": 0}, \"hovertemplate\": \"Date=%{x}<br>Revenue=%{y}\", \"legendgroup\": \"2017-09-20 00:00:00\", \"marker\": {\"color\": \"#FECB52\", \"symbol\": \"circle\"}, \"mode\": \"markers\", \"name\": \"2017-09-20 00:00:00\", \"showlegend\": true, \"type\": \"scatter\", \"x\": [\"2017-09-20T00:00:00\"], \"xaxis\": \"x\", \"y\": [4311987.0], \"yaxis\": \"y\"}, {\"hoverlabel\": {\"namelength\": 0}, \"hovertemplate\": \"Date=%{x}<br>Revenue=%{y}\", \"legendgroup\": \"2017-09-21 00:00:00\", \"marker\": {\"color\": \"#636efa\", \"symbol\": \"circle\"}, \"mode\": \"markers\", \"name\": \"2017-09-21 00:00:00\", \"showlegend\": true, \"type\": \"scatter\", \"x\": [\"2017-09-21T00:00:00\"], \"xaxis\": \"x\", \"y\": [4099532.7], \"yaxis\": \"y\"}, {\"hoverlabel\": {\"namelength\": 0}, \"hovertemplate\": \"Date=%{x}<br>Revenue=%{y}\", \"legendgroup\": \"2017-09-22 00:00:00\", \"marker\": {\"color\": \"#EF553B\", \"symbol\": \"circle\"}, \"mode\": \"markers\", \"name\": \"2017-09-22 00:00:00\", \"showlegend\": true, \"type\": \"scatter\", \"x\": [\"2017-09-22T00:00:00\"], \"xaxis\": \"x\", \"y\": [4138315.22], \"yaxis\": \"y\"}, {\"hoverlabel\": {\"namelength\": 0}, \"hovertemplate\": \"Date=%{x}<br>Revenue=%{y}\", \"legendgroup\": \"2017-09-23 00:00:00\", \"marker\": {\"color\": \"#00cc96\", \"symbol\": \"circle\"}, \"mode\": \"markers\", \"name\": \"2017-09-23 00:00:00\", \"showlegend\": true, \"type\": \"scatter\", \"x\": [\"2017-09-23T00:00:00\"], \"xaxis\": \"x\", \"y\": [4177125.9400000004], \"yaxis\": \"y\"}, {\"hoverlabel\": {\"namelength\": 0}, \"hovertemplate\": \"Date=%{x}<br>Revenue=%{y}\", \"legendgroup\": \"2017-09-24 00:00:00\", \"marker\": {\"color\": \"#ab63fa\", \"symbol\": \"circle\"}, \"mode\": \"markers\", \"name\": \"2017-09-24 00:00:00\", \"showlegend\": true, \"type\": \"scatter\", \"x\": [\"2017-09-24T00:00:00\"], \"xaxis\": \"x\", \"y\": [4041436.0], \"yaxis\": \"y\"}, {\"hoverlabel\": {\"namelength\": 0}, \"hovertemplate\": \"Date=%{x}<br>Revenue=%{y}\", \"legendgroup\": \"2017-09-25 00:00:00\", \"marker\": {\"color\": \"#FFA15A\", \"symbol\": \"circle\"}, \"mode\": \"markers\", \"name\": \"2017-09-25 00:00:00\", \"showlegend\": true, \"type\": \"scatter\", \"x\": [\"2017-09-25T00:00:00\"], \"xaxis\": \"x\", \"y\": [4084194.7199999997], \"yaxis\": \"y\"}, {\"hoverlabel\": {\"namelength\": 0}, \"hovertemplate\": \"Date=%{x}<br>Revenue=%{y}\", \"legendgroup\": \"2017-09-26 00:00:00\", \"marker\": {\"color\": \"#19d3f3\", \"symbol\": \"circle\"}, \"mode\": \"markers\", \"name\": \"2017-09-26 00:00:00\", \"showlegend\": true, \"type\": \"scatter\", \"x\": [\"2017-09-26T00:00:00\"], \"xaxis\": \"x\", \"y\": [4009006.9400000004], \"yaxis\": \"y\"}, {\"hoverlabel\": {\"namelength\": 0}, \"hovertemplate\": \"Date=%{x}<br>Revenue=%{y}\", \"legendgroup\": \"2017-09-27 00:00:00\", \"marker\": {\"color\": \"#FF6692\", \"symbol\": \"circle\"}, \"mode\": \"markers\", \"name\": \"2017-09-27 00:00:00\", \"showlegend\": true, \"type\": \"scatter\", \"x\": [\"2017-09-27T00:00:00\"], \"xaxis\": \"x\", \"y\": [4071980.36], \"yaxis\": \"y\"}, {\"hoverlabel\": {\"namelength\": 0}, \"hovertemplate\": \"Date=%{x}<br>Revenue=%{y}\", \"legendgroup\": \"2017-09-28 00:00:00\", \"marker\": {\"color\": \"#B6E880\", \"symbol\": \"circle\"}, \"mode\": \"markers\", \"name\": \"2017-09-28 00:00:00\", \"showlegend\": true, \"type\": \"scatter\", \"x\": [\"2017-09-28T00:00:00\"], \"xaxis\": \"x\", \"y\": [4041125.8000000003], \"yaxis\": \"y\"}, {\"hoverlabel\": {\"namelength\": 0}, \"hovertemplate\": \"Date=%{x}<br>Revenue=%{y}\", \"legendgroup\": \"2017-09-29 00:00:00\", \"marker\": {\"color\": \"#FF97FF\", \"symbol\": \"circle\"}, \"mode\": \"markers\", \"name\": \"2017-09-29 00:00:00\", \"showlegend\": true, \"type\": \"scatter\", \"x\": [\"2017-09-29T00:00:00\"], \"xaxis\": \"x\", \"y\": [4173774.8399999994], \"yaxis\": \"y\"}, {\"hoverlabel\": {\"namelength\": 0}, \"hovertemplate\": \"Date=%{x}<br>Revenue=%{y}\", \"legendgroup\": \"2017-09-30 00:00:00\", \"marker\": {\"color\": \"#FECB52\", \"symbol\": \"circle\"}, \"mode\": \"markers\", \"name\": \"2017-09-30 00:00:00\", \"showlegend\": true, \"type\": \"scatter\", \"x\": [\"2017-09-30T00:00:00\"], \"xaxis\": \"x\", \"y\": [4166158.02], \"yaxis\": \"y\"}],\n",
       "                        {\"legend\": {\"title\": {\"text\": \"Date\"}, \"tracegroupgap\": 0}, \"margin\": {\"t\": 60}, \"template\": {\"data\": {\"bar\": [{\"error_x\": {\"color\": \"#2a3f5f\"}, \"error_y\": {\"color\": \"#2a3f5f\"}, \"marker\": {\"line\": {\"color\": \"#E5ECF6\", \"width\": 0.5}}, \"type\": \"bar\"}], \"barpolar\": [{\"marker\": {\"line\": {\"color\": \"#E5ECF6\", \"width\": 0.5}}, \"type\": \"barpolar\"}], \"carpet\": [{\"aaxis\": {\"endlinecolor\": \"#2a3f5f\", \"gridcolor\": \"white\", \"linecolor\": \"white\", \"minorgridcolor\": \"white\", \"startlinecolor\": \"#2a3f5f\"}, \"baxis\": {\"endlinecolor\": \"#2a3f5f\", \"gridcolor\": \"white\", \"linecolor\": \"white\", \"minorgridcolor\": \"white\", \"startlinecolor\": \"#2a3f5f\"}, \"type\": \"carpet\"}], \"choropleth\": [{\"colorbar\": {\"outlinewidth\": 0, \"ticks\": \"\"}, \"type\": \"choropleth\"}], \"contour\": [{\"colorbar\": {\"outlinewidth\": 0, \"ticks\": \"\"}, \"colorscale\": [[0.0, \"#0d0887\"], [0.1111111111111111, \"#46039f\"], [0.2222222222222222, \"#7201a8\"], [0.3333333333333333, \"#9c179e\"], [0.4444444444444444, \"#bd3786\"], [0.5555555555555556, \"#d8576b\"], [0.6666666666666666, \"#ed7953\"], [0.7777777777777778, \"#fb9f3a\"], [0.8888888888888888, \"#fdca26\"], [1.0, \"#f0f921\"]], \"type\": \"contour\"}], \"contourcarpet\": [{\"colorbar\": {\"outlinewidth\": 0, \"ticks\": \"\"}, \"type\": \"contourcarpet\"}], \"heatmap\": [{\"colorbar\": {\"outlinewidth\": 0, \"ticks\": \"\"}, \"colorscale\": [[0.0, \"#0d0887\"], [0.1111111111111111, \"#46039f\"], [0.2222222222222222, \"#7201a8\"], [0.3333333333333333, \"#9c179e\"], [0.4444444444444444, \"#bd3786\"], [0.5555555555555556, \"#d8576b\"], [0.6666666666666666, \"#ed7953\"], [0.7777777777777778, \"#fb9f3a\"], [0.8888888888888888, \"#fdca26\"], [1.0, \"#f0f921\"]], \"type\": \"heatmap\"}], \"heatmapgl\": [{\"colorbar\": {\"outlinewidth\": 0, \"ticks\": \"\"}, \"colorscale\": [[0.0, \"#0d0887\"], [0.1111111111111111, \"#46039f\"], [0.2222222222222222, \"#7201a8\"], [0.3333333333333333, \"#9c179e\"], [0.4444444444444444, \"#bd3786\"], [0.5555555555555556, \"#d8576b\"], [0.6666666666666666, \"#ed7953\"], [0.7777777777777778, \"#fb9f3a\"], [0.8888888888888888, \"#fdca26\"], [1.0, \"#f0f921\"]], \"type\": \"heatmapgl\"}], \"histogram\": [{\"marker\": {\"colorbar\": {\"outlinewidth\": 0, \"ticks\": \"\"}}, \"type\": \"histogram\"}], \"histogram2d\": [{\"colorbar\": {\"outlinewidth\": 0, \"ticks\": \"\"}, \"colorscale\": [[0.0, \"#0d0887\"], [0.1111111111111111, \"#46039f\"], [0.2222222222222222, \"#7201a8\"], [0.3333333333333333, \"#9c179e\"], [0.4444444444444444, \"#bd3786\"], [0.5555555555555556, \"#d8576b\"], [0.6666666666666666, \"#ed7953\"], [0.7777777777777778, \"#fb9f3a\"], [0.8888888888888888, \"#fdca26\"], [1.0, \"#f0f921\"]], \"type\": \"histogram2d\"}], \"histogram2dcontour\": [{\"colorbar\": {\"outlinewidth\": 0, \"ticks\": \"\"}, \"colorscale\": [[0.0, \"#0d0887\"], [0.1111111111111111, \"#46039f\"], [0.2222222222222222, \"#7201a8\"], [0.3333333333333333, \"#9c179e\"], [0.4444444444444444, \"#bd3786\"], [0.5555555555555556, \"#d8576b\"], [0.6666666666666666, \"#ed7953\"], [0.7777777777777778, \"#fb9f3a\"], [0.8888888888888888, \"#fdca26\"], [1.0, \"#f0f921\"]], \"type\": \"histogram2dcontour\"}], \"mesh3d\": [{\"colorbar\": {\"outlinewidth\": 0, \"ticks\": \"\"}, \"type\": \"mesh3d\"}], \"parcoords\": [{\"line\": {\"colorbar\": {\"outlinewidth\": 0, \"ticks\": \"\"}}, \"type\": \"parcoords\"}], \"pie\": [{\"automargin\": true, \"type\": \"pie\"}], \"scatter\": [{\"marker\": {\"colorbar\": {\"outlinewidth\": 0, \"ticks\": \"\"}}, \"type\": \"scatter\"}], \"scatter3d\": [{\"line\": {\"colorbar\": {\"outlinewidth\": 0, \"ticks\": \"\"}}, \"marker\": {\"colorbar\": {\"outlinewidth\": 0, \"ticks\": \"\"}}, \"type\": \"scatter3d\"}], \"scattercarpet\": [{\"marker\": {\"colorbar\": {\"outlinewidth\": 0, \"ticks\": \"\"}}, \"type\": \"scattercarpet\"}], \"scattergeo\": [{\"marker\": {\"colorbar\": {\"outlinewidth\": 0, \"ticks\": \"\"}}, \"type\": \"scattergeo\"}], \"scattergl\": [{\"marker\": {\"colorbar\": {\"outlinewidth\": 0, \"ticks\": \"\"}}, \"type\": \"scattergl\"}], \"scattermapbox\": [{\"marker\": {\"colorbar\": {\"outlinewidth\": 0, \"ticks\": \"\"}}, \"type\": \"scattermapbox\"}], \"scatterpolar\": [{\"marker\": {\"colorbar\": {\"outlinewidth\": 0, \"ticks\": \"\"}}, \"type\": \"scatterpolar\"}], \"scatterpolargl\": [{\"marker\": {\"colorbar\": {\"outlinewidth\": 0, \"ticks\": \"\"}}, \"type\": \"scatterpolargl\"}], \"scatterternary\": [{\"marker\": {\"colorbar\": {\"outlinewidth\": 0, \"ticks\": \"\"}}, \"type\": \"scatterternary\"}], \"surface\": [{\"colorbar\": {\"outlinewidth\": 0, \"ticks\": \"\"}, \"colorscale\": [[0.0, \"#0d0887\"], [0.1111111111111111, \"#46039f\"], [0.2222222222222222, \"#7201a8\"], [0.3333333333333333, \"#9c179e\"], [0.4444444444444444, \"#bd3786\"], [0.5555555555555556, \"#d8576b\"], [0.6666666666666666, \"#ed7953\"], [0.7777777777777778, \"#fb9f3a\"], [0.8888888888888888, \"#fdca26\"], [1.0, \"#f0f921\"]], \"type\": \"surface\"}], \"table\": [{\"cells\": {\"fill\": {\"color\": \"#EBF0F8\"}, \"line\": {\"color\": \"white\"}}, \"header\": {\"fill\": {\"color\": \"#C8D4E3\"}, \"line\": {\"color\": \"white\"}}, \"type\": \"table\"}]}, \"layout\": {\"annotationdefaults\": {\"arrowcolor\": \"#2a3f5f\", \"arrowhead\": 0, \"arrowwidth\": 1}, \"coloraxis\": {\"colorbar\": {\"outlinewidth\": 0, \"ticks\": \"\"}}, \"colorscale\": {\"diverging\": [[0, \"#8e0152\"], [0.1, \"#c51b7d\"], [0.2, \"#de77ae\"], [0.3, \"#f1b6da\"], [0.4, \"#fde0ef\"], [0.5, \"#f7f7f7\"], [0.6, \"#e6f5d0\"], [0.7, \"#b8e186\"], [0.8, \"#7fbc41\"], [0.9, \"#4d9221\"], [1, \"#276419\"]], \"sequential\": [[0.0, \"#0d0887\"], [0.1111111111111111, \"#46039f\"], [0.2222222222222222, \"#7201a8\"], [0.3333333333333333, \"#9c179e\"], [0.4444444444444444, \"#bd3786\"], [0.5555555555555556, \"#d8576b\"], [0.6666666666666666, \"#ed7953\"], [0.7777777777777778, \"#fb9f3a\"], [0.8888888888888888, \"#fdca26\"], [1.0, \"#f0f921\"]], \"sequentialminus\": [[0.0, \"#0d0887\"], [0.1111111111111111, \"#46039f\"], [0.2222222222222222, \"#7201a8\"], [0.3333333333333333, \"#9c179e\"], [0.4444444444444444, \"#bd3786\"], [0.5555555555555556, \"#d8576b\"], [0.6666666666666666, \"#ed7953\"], [0.7777777777777778, \"#fb9f3a\"], [0.8888888888888888, \"#fdca26\"], [1.0, \"#f0f921\"]]}, \"colorway\": [\"#636efa\", \"#EF553B\", \"#00cc96\", \"#ab63fa\", \"#FFA15A\", \"#19d3f3\", \"#FF6692\", \"#B6E880\", \"#FF97FF\", \"#FECB52\"], \"font\": {\"color\": \"#2a3f5f\"}, \"geo\": {\"bgcolor\": \"white\", \"lakecolor\": \"white\", \"landcolor\": \"#E5ECF6\", \"showlakes\": true, \"showland\": true, \"subunitcolor\": \"white\"}, \"hoverlabel\": {\"align\": \"left\"}, \"hovermode\": \"closest\", \"mapbox\": {\"style\": \"light\"}, \"paper_bgcolor\": \"white\", \"plot_bgcolor\": \"#E5ECF6\", \"polar\": {\"angularaxis\": {\"gridcolor\": \"white\", \"linecolor\": \"white\", \"ticks\": \"\"}, \"bgcolor\": \"#E5ECF6\", \"radialaxis\": {\"gridcolor\": \"white\", \"linecolor\": \"white\", \"ticks\": \"\"}}, \"scene\": {\"xaxis\": {\"backgroundcolor\": \"#E5ECF6\", \"gridcolor\": \"white\", \"gridwidth\": 2, \"linecolor\": \"white\", \"showbackground\": true, \"ticks\": \"\", \"zerolinecolor\": \"white\"}, \"yaxis\": {\"backgroundcolor\": \"#E5ECF6\", \"gridcolor\": \"white\", \"gridwidth\": 2, \"linecolor\": \"white\", \"showbackground\": true, \"ticks\": \"\", \"zerolinecolor\": \"white\"}, \"zaxis\": {\"backgroundcolor\": \"#E5ECF6\", \"gridcolor\": \"white\", \"gridwidth\": 2, \"linecolor\": \"white\", \"showbackground\": true, \"ticks\": \"\", \"zerolinecolor\": \"white\"}}, \"shapedefaults\": {\"line\": {\"color\": \"#2a3f5f\"}}, \"ternary\": {\"aaxis\": {\"gridcolor\": \"white\", \"linecolor\": \"white\", \"ticks\": \"\"}, \"baxis\": {\"gridcolor\": \"white\", \"linecolor\": \"white\", \"ticks\": \"\"}, \"bgcolor\": \"#E5ECF6\", \"caxis\": {\"gridcolor\": \"white\", \"linecolor\": \"white\", \"ticks\": \"\"}}, \"title\": {\"x\": 0.05}, \"xaxis\": {\"automargin\": true, \"gridcolor\": \"white\", \"linecolor\": \"white\", \"ticks\": \"\", \"title\": {\"standoff\": 15}, \"zerolinecolor\": \"white\", \"zerolinewidth\": 2}, \"yaxis\": {\"automargin\": true, \"gridcolor\": \"white\", \"linecolor\": \"white\", \"ticks\": \"\", \"title\": {\"standoff\": 15}, \"zerolinecolor\": \"white\", \"zerolinewidth\": 2}}}, \"xaxis\": {\"anchor\": \"y\", \"categoryarray\": [1504224000000000000, 1504310400000000000, 1504396800000000000, 1504483200000000000, 1504569600000000000, 1504656000000000000, 1504742400000000000, 1504828800000000000, 1504915200000000000, 1505001600000000000, 1505088000000000000, 1505174400000000000, 1505260800000000000, 1505347200000000000, 1505433600000000000, 1505520000000000000, 1505606400000000000, 1505692800000000000, 1505779200000000000, 1505865600000000000, 1505952000000000000, 1506038400000000000, 1506124800000000000, 1506211200000000000, 1506297600000000000, 1506384000000000000, 1506470400000000000, 1506556800000000000, 1506643200000000000, 1506729600000000000], \"categoryorder\": \"array\", \"domain\": [0.0, 1.0], \"title\": {\"text\": \"Date\"}}, \"yaxis\": {\"anchor\": \"x\", \"domain\": [0.0, 1.0], \"title\": {\"text\": \"Revenue\"}}},\n",
       "                        {\"responsive\": true}\n",
       "                    ).then(function(){\n",
       "                            \n",
       "var gd = document.getElementById('875f1ead-50bb-409a-9c1e-0169d00d27e8');\n",
       "var x = new MutationObserver(function (mutations, observer) {{\n",
       "        var display = window.getComputedStyle(gd).display;\n",
       "        if (!display || display === 'none') {{\n",
       "            console.log([gd, 'removed!']);\n",
       "            Plotly.purge(gd);\n",
       "            observer.disconnect();\n",
       "        }}\n",
       "}});\n",
       "\n",
       "// Listen for the removal of the full notebook cells\n",
       "var notebookContainer = gd.closest('#notebook-container');\n",
       "if (notebookContainer) {{\n",
       "    x.observe(notebookContainer, {childList: true});\n",
       "}}\n",
       "\n",
       "// Listen for the clearing of the current output cell\n",
       "var outputEl = gd.closest('.output');\n",
       "if (outputEl) {{\n",
       "    x.observe(outputEl, {childList: true});\n",
       "}}\n",
       "\n",
       "                        })\n",
       "                };\n",
       "                });\n",
       "            </script>\n",
       "        </div>"
      ]
     },
     "metadata": {},
     "output_type": "display_data"
    }
   ],
   "source": [
    "fig_d = px.scatter(df_date, x='Date', y='Revenue', color='Date',\n",
    "                 color_continuous_scale=px.colors.sequential.Cividis_r)\n",
    "\n",
    "fig_d.show()"
   ]
  },
  {
   "cell_type": "markdown",
   "metadata": {},
   "source": [
    "- September 6th made the minimum revenue in September. \n",
    "- September 15th made the maximum revenue in September. \n",
    "- The differences are not very large.\n",
    "- 5 top revenue made by daily are: 9/15, 9/5, 9/14, 9/16, 9/2, which are the first two weeks, probably because of labor day."
   ]
  },
  {
   "cell_type": "markdown",
   "metadata": {},
   "source": [
    "## Before You Go Total Revenue vs Revenue"
   ]
  },
  {
   "cell_type": "code",
   "execution_count": 45,
   "metadata": {},
   "outputs": [],
   "source": [
    "df_tr = df_tr.groupby(['Date'], as_index=False).sum()\n",
    "df_tr = df_tr[['Date','Before You Go Total Revenue From Cart Adds', 'Revenue']]\n",
    "df_tr['percentage'] = (df_tr['Before You Go Total Revenue From Cart Adds']/df_tr['Revenue']) * 100"
   ]
  },
  {
   "cell_type": "code",
   "execution_count": 51,
   "metadata": {},
   "outputs": [
    {
     "data": {
      "text/html": [
       "<div>\n",
       "<style scoped>\n",
       "    .dataframe tbody tr th:only-of-type {\n",
       "        vertical-align: middle;\n",
       "    }\n",
       "\n",
       "    .dataframe tbody tr th {\n",
       "        vertical-align: top;\n",
       "    }\n",
       "\n",
       "    .dataframe thead th {\n",
       "        text-align: right;\n",
       "    }\n",
       "</style>\n",
       "<table border=\"1\" class=\"dataframe\">\n",
       "  <thead>\n",
       "    <tr style=\"text-align: right;\">\n",
       "      <th></th>\n",
       "      <th>Date</th>\n",
       "      <th>Before You Go Total Revenue From Cart Adds</th>\n",
       "      <th>Revenue</th>\n",
       "      <th>percentage</th>\n",
       "    </tr>\n",
       "  </thead>\n",
       "  <tbody>\n",
       "    <tr>\n",
       "      <td>0</td>\n",
       "      <td>2017-09-01</td>\n",
       "      <td>38381</td>\n",
       "      <td>4368428.00</td>\n",
       "      <td>0.878600</td>\n",
       "    </tr>\n",
       "    <tr>\n",
       "      <td>1</td>\n",
       "      <td>2017-09-02</td>\n",
       "      <td>37953</td>\n",
       "      <td>4438806.00</td>\n",
       "      <td>0.855027</td>\n",
       "    </tr>\n",
       "    <tr>\n",
       "      <td>2</td>\n",
       "      <td>2017-09-03</td>\n",
       "      <td>38345</td>\n",
       "      <td>4369706.00</td>\n",
       "      <td>0.877519</td>\n",
       "    </tr>\n",
       "    <tr>\n",
       "      <td>3</td>\n",
       "      <td>2017-09-04</td>\n",
       "      <td>37871</td>\n",
       "      <td>4405118.00</td>\n",
       "      <td>0.859705</td>\n",
       "    </tr>\n",
       "    <tr>\n",
       "      <td>4</td>\n",
       "      <td>2017-09-05</td>\n",
       "      <td>37629</td>\n",
       "      <td>4465178.00</td>\n",
       "      <td>0.842721</td>\n",
       "    </tr>\n",
       "    <tr>\n",
       "      <td>5</td>\n",
       "      <td>2017-09-06</td>\n",
       "      <td>37569</td>\n",
       "      <td>3972319.00</td>\n",
       "      <td>0.945770</td>\n",
       "    </tr>\n",
       "    <tr>\n",
       "      <td>6</td>\n",
       "      <td>2017-09-07</td>\n",
       "      <td>38926</td>\n",
       "      <td>4311260.00</td>\n",
       "      <td>0.902891</td>\n",
       "    </tr>\n",
       "    <tr>\n",
       "      <td>7</td>\n",
       "      <td>2017-09-08</td>\n",
       "      <td>38164</td>\n",
       "      <td>4314674.00</td>\n",
       "      <td>0.884516</td>\n",
       "    </tr>\n",
       "    <tr>\n",
       "      <td>8</td>\n",
       "      <td>2017-09-09</td>\n",
       "      <td>38184</td>\n",
       "      <td>4282532.00</td>\n",
       "      <td>0.891622</td>\n",
       "    </tr>\n",
       "    <tr>\n",
       "      <td>9</td>\n",
       "      <td>2017-09-10</td>\n",
       "      <td>37658</td>\n",
       "      <td>4382259.00</td>\n",
       "      <td>0.859328</td>\n",
       "    </tr>\n",
       "    <tr>\n",
       "      <td>10</td>\n",
       "      <td>2017-09-11</td>\n",
       "      <td>37781</td>\n",
       "      <td>4377062.00</td>\n",
       "      <td>0.863159</td>\n",
       "    </tr>\n",
       "    <tr>\n",
       "      <td>11</td>\n",
       "      <td>2017-09-12</td>\n",
       "      <td>38175</td>\n",
       "      <td>4382776.00</td>\n",
       "      <td>0.871023</td>\n",
       "    </tr>\n",
       "    <tr>\n",
       "      <td>12</td>\n",
       "      <td>2017-09-13</td>\n",
       "      <td>38383</td>\n",
       "      <td>4435789.00</td>\n",
       "      <td>0.865303</td>\n",
       "    </tr>\n",
       "    <tr>\n",
       "      <td>13</td>\n",
       "      <td>2017-09-14</td>\n",
       "      <td>37675</td>\n",
       "      <td>4461424.00</td>\n",
       "      <td>0.844461</td>\n",
       "    </tr>\n",
       "    <tr>\n",
       "      <td>14</td>\n",
       "      <td>2017-09-15</td>\n",
       "      <td>37617</td>\n",
       "      <td>4467303.00</td>\n",
       "      <td>0.842052</td>\n",
       "    </tr>\n",
       "    <tr>\n",
       "      <td>15</td>\n",
       "      <td>2017-09-16</td>\n",
       "      <td>37589</td>\n",
       "      <td>4444834.00</td>\n",
       "      <td>0.845678</td>\n",
       "    </tr>\n",
       "    <tr>\n",
       "      <td>16</td>\n",
       "      <td>2017-09-17</td>\n",
       "      <td>38232</td>\n",
       "      <td>4315827.00</td>\n",
       "      <td>0.885856</td>\n",
       "    </tr>\n",
       "    <tr>\n",
       "      <td>17</td>\n",
       "      <td>2017-09-18</td>\n",
       "      <td>37794</td>\n",
       "      <td>4356647.00</td>\n",
       "      <td>0.867502</td>\n",
       "    </tr>\n",
       "    <tr>\n",
       "      <td>18</td>\n",
       "      <td>2017-09-19</td>\n",
       "      <td>38211</td>\n",
       "      <td>4296468.00</td>\n",
       "      <td>0.889358</td>\n",
       "    </tr>\n",
       "    <tr>\n",
       "      <td>19</td>\n",
       "      <td>2017-09-20</td>\n",
       "      <td>37703</td>\n",
       "      <td>4311987.00</td>\n",
       "      <td>0.874376</td>\n",
       "    </tr>\n",
       "    <tr>\n",
       "      <td>20</td>\n",
       "      <td>2017-09-21</td>\n",
       "      <td>42643</td>\n",
       "      <td>4099532.70</td>\n",
       "      <td>1.040192</td>\n",
       "    </tr>\n",
       "    <tr>\n",
       "      <td>21</td>\n",
       "      <td>2017-09-22</td>\n",
       "      <td>41603</td>\n",
       "      <td>4138315.22</td>\n",
       "      <td>1.005312</td>\n",
       "    </tr>\n",
       "    <tr>\n",
       "      <td>22</td>\n",
       "      <td>2017-09-23</td>\n",
       "      <td>43325</td>\n",
       "      <td>4177125.94</td>\n",
       "      <td>1.037196</td>\n",
       "    </tr>\n",
       "    <tr>\n",
       "      <td>23</td>\n",
       "      <td>2017-09-24</td>\n",
       "      <td>42257</td>\n",
       "      <td>4041436.00</td>\n",
       "      <td>1.045594</td>\n",
       "    </tr>\n",
       "    <tr>\n",
       "      <td>24</td>\n",
       "      <td>2017-09-25</td>\n",
       "      <td>42912</td>\n",
       "      <td>4084194.72</td>\n",
       "      <td>1.050684</td>\n",
       "    </tr>\n",
       "    <tr>\n",
       "      <td>25</td>\n",
       "      <td>2017-09-26</td>\n",
       "      <td>42912</td>\n",
       "      <td>4009006.94</td>\n",
       "      <td>1.070390</td>\n",
       "    </tr>\n",
       "    <tr>\n",
       "      <td>26</td>\n",
       "      <td>2017-09-27</td>\n",
       "      <td>42453</td>\n",
       "      <td>4071980.36</td>\n",
       "      <td>1.042564</td>\n",
       "    </tr>\n",
       "    <tr>\n",
       "      <td>27</td>\n",
       "      <td>2017-09-28</td>\n",
       "      <td>43371</td>\n",
       "      <td>4041125.80</td>\n",
       "      <td>1.073241</td>\n",
       "    </tr>\n",
       "    <tr>\n",
       "      <td>28</td>\n",
       "      <td>2017-09-29</td>\n",
       "      <td>42325</td>\n",
       "      <td>4173774.84</td>\n",
       "      <td>1.014070</td>\n",
       "    </tr>\n",
       "    <tr>\n",
       "      <td>29</td>\n",
       "      <td>2017-09-30</td>\n",
       "      <td>42532</td>\n",
       "      <td>4166158.02</td>\n",
       "      <td>1.020893</td>\n",
       "    </tr>\n",
       "  </tbody>\n",
       "</table>\n",
       "</div>"
      ],
      "text/plain": [
       "         Date  Before You Go Total Revenue From Cart Adds     Revenue  \\\n",
       "0  2017-09-01                                       38381  4368428.00   \n",
       "1  2017-09-02                                       37953  4438806.00   \n",
       "2  2017-09-03                                       38345  4369706.00   \n",
       "3  2017-09-04                                       37871  4405118.00   \n",
       "4  2017-09-05                                       37629  4465178.00   \n",
       "5  2017-09-06                                       37569  3972319.00   \n",
       "6  2017-09-07                                       38926  4311260.00   \n",
       "7  2017-09-08                                       38164  4314674.00   \n",
       "8  2017-09-09                                       38184  4282532.00   \n",
       "9  2017-09-10                                       37658  4382259.00   \n",
       "10 2017-09-11                                       37781  4377062.00   \n",
       "11 2017-09-12                                       38175  4382776.00   \n",
       "12 2017-09-13                                       38383  4435789.00   \n",
       "13 2017-09-14                                       37675  4461424.00   \n",
       "14 2017-09-15                                       37617  4467303.00   \n",
       "15 2017-09-16                                       37589  4444834.00   \n",
       "16 2017-09-17                                       38232  4315827.00   \n",
       "17 2017-09-18                                       37794  4356647.00   \n",
       "18 2017-09-19                                       38211  4296468.00   \n",
       "19 2017-09-20                                       37703  4311987.00   \n",
       "20 2017-09-21                                       42643  4099532.70   \n",
       "21 2017-09-22                                       41603  4138315.22   \n",
       "22 2017-09-23                                       43325  4177125.94   \n",
       "23 2017-09-24                                       42257  4041436.00   \n",
       "24 2017-09-25                                       42912  4084194.72   \n",
       "25 2017-09-26                                       42912  4009006.94   \n",
       "26 2017-09-27                                       42453  4071980.36   \n",
       "27 2017-09-28                                       43371  4041125.80   \n",
       "28 2017-09-29                                       42325  4173774.84   \n",
       "29 2017-09-30                                       42532  4166158.02   \n",
       "\n",
       "    percentage  \n",
       "0     0.878600  \n",
       "1     0.855027  \n",
       "2     0.877519  \n",
       "3     0.859705  \n",
       "4     0.842721  \n",
       "5     0.945770  \n",
       "6     0.902891  \n",
       "7     0.884516  \n",
       "8     0.891622  \n",
       "9     0.859328  \n",
       "10    0.863159  \n",
       "11    0.871023  \n",
       "12    0.865303  \n",
       "13    0.844461  \n",
       "14    0.842052  \n",
       "15    0.845678  \n",
       "16    0.885856  \n",
       "17    0.867502  \n",
       "18    0.889358  \n",
       "19    0.874376  \n",
       "20    1.040192  \n",
       "21    1.005312  \n",
       "22    1.037196  \n",
       "23    1.045594  \n",
       "24    1.050684  \n",
       "25    1.070390  \n",
       "26    1.042564  \n",
       "27    1.073241  \n",
       "28    1.014070  \n",
       "29    1.020893  "
      ]
     },
     "execution_count": 51,
     "metadata": {},
     "output_type": "execute_result"
    }
   ],
   "source": [
    "df_tr"
   ]
  },
  {
   "cell_type": "code",
   "execution_count": 48,
   "metadata": {},
   "outputs": [
    {
     "data": {
      "text/plain": [
       "0.9255187222586858"
      ]
     },
     "execution_count": 48,
     "metadata": {},
     "output_type": "execute_result"
    }
   ],
   "source": [
    "percentage = (df_tr['Before You Go Total Revenue From Cart Adds'].sum()/df_tr['Revenue'].sum()) * 100\n",
    "percentage"
   ]
  },
  {
   "cell_type": "code",
   "execution_count": 49,
   "metadata": {},
   "outputs": [
    {
     "data": {
      "text/plain": [
       "Before You Go Unique Daily Users              1680042\n",
       "Before You Go Cart Adds                        649191\n",
       "Before You Go Total Revenue From Cart Adds    1186173\n",
       "dtype: int64"
      ]
     },
     "execution_count": 49,
     "metadata": {},
     "output_type": "execute_result"
    }
   ],
   "source": [
    "df[['Before You Go Unique Daily Users', 'Before You Go Cart Adds ',\n",
    "            'Before You Go Total Revenue From Cart Adds']].sum()"
   ]
  },
  {
   "cell_type": "code",
   "execution_count": 50,
   "metadata": {},
   "outputs": [
    {
     "data": {
      "text/html": [
       "<div>\n",
       "<style scoped>\n",
       "    .dataframe tbody tr th:only-of-type {\n",
       "        vertical-align: middle;\n",
       "    }\n",
       "\n",
       "    .dataframe tbody tr th {\n",
       "        vertical-align: top;\n",
       "    }\n",
       "\n",
       "    .dataframe thead th {\n",
       "        text-align: right;\n",
       "    }\n",
       "</style>\n",
       "<table border=\"1\" class=\"dataframe\">\n",
       "  <thead>\n",
       "    <tr style=\"text-align: right;\">\n",
       "      <th></th>\n",
       "      <th>Before You Go Unique Daily Users</th>\n",
       "      <th>Order Summary Unique Daily Users</th>\n",
       "    </tr>\n",
       "  </thead>\n",
       "  <tbody>\n",
       "    <tr>\n",
       "      <td>0</td>\n",
       "      <td>4910</td>\n",
       "      <td>4245</td>\n",
       "    </tr>\n",
       "    <tr>\n",
       "      <td>1</td>\n",
       "      <td>4450</td>\n",
       "      <td>3504</td>\n",
       "    </tr>\n",
       "    <tr>\n",
       "      <td>2</td>\n",
       "      <td>487</td>\n",
       "      <td>435</td>\n",
       "    </tr>\n",
       "    <tr>\n",
       "      <td>3</td>\n",
       "      <td>398</td>\n",
       "      <td>261</td>\n",
       "    </tr>\n",
       "    <tr>\n",
       "      <td>4</td>\n",
       "      <td>5159</td>\n",
       "      <td>4059</td>\n",
       "    </tr>\n",
       "    <tr>\n",
       "      <td>...</td>\n",
       "      <td>...</td>\n",
       "      <td>...</td>\n",
       "    </tr>\n",
       "    <tr>\n",
       "      <td>235</td>\n",
       "      <td>411</td>\n",
       "      <td>243</td>\n",
       "    </tr>\n",
       "    <tr>\n",
       "      <td>236</td>\n",
       "      <td>4800</td>\n",
       "      <td>3781</td>\n",
       "    </tr>\n",
       "    <tr>\n",
       "      <td>237</td>\n",
       "      <td>5029</td>\n",
       "      <td>3582</td>\n",
       "    </tr>\n",
       "    <tr>\n",
       "      <td>238</td>\n",
       "      <td>20698</td>\n",
       "      <td>15919</td>\n",
       "    </tr>\n",
       "    <tr>\n",
       "      <td>239</td>\n",
       "      <td>61</td>\n",
       "      <td>40</td>\n",
       "    </tr>\n",
       "  </tbody>\n",
       "</table>\n",
       "<p>240 rows × 2 columns</p>\n",
       "</div>"
      ],
      "text/plain": [
       "     Before You Go Unique Daily Users  Order Summary Unique Daily Users\n",
       "0                                4910                              4245\n",
       "1                                4450                              3504\n",
       "2                                 487                               435\n",
       "3                                 398                               261\n",
       "4                                5159                              4059\n",
       "..                                ...                               ...\n",
       "235                               411                               243\n",
       "236                              4800                              3781\n",
       "237                              5029                              3582\n",
       "238                             20698                             15919\n",
       "239                                61                                40\n",
       "\n",
       "[240 rows x 2 columns]"
      ]
     },
     "execution_count": 50,
     "metadata": {},
     "output_type": "execute_result"
    }
   ],
   "source": [
    "df[['Before You Go Unique Daily Users', 'Order Summary Unique Daily Users']]"
   ]
  },
  {
   "cell_type": "markdown",
   "metadata": {},
   "source": [
    "- the revenue made through adds are around 1% of the revenue made calculated based on every single day in September. So revenue from adds are still taking the minimum percentile."
   ]
  },
  {
   "cell_type": "markdown",
   "metadata": {},
   "source": [
    "#### # What would you measure and how will you make decisions from there? \n",
    "I will measure elements like \n",
    "'Before You Go Unique Daily Users': to get some idea how many customers are getting into the website; \n",
    "\n",
    "'Before You Go Cart Adds': to understand how many adds are posted\n",
    "\n",
    "'Before You Go Total Revenue From Cart Adds': how efficiently the adds can work\n",
    "\n",
    "'Order Summary Unique Daily Users': if the most of customers are making orders, or are they not happy with the add"
   ]
  },
  {
   "cell_type": "markdown",
   "metadata": {},
   "source": [
    "#### # What would be the top 3 metrics to define the success of the product?  \n",
    "1. if the revenue are some how increasing\n",
    "\n",
    "2. if the customers are increasing because we can offer better/related adds\n",
    "\n",
    "3. what proportion does adds revenue take in the total revenue"
   ]
  },
  {
   "cell_type": "markdown",
   "metadata": {},
   "source": [
    "#### # What would be the dashboards/report you would build to track those? \n",
    "\n",
    "first of all, I need to calculate the total revenue to see if the total revenue is increasing or keeping in the same level. And then, calculate the proportion of cart adds revenue to the total revenue to see if adds works as what we suppose to be. If not, find if the number of total unique users to the total adds and order summary to see if adds are influencing the purchase. And finally, get the date and revenue relations."
   ]
  },
  {
   "cell_type": "code",
   "execution_count": null,
   "metadata": {},
   "outputs": [],
   "source": []
  }
 ],
 "metadata": {
  "kernelspec": {
   "display_name": "Python 3",
   "language": "python",
   "name": "python3"
  },
  "language_info": {
   "codemirror_mode": {
    "name": "ipython",
    "version": 3
   },
   "file_extension": ".py",
   "mimetype": "text/x-python",
   "name": "python",
   "nbconvert_exporter": "python",
   "pygments_lexer": "ipython3",
   "version": "3.7.4"
  }
 },
 "nbformat": 4,
 "nbformat_minor": 2
}
