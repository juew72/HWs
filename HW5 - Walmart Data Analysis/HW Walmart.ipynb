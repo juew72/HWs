{
 "cells": [
  {
   "cell_type": "markdown",
   "metadata": {},
   "source": [
    "## Exercise: \n",
    "\n",
    "You are a data analyst for ASDA Groceries (Walmart's UK subsidiary, https://groceries.asda.com/), looking after the checkout customer experience. A new product manager has started at the company and she asks you to give a short report on the recent performance of the checkout and to give your recommendations on areas of opportunity/concern. You have pulled the attached data from the company’s analytics reporting tool. \n",
    "\n",
    "Background on ASDA Groceries' checkout experience: \n",
    "\n",
    "The company has a 4-step checkout, where every user has to go through each step in order to complete the checkout \n",
    "\n",
    "Step 1 – Before You Go – a page where the user is shown a number of product recommendations based on what they have either previous bought or complementary product to those already in their cart \n",
    "\n",
    "Step 2 – Book A Slot – a page where the user selects the time and day they would like their delivery. Availability and cost of slot here can vary. \n",
    "\n",
    "Step 3 – Select Payment – a page where existing users can select a credit card that was previous used or where new/existing users can add a new credit card to use again an order \n",
    "\n",
    "Step 4 – Order Summary – a page where users can see a summary of their order including order contents, booked slot, payment type and a breakdown of the final cost. This is where a customer places an order \n",
    "\n",
    "For ease of analysis – assume no same user orders more than once in the same day "
   ]
  },
  {
   "cell_type": "markdown",
   "metadata": {},
   "source": [
    "## Task: \n",
    "\n",
    "Run some analysis on the data set and present your top 5 findings to the new product manager.  Please see above User checkout experience. Assuming you can get all the data you want: \n",
    " - What would you measure and how will you make decisions from there? \n",
    " - What would be the top 3 metrics to define the success of the product?  \n",
    " - What would be the dashboards/report you would build to track those? "
   ]
  },
  {
   "cell_type": "code",
   "execution_count": 1,
   "metadata": {},
   "outputs": [],
   "source": [
    "import pandas as pd"
   ]
  },
  {
   "cell_type": "code",
   "execution_count": 2,
   "metadata": {},
   "outputs": [
    {
     "data": {
      "text/html": [
       "<div>\n",
       "<style scoped>\n",
       "    .dataframe tbody tr th:only-of-type {\n",
       "        vertical-align: middle;\n",
       "    }\n",
       "\n",
       "    .dataframe tbody tr th {\n",
       "        vertical-align: top;\n",
       "    }\n",
       "\n",
       "    .dataframe thead th {\n",
       "        text-align: right;\n",
       "    }\n",
       "</style>\n",
       "<table border=\"1\" class=\"dataframe\">\n",
       "  <thead>\n",
       "    <tr style=\"text-align: right;\">\n",
       "      <th></th>\n",
       "      <th>Date</th>\n",
       "      <th>Customer Type</th>\n",
       "      <th>Delivery Type</th>\n",
       "      <th>Device Type</th>\n",
       "      <th>Before You Go Unique Daily Users</th>\n",
       "      <th>Before You Go Cart Adds</th>\n",
       "      <th>Before You Go Total Revenue From Cart Adds</th>\n",
       "      <th>Book Slot Unique Daily Users</th>\n",
       "      <th>Select Payment Unique Daily Users</th>\n",
       "      <th>Order Summary Unique Daily Users</th>\n",
       "      <th>Orders</th>\n",
       "      <th>Revenue</th>\n",
       "    </tr>\n",
       "  </thead>\n",
       "  <tbody>\n",
       "    <tr>\n",
       "      <td>0</td>\n",
       "      <td>2017-09-01</td>\n",
       "      <td>Existing</td>\n",
       "      <td>Store Collection</td>\n",
       "      <td>Desktop</td>\n",
       "      <td>4910</td>\n",
       "      <td>1929</td>\n",
       "      <td>3737</td>\n",
       "      <td>4839</td>\n",
       "      <td>4342</td>\n",
       "      <td>4245</td>\n",
       "      <td>4037</td>\n",
       "      <td>379289.0</td>\n",
       "    </tr>\n",
       "    <tr>\n",
       "      <td>1</td>\n",
       "      <td>2017-09-01</td>\n",
       "      <td>New</td>\n",
       "      <td>Home Delivery</td>\n",
       "      <td>Desktop</td>\n",
       "      <td>4450</td>\n",
       "      <td>1753</td>\n",
       "      <td>2470</td>\n",
       "      <td>4166</td>\n",
       "      <td>3608</td>\n",
       "      <td>3504</td>\n",
       "      <td>3450</td>\n",
       "      <td>311501.0</td>\n",
       "    </tr>\n",
       "    <tr>\n",
       "      <td>2</td>\n",
       "      <td>2017-09-01</td>\n",
       "      <td>New</td>\n",
       "      <td>Store Collection</td>\n",
       "      <td>Desktop</td>\n",
       "      <td>487</td>\n",
       "      <td>148</td>\n",
       "      <td>257</td>\n",
       "      <td>478</td>\n",
       "      <td>452</td>\n",
       "      <td>435</td>\n",
       "      <td>399</td>\n",
       "      <td>36074.0</td>\n",
       "    </tr>\n",
       "    <tr>\n",
       "      <td>3</td>\n",
       "      <td>2017-09-01</td>\n",
       "      <td>New</td>\n",
       "      <td>Home Delivery</td>\n",
       "      <td>Mobile</td>\n",
       "      <td>398</td>\n",
       "      <td>103</td>\n",
       "      <td>153</td>\n",
       "      <td>343</td>\n",
       "      <td>272</td>\n",
       "      <td>261</td>\n",
       "      <td>250</td>\n",
       "      <td>17452.0</td>\n",
       "    </tr>\n",
       "    <tr>\n",
       "      <td>4</td>\n",
       "      <td>2017-09-01</td>\n",
       "      <td>Existing</td>\n",
       "      <td>Store Collection</td>\n",
       "      <td>Mobile</td>\n",
       "      <td>5159</td>\n",
       "      <td>1750</td>\n",
       "      <td>3356</td>\n",
       "      <td>4785</td>\n",
       "      <td>4242</td>\n",
       "      <td>4059</td>\n",
       "      <td>3855</td>\n",
       "      <td>360265.0</td>\n",
       "    </tr>\n",
       "  </tbody>\n",
       "</table>\n",
       "</div>"
      ],
      "text/plain": [
       "        Date Customer Type     Delivery Type Device Type  \\\n",
       "0 2017-09-01      Existing  Store Collection    Desktop    \n",
       "1 2017-09-01           New     Home Delivery    Desktop    \n",
       "2 2017-09-01           New  Store Collection    Desktop    \n",
       "3 2017-09-01           New     Home Delivery     Mobile    \n",
       "4 2017-09-01      Existing  Store Collection     Mobile    \n",
       "\n",
       "   Before You Go Unique Daily Users  Before You Go Cart Adds   \\\n",
       "0                              4910                      1929   \n",
       "1                              4450                      1753   \n",
       "2                               487                       148   \n",
       "3                               398                       103   \n",
       "4                              5159                      1750   \n",
       "\n",
       "   Before You Go Total Revenue From Cart Adds  Book Slot Unique Daily Users  \\\n",
       "0                                        3737                          4839   \n",
       "1                                        2470                          4166   \n",
       "2                                         257                           478   \n",
       "3                                         153                           343   \n",
       "4                                        3356                          4785   \n",
       "\n",
       "   Select Payment Unique Daily Users  Order Summary Unique Daily Users  \\\n",
       "0                               4342                              4245   \n",
       "1                               3608                              3504   \n",
       "2                                452                               435   \n",
       "3                                272                               261   \n",
       "4                               4242                              4059   \n",
       "\n",
       "   Orders   Revenue  \n",
       "0    4037  379289.0  \n",
       "1    3450  311501.0  \n",
       "2     399   36074.0  \n",
       "3     250   17452.0  \n",
       "4    3855  360265.0  "
      ]
     },
     "execution_count": 2,
     "metadata": {},
     "output_type": "execute_result"
    }
   ],
   "source": [
    "df = pd.read_excel('International Data Analyst Take Home Excercise 2.xlsx',\n",
    "                  sheet_name = 'Data')\n",
    "df.head()"
   ]
  },
  {
   "cell_type": "code",
   "execution_count": 3,
   "metadata": {},
   "outputs": [
    {
     "data": {
      "text/plain": [
       "Index(['Date', 'Customer Type', 'Delivery Type', 'Device Type',\n",
       "       'Before You Go Unique Daily Users', 'Before You Go Cart Adds ',\n",
       "       'Before You Go Total Revenue From Cart Adds',\n",
       "       'Book Slot Unique Daily Users', 'Select Payment Unique Daily Users',\n",
       "       'Order Summary Unique Daily Users', 'Orders', 'Revenue'],\n",
       "      dtype='object')"
      ]
     },
     "execution_count": 3,
     "metadata": {},
     "output_type": "execute_result"
    }
   ],
   "source": [
    "df.columns"
   ]
  },
  {
   "cell_type": "code",
   "execution_count": 4,
   "metadata": {},
   "outputs": [],
   "source": [
    "# Run some analysis on the data set and present your top 5 findings to the new product manager.  \n",
    "# Please see above User checkout experience. Assuming you can get all the data you want: \n",
    "# What would you measure and how will you make decisions from there? \n",
    "# What would be the top 3 metrics to define the success of the product?  \n",
    "# What would be the dashboards/report you would build to track those? "
   ]
  },
  {
   "cell_type": "markdown",
   "metadata": {},
   "source": [
    "ATTN: !pip install plotly"
   ]
  },
  {
   "cell_type": "markdown",
   "metadata": {},
   "source": [
    "## Customer Type vs Revenue"
   ]
  },
  {
   "cell_type": "code",
   "execution_count": null,
   "metadata": {},
   "outputs": [],
   "source": [
    "df_customer = df.groupby(['Customer Type']).sum()\n",
    "df_customer['percentage'] = (df_customer['Revenue']/df_customer['Revenue'].sum()) * 100\n",
    "df_customer[['Revenue', 'percentage']]"
   ]
  },
  {
   "cell_type": "code",
   "execution_count": null,
   "metadata": {},
   "outputs": [],
   "source": [
    "import plotly.express as px\n",
    "fig = px.scatter(df, x='Revenue', y='Before You Go Total Revenue From Cart Adds', color='Customer Type',\n",
    "                 size='Revenue', marginal_y=\"violin\", marginal_x=\"box\")\n",
    "fig.show()"
   ]
  },
  {
   "cell_type": "markdown",
   "metadata": {},
   "source": [
    "- Existing customers are making most of the revenue, which is 91.77% of total revenue made in September. New customers are making 8.2% of revenues.\n",
    "- The highest revenue made by the new customers is 311.8k, however the lowest revenue made by 274.6K. Indicating that the new customers can offer more revenues once they get used to the website."
   ]
  },
  {
   "cell_type": "markdown",
   "metadata": {},
   "source": [
    "## Delivery Type vs Revenue"
   ]
  },
  {
   "cell_type": "code",
   "execution_count": null,
   "metadata": {},
   "outputs": [],
   "source": [
    "df_delivery = df.groupby(['Delivery Type']).sum()\n",
    "df_delivery['Percentage'] = (df_delivery['Revenue']/df_delivery['Revenue'].sum()) * 100\n",
    "df_delivery[['Revenue', 'Percentage']]"
   ]
  },
  {
   "cell_type": "code",
   "execution_count": null,
   "metadata": {},
   "outputs": [],
   "source": [
    "import plotly.graph_objects as go\n",
    "from plotly.subplots import make_subplots\n",
    "\n",
    "labels = df['Delivery Type']\n",
    "value_exist = df['Revenue'].loc[df['Customer Type'] == 'Existing']\n",
    "value_new = df['Revenue'].loc[df['Customer Type'] == 'New']\n",
    "colors = ['gold', 'darkorange']\n",
    "\n",
    "fig = make_subplots(rows=1, cols=2, specs=[[{'type':'domain'}, {'type':'domain'}]])\n",
    "fig.add_trace(go.Pie(labels=labels, values=value_exist, name=\"Existing Customer\"),\n",
    "              1, 1)\n",
    "fig.add_trace(go.Pie(labels=labels, values=value_new, name=\"New Customer\"),\n",
    "              1, 2)\n",
    "\n",
    "fig.update_traces(hole=.4, hoverinfo=\"label+percent+name\", textinfo = 'value',\n",
    "                 marker=dict(colors=colors, line=dict(color='#000000', width=2)))\n",
    "\n",
    "fig.update_layout(\n",
    "    title_text=\"Customer Type & Delivery Type\",\n",
    "    annotations=[dict(text='Existing', x=0.18, y=0.5, font_size=20, showarrow=False),\n",
    "                 dict(text='New', x=0.82, y=0.5, font_size=20, showarrow=False)])\n",
    "fig.show()"
   ]
  },
  {
   "cell_type": "markdown",
   "metadata": {},
   "source": [
    "- Based on dataframe created above, customers would like to pick up in-store rather than selecting home delivery. And sore collection related revenue is more than twice the revenue made with home delivery.\n",
    "\n",
    "- Based on Graphics comparing the revenue earned by existing and new customers and the delivery methods, the following information can be obtained:\n",
    "- for existing customers, there are not huge delivery methods preferences, which means 44.7% of existing customers prefer store collecting shopping items and 55.3% of existing customers prefer home delivery.\n",
    "- for new customers, they prefer store collecting than home delivery. only 37.7% of new customers prefer home delivery, but 62.3% of new customers prefer store collection."
   ]
  },
  {
   "cell_type": "markdown",
   "metadata": {},
   "source": [
    "## Device Type vs Revenue"
   ]
  },
  {
   "cell_type": "code",
   "execution_count": null,
   "metadata": {},
   "outputs": [],
   "source": [
    "df_device = df.groupby(['Device Type','Delivery Type']).sum()\n",
    "df_device['Percentage'] = (df_device['Revenue']/df_device['Revenue'].sum()) * 100\n",
    "df_device[['Revenue', 'Percentage']]"
   ]
  },
  {
   "cell_type": "code",
   "execution_count": null,
   "metadata": {},
   "outputs": [],
   "source": [
    "fig_device = px.scatter_matrix(df, dimensions=['Orders', 'Revenue'], color='Device Type')\n",
    "fig_device.show()"
   ]
  },
  {
   "cell_type": "markdown",
   "metadata": {},
   "source": [
    "- 55% of revenues are made with Desktop and 45% of revenes are made with mobile.\n",
    "- store collection type of delivery method is taking almost 1/6 of the total revenue when people order through desktop, and 1/5 of the revenue made when people order through mobiles."
   ]
  },
  {
   "cell_type": "markdown",
   "metadata": {},
   "source": [
    "## Date vs Revenue"
   ]
  },
  {
   "cell_type": "code",
   "execution_count": null,
   "metadata": {},
   "outputs": [],
   "source": [
    "df_date = df.groupby(['Date'],as_index=False).sum()\n",
    "df_date['Percentage'] = (df_date['Revenue']/df_date['Revenue'].sum()) * 100\n",
    "df_date[['Date', 'Percentage']]"
   ]
  },
  {
   "cell_type": "code",
   "execution_count": null,
   "metadata": {},
   "outputs": [],
   "source": [
    "df_date['Revenue'].nlargest(5)"
   ]
  },
  {
   "cell_type": "code",
   "execution_count": null,
   "metadata": {},
   "outputs": [],
   "source": [
    "fig_d = px.scatter(df_date, x='Date', y='Revenue', color='Date',\n",
    "                 color_continuous_scale=px.colors.sequential.Cividis_r)\n",
    "\n",
    "fig_d.show()"
   ]
  },
  {
   "cell_type": "markdown",
   "metadata": {},
   "source": [
    "- September 6th made the minimum revenue in September. \n",
    "- September 15th made the maximum revenue in September. \n",
    "- The differences are not very large.\n",
    "- 5 top revenue made by daily are: 9/15, 9/5, 9/14, 9/16, 9/2, which are the first two weeks, probably because of labor day."
   ]
  },
  {
   "cell_type": "markdown",
   "metadata": {},
   "source": [
    "## Before You Go Total Revenue vs Revenue"
   ]
  },
  {
   "cell_type": "code",
   "execution_count": null,
   "metadata": {},
   "outputs": [],
   "source": [
    "df_tr = df.groupby(['Date'], as_index=False).sum()\n",
    "df_tr = df_tr[['Date','Before You Go Total Revenue From Cart Adds', 'Revenue']]\n",
    "df_tr['percentage'] = (df_tr['Before You Go Total Revenue From Cart Adds']/df_tr['Revenue']) * 100"
   ]
  },
  {
   "cell_type": "code",
   "execution_count": null,
   "metadata": {},
   "outputs": [],
   "source": [
    "df_tr"
   ]
  },
  {
   "cell_type": "code",
   "execution_count": null,
   "metadata": {},
   "outputs": [],
   "source": [
    "percentage = (df_tr['Before You Go Total Revenue From Cart Adds'].sum()/df_tr['Revenue'].sum()) * 100\n",
    "percentage"
   ]
  },
  {
   "cell_type": "code",
   "execution_count": null,
   "metadata": {},
   "outputs": [],
   "source": [
    "df[['Before You Go Unique Daily Users', 'Before You Go Cart Adds ',\n",
    "            'Before You Go Total Revenue From Cart Adds']].sum()"
   ]
  },
  {
   "cell_type": "code",
   "execution_count": null,
   "metadata": {},
   "outputs": [],
   "source": [
    "df[['Before You Go Unique Daily Users', 'Order Summary Unique Daily Users']]"
   ]
  },
  {
   "cell_type": "markdown",
   "metadata": {},
   "source": [
    "- the revenue made through adds are around 1% of the revenue made calculated based on every single day in September. So revenue from adds are still taking the minimum percentile."
   ]
  },
  {
   "cell_type": "code",
   "execution_count": 5,
   "metadata": {},
   "outputs": [],
   "source": [
    "def cal_ratio(a,b):\n",
    "    return (b-a)/a"
   ]
  },
  {
   "cell_type": "code",
   "execution_count": 6,
   "metadata": {},
   "outputs": [
    {
     "name": "stderr",
     "output_type": "stream",
     "text": [
      "/Users/elainny/opt/anaconda3/lib/python3.7/site-packages/ipykernel_launcher.py:2: SettingWithCopyWarning: \n",
      "A value is trying to be set on a copy of a slice from a DataFrame.\n",
      "Try using .loc[row_indexer,col_indexer] = value instead\n",
      "\n",
      "See the caveats in the documentation: http://pandas.pydata.org/pandas-docs/stable/user_guide/indexing.html#returning-a-view-versus-a-copy\n",
      "  \n",
      "/Users/elainny/opt/anaconda3/lib/python3.7/site-packages/ipykernel_launcher.py:3: SettingWithCopyWarning: \n",
      "A value is trying to be set on a copy of a slice from a DataFrame.\n",
      "Try using .loc[row_indexer,col_indexer] = value instead\n",
      "\n",
      "See the caveats in the documentation: http://pandas.pydata.org/pandas-docs/stable/user_guide/indexing.html#returning-a-view-versus-a-copy\n",
      "  This is separate from the ipykernel package so we can avoid doing imports until\n",
      "/Users/elainny/opt/anaconda3/lib/python3.7/site-packages/ipykernel_launcher.py:4: SettingWithCopyWarning: \n",
      "A value is trying to be set on a copy of a slice from a DataFrame.\n",
      "Try using .loc[row_indexer,col_indexer] = value instead\n",
      "\n",
      "See the caveats in the documentation: http://pandas.pydata.org/pandas-docs/stable/user_guide/indexing.html#returning-a-view-versus-a-copy\n",
      "  after removing the cwd from sys.path.\n",
      "/Users/elainny/opt/anaconda3/lib/python3.7/site-packages/ipykernel_launcher.py:5: SettingWithCopyWarning: \n",
      "A value is trying to be set on a copy of a slice from a DataFrame.\n",
      "Try using .loc[row_indexer,col_indexer] = value instead\n",
      "\n",
      "See the caveats in the documentation: http://pandas.pydata.org/pandas-docs/stable/user_guide/indexing.html#returning-a-view-versus-a-copy\n",
      "  \"\"\"\n"
     ]
    },
    {
     "data": {
      "text/html": [
       "<div>\n",
       "<style scoped>\n",
       "    .dataframe tbody tr th:only-of-type {\n",
       "        vertical-align: middle;\n",
       "    }\n",
       "\n",
       "    .dataframe tbody tr th {\n",
       "        vertical-align: top;\n",
       "    }\n",
       "\n",
       "    .dataframe thead th {\n",
       "        text-align: right;\n",
       "    }\n",
       "</style>\n",
       "<table border=\"1\" class=\"dataframe\">\n",
       "  <thead>\n",
       "    <tr style=\"text-align: right;\">\n",
       "      <th></th>\n",
       "      <th>Date</th>\n",
       "      <th>Customer Type</th>\n",
       "      <th>Delivery Type</th>\n",
       "      <th>Device Type</th>\n",
       "      <th>Revenue</th>\n",
       "      <th>before vs book</th>\n",
       "      <th>book vs select</th>\n",
       "      <th>select vs order</th>\n",
       "      <th>before vs order</th>\n",
       "    </tr>\n",
       "  </thead>\n",
       "  <tbody>\n",
       "    <tr>\n",
       "      <td>232</td>\n",
       "      <td>2017-09-30</td>\n",
       "      <td>Existing</td>\n",
       "      <td>Home Delivery</td>\n",
       "      <td>Mobile</td>\n",
       "      <td>1545057.32</td>\n",
       "      <td>-0.165833</td>\n",
       "      <td>-0.094988</td>\n",
       "      <td>-0.010579</td>\n",
       "      <td>-0.253055</td>\n",
       "    </tr>\n",
       "    <tr>\n",
       "      <td>233</td>\n",
       "      <td>2017-09-30</td>\n",
       "      <td>New</td>\n",
       "      <td>Store Collection</td>\n",
       "      <td>Desktop</td>\n",
       "      <td>33836.24</td>\n",
       "      <td>-0.128514</td>\n",
       "      <td>-0.080645</td>\n",
       "      <td>-0.052632</td>\n",
       "      <td>-0.240964</td>\n",
       "    </tr>\n",
       "    <tr>\n",
       "      <td>234</td>\n",
       "      <td>2017-09-30</td>\n",
       "      <td>New</td>\n",
       "      <td>Home Delivery</td>\n",
       "      <td>Desktop</td>\n",
       "      <td>283876.24</td>\n",
       "      <td>-0.175600</td>\n",
       "      <td>-0.159688</td>\n",
       "      <td>-0.027855</td>\n",
       "      <td>-0.326544</td>\n",
       "    </tr>\n",
       "    <tr>\n",
       "      <td>235</td>\n",
       "      <td>2017-09-30</td>\n",
       "      <td>New</td>\n",
       "      <td>Home Delivery</td>\n",
       "      <td>Mobile</td>\n",
       "      <td>16951.02</td>\n",
       "      <td>-0.240876</td>\n",
       "      <td>-0.217949</td>\n",
       "      <td>-0.004098</td>\n",
       "      <td>-0.408759</td>\n",
       "    </tr>\n",
       "    <tr>\n",
       "      <td>236</td>\n",
       "      <td>2017-09-30</td>\n",
       "      <td>Existing</td>\n",
       "      <td>Store Collection</td>\n",
       "      <td>Desktop</td>\n",
       "      <td>337834.12</td>\n",
       "      <td>-0.133125</td>\n",
       "      <td>-0.055516</td>\n",
       "      <td>-0.037913</td>\n",
       "      <td>-0.212292</td>\n",
       "    </tr>\n",
       "    <tr>\n",
       "      <td>237</td>\n",
       "      <td>2017-09-30</td>\n",
       "      <td>Existing</td>\n",
       "      <td>Store Collection</td>\n",
       "      <td>Mobile</td>\n",
       "      <td>323263.18</td>\n",
       "      <td>-0.148538</td>\n",
       "      <td>-0.120504</td>\n",
       "      <td>-0.048858</td>\n",
       "      <td>-0.287731</td>\n",
       "    </tr>\n",
       "    <tr>\n",
       "      <td>238</td>\n",
       "      <td>2017-09-30</td>\n",
       "      <td>Existing</td>\n",
       "      <td>Home Delivery</td>\n",
       "      <td>Desktop</td>\n",
       "      <td>1622578.18</td>\n",
       "      <td>-0.159242</td>\n",
       "      <td>-0.013274</td>\n",
       "      <td>-0.072914</td>\n",
       "      <td>-0.230892</td>\n",
       "    </tr>\n",
       "    <tr>\n",
       "      <td>239</td>\n",
       "      <td>2017-09-30</td>\n",
       "      <td>New</td>\n",
       "      <td>Store Collection</td>\n",
       "      <td>Mobile</td>\n",
       "      <td>2761.72</td>\n",
       "      <td>-0.262295</td>\n",
       "      <td>-0.022222</td>\n",
       "      <td>-0.090909</td>\n",
       "      <td>-0.344262</td>\n",
       "    </tr>\n",
       "  </tbody>\n",
       "</table>\n",
       "</div>"
      ],
      "text/plain": [
       "          Date Customer Type     Delivery Type Device Type     Revenue  \\\n",
       "232 2017-09-30      Existing     Home Delivery     Mobile   1545057.32   \n",
       "233 2017-09-30           New  Store Collection    Desktop     33836.24   \n",
       "234 2017-09-30           New     Home Delivery    Desktop    283876.24   \n",
       "235 2017-09-30           New     Home Delivery     Mobile     16951.02   \n",
       "236 2017-09-30      Existing  Store Collection    Desktop    337834.12   \n",
       "237 2017-09-30      Existing  Store Collection     Mobile    323263.18   \n",
       "238 2017-09-30      Existing     Home Delivery    Desktop   1622578.18   \n",
       "239 2017-09-30           New  Store Collection     Mobile      2761.72   \n",
       "\n",
       "     before vs book  book vs select  select vs order  before vs order  \n",
       "232       -0.165833       -0.094988        -0.010579        -0.253055  \n",
       "233       -0.128514       -0.080645        -0.052632        -0.240964  \n",
       "234       -0.175600       -0.159688        -0.027855        -0.326544  \n",
       "235       -0.240876       -0.217949        -0.004098        -0.408759  \n",
       "236       -0.133125       -0.055516        -0.037913        -0.212292  \n",
       "237       -0.148538       -0.120504        -0.048858        -0.287731  \n",
       "238       -0.159242       -0.013274        -0.072914        -0.230892  \n",
       "239       -0.262295       -0.022222        -0.090909        -0.344262  "
      ]
     },
     "execution_count": 6,
     "metadata": {},
     "output_type": "execute_result"
    }
   ],
   "source": [
    "user = df[['Date', 'Customer Type', 'Delivery Type', 'Device Type', 'Revenue']]\n",
    "user['before vs book'] = cal_ratio(df['Before You Go Unique Daily Users'], df['Book Slot Unique Daily Users'])\n",
    "user['book vs select'] = cal_ratio(df['Book Slot Unique Daily Users'], df['Select Payment Unique Daily Users'])\n",
    "user['select vs order'] = cal_ratio(df['Select Payment Unique Daily Users'], df['Order Summary Unique Daily Users'])\n",
    "user['before vs order'] = cal_ratio(df['Before You Go Unique Daily Users'], df['Order Summary Unique Daily Users'])\n",
    "user.tail(8)"
   ]
  },
  {
   "cell_type": "code",
   "execution_count": 8,
   "metadata": {},
   "outputs": [],
   "source": [
    "user.to_csv('data.csv')"
   ]
  },
  {
   "cell_type": "code",
   "execution_count": null,
   "metadata": {
    "scrolled": true
   },
   "outputs": [],
   "source": [
    "user.describe()"
   ]
  },
  {
   "cell_type": "code",
   "execution_count": null,
   "metadata": {},
   "outputs": [],
   "source": [
    "# average\n",
    "user.groupby(['Date', 'Customer Type', 'Delivery Type', 'Device Type']).mean()"
   ]
  },
  {
   "cell_type": "code",
   "execution_count": null,
   "metadata": {},
   "outputs": [],
   "source": [
    "user1 = user.query('Date == \"2017-09-01\"', inplace = False)\n",
    "user1.columns =[column.replace(\" \", \"_\") for column in user1.columns]\n",
    "user1.head(8)"
   ]
  },
  {
   "cell_type": "markdown",
   "metadata": {},
   "source": [
    "- compare the ratio of how many users don't go through check out process and leave the page with each step.\n",
    "- compare the unit(revenue/user) of each step to compare the unit change."
   ]
  },
  {
   "cell_type": "markdown",
   "metadata": {},
   "source": [
    "#### # What would you measure and how will you make decisions from there? \n",
    "I will measure elements like \n",
    "'Before You Go Unique Daily Users': to get some idea how many customers are getting into the website; \n",
    "\n",
    "'Before You Go Cart Adds': to understand how many adds are posted\n",
    "\n",
    "'Before You Go Total Revenue From Cart Adds': how efficiently the adds can work\n",
    "\n",
    "'Order Summary Unique Daily Users': if the most of customers are making orders, or are they not happy with the add"
   ]
  },
  {
   "cell_type": "markdown",
   "metadata": {},
   "source": [
    "#### # What would be the top 3 metrics to define the success of the product?  \n",
    "1. if the revenue are some how increasing\n",
    "\n",
    "2. if the customers are increasing because we can offer better/related adds\n",
    "\n",
    "3. what proportion does adds revenue take in the total revenue"
   ]
  },
  {
   "cell_type": "markdown",
   "metadata": {},
   "source": [
    "#### # What would be the dashboards/report you would build to track those? \n",
    "\n",
    "first of all, I need to calculate the total revenue to see if the total revenue is increasing or keeping in the same level. And then, calculate the proportion of cart adds revenue to the total revenue to see if adds works as what we suppose to be. If not, find if the number of total unique users to the total adds and order summary to see if adds are influencing the purchase. And finally, get the date and revenue relations."
   ]
  },
  {
   "cell_type": "code",
   "execution_count": null,
   "metadata": {},
   "outputs": [],
   "source": []
  }
 ],
 "metadata": {
  "kernelspec": {
   "display_name": "Python 3",
   "language": "python",
   "name": "python3"
  },
  "language_info": {
   "codemirror_mode": {
    "name": "ipython",
    "version": 3
   },
   "file_extension": ".py",
   "mimetype": "text/x-python",
   "name": "python",
   "nbconvert_exporter": "python",
   "pygments_lexer": "ipython3",
   "version": "3.7.4"
  }
 },
 "nbformat": 4,
 "nbformat_minor": 2
}
